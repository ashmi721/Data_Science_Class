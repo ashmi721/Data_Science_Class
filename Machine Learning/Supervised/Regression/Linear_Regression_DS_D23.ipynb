{
 "cells": [
  {
   "cell_type": "code",
   "execution_count": 91,
   "metadata": {},
   "outputs": [],
   "source": [
    "import numpy as np\n",
    "import matplotlib.pyplot as plt\n",
    "import seaborn as sns\n",
    "from sklearn.metrics import mean_squared_error,mean_absolute_error,r2_score"
   ]
  },
  {
   "cell_type": "code",
   "execution_count": 77,
   "metadata": {},
   "outputs": [],
   "source": [
    "np.random.seed(0)\n",
    "# Assuming X is your feature matrix and y is your target variable\n",
    "x = np.random.randn(500)\n",
    "y = x * 5 + np.random.randn(500)  # y = 2x + random number\n"
   ]
  },
  {
   "cell_type": "code",
   "execution_count": 78,
   "metadata": {},
   "outputs": [
    {
     "data": {
      "text/plain": [
       "array([ 9.20299416e+00,  1.96654376e+00,  5.99003677e+00,  1.09702502e+01,\n",
       "        8.99033930e+00, -5.46765788e+00,  3.11780756e+00, -2.32455377e+00,\n",
       "       -1.69525219e+00,  3.35442058e+00,  1.61547813e+00,  8.64633160e+00,\n",
       "        2.47297697e+00, -1.36024961e+00,  1.55925984e+00,  1.84419059e+00,\n",
       "        7.96908564e+00,  2.21808371e-02,  1.84961818e+00, -2.52780992e+00,\n",
       "       -1.29875548e+01,  2.35501376e+00,  2.64096278e+00, -4.59979646e+00,\n",
       "        1.15908911e+01, -8.16054863e+00,  1.16553505e+00,  4.76408456e-01,\n",
       "        5.29430917e+00,  8.21084615e+00, -1.46486693e+00,  2.29231165e+00,\n",
       "       -3.21405817e+00, -9.83912623e+00, -3.01924992e+00,  1.96313641e-01,\n",
       "        5.88980796e+00,  5.82965446e+00, -2.13953093e+00, -1.62139653e+00,\n",
       "       -5.02928478e+00, -8.30866334e+00, -8.77337078e+00,  1.12721381e+01,\n",
       "       -2.93290633e+00, -2.63420760e+00, -5.18577950e+00,  1.32826711e+00,\n",
       "       -6.88811064e+00, -1.69560516e+00, -4.31340423e+00,  2.03083385e+00,\n",
       "       -1.61155757e+00, -6.17075567e+00, -8.18936923e-01,  3.43950514e+00,\n",
       "       -2.03158771e+00,  1.53269367e+00, -4.51953589e+00, -2.57527922e+00,\n",
       "       -1.35104556e+00, -1.84236123e+00, -3.87066171e+00, -1.04129759e+01,\n",
       "        1.58086052e-01, -1.81234728e+00, -7.79623404e+00,  2.93079783e+00,\n",
       "       -4.52786392e+00,  7.86731187e-01,  4.09923472e+00, -1.18482586e+00,\n",
       "        5.73400914e+00, -5.40622669e+00,  2.60158803e+00, -3.78790926e+00,\n",
       "       -5.15961225e+00, -4.01256025e+00, -1.68881667e+00,  1.41390659e+00,\n",
       "       -7.77755331e+00,  3.84424071e+00,  1.18850974e+00, -6.89626091e+00,\n",
       "        6.88695134e+00,  9.00880822e+00,  5.67694829e+00, -4.54230928e-01,\n",
       "       -5.74615211e+00,  2.22611558e+00, -1.47257284e+00,  6.55126831e+00,\n",
       "        8.21833862e-01,  3.79915856e+00,  2.13361210e+00,  3.91210137e+00,\n",
       "       -4.17532779e-01,  8.71262100e+00, -2.95596039e-01,  1.83135773e+00,\n",
       "        7.86532414e+00, -6.32147648e+00, -7.29679348e+00,  5.08508669e+00,\n",
       "       -7.27157994e+00,  9.12804828e+00, -2.17858431e+00, -5.39797387e+00,\n",
       "        9.72985801e+00,  7.02342639e+00,  7.59543860e+00,  3.22698054e+00,\n",
       "       -3.70100834e+00,  1.04458808e+01, -1.47192549e+00,  4.41704379e+00,\n",
       "        4.96010340e+00, -4.45427483e-01,  4.35638086e+00,  3.10403496e+00,\n",
       "        2.55858839e+00, -5.87901291e+00,  1.26693194e+00,  6.32967975e+00,\n",
       "       -3.84798642e+00, -1.97436889e+00, -1.99242856e+00,  1.09172617e+01,\n",
       "        3.30534076e+00,  2.03592414e+00, -4.53687941e+00,  2.57877141e+00,\n",
       "       -2.90549688e+00, -2.11089649e-01, -3.63303443e+00,  3.78543101e+00,\n",
       "        1.96494931e+00, -7.88997151e-01,  2.80035536e+00, -4.10535900e+00,\n",
       "       -7.54666997e+00,  3.56455575e+00,  1.86777736e+00,  2.17894454e+00,\n",
       "        1.06977854e+01,  4.41743380e+00, -3.53517563e+00,  5.51279443e+00,\n",
       "       -7.18019461e+00, -7.55679844e-01, -5.43035386e-02,  6.24611933e+00,\n",
       "       -3.40661348e+00, -3.61215208e+00, -2.66653968e-01, -2.86767933e+00,\n",
       "        5.56590400e+00, -6.71805341e+00, -6.10804727e+00, -3.13471602e+00,\n",
       "       -3.42290316e+00,  8.38459192e+00,  5.19959313e+00,  5.35652352e-01,\n",
       "       -6.57534296e+00,  3.57247695e+00, -5.02449984e+00, -6.64466076e+00,\n",
       "        3.93593325e+00,  1.96158958e+00,  4.05858214e+00, -2.90947580e-01,\n",
       "        2.33844998e+00, -4.16791146e+00, -4.95170465e+00,  3.80103553e+00,\n",
       "       -4.95602989e+00, -2.43072790e+00, -8.54679021e-01,  4.83482380e-01,\n",
       "       -2.36137222e+00, -5.75033728e+00, -2.46269632e+00, -1.02496083e+01,\n",
       "        2.46969358e+00, -1.08448428e+01, -3.40512568e+00, -1.35005301e+00,\n",
       "       -3.73358305e+00,  1.00958183e+01, -6.13370779e+00,  2.28450082e+00,\n",
       "       -1.69881066e+00, -7.61813444e+00,  2.08368051e+00,  2.33018078e-01,\n",
       "        3.51270331e+00,  3.32288445e+00,  1.10141470e+01,  7.76457497e+00,\n",
       "       -3.29084939e+00, -2.40743888e+00,  4.70962872e+00,  4.37095703e+00,\n",
       "        3.43547916e+00, -5.95262681e+00,  8.14815104e-01, -3.72524972e+00,\n",
       "        2.66470083e+00, -2.79254935e-01,  3.84597319e+00,  2.26606592e+00,\n",
       "        3.23531316e+00, -2.62249258e+00, -3.39444858e+00, -2.15152995e+00,\n",
       "       -8.88243457e-01,  1.43142099e+00,  1.23183353e+01, -7.63826432e-01,\n",
       "       -5.16659585e+00, -2.24020162e+00, -2.13405438e+00,  2.02191761e+00,\n",
       "       -9.30582112e+00, -5.70870971e-01, -1.50256352e-01,  2.40422457e+00,\n",
       "       -2.17390630e+00, -6.02349269e-01, -7.62566286e+00, -3.28239096e+00,\n",
       "       -3.22182498e+00,  1.02837013e+00, -3.28371177e+00,  1.66066886e+00,\n",
       "        8.03643126e+00, -1.16344774e+01,  2.02695016e+00,  2.39653823e+00,\n",
       "       -4.36481409e+00, -3.12655537e+00,  1.09058327e+00, -1.62194282e+00,\n",
       "       -2.31076704e+00, -7.82423207e+00,  5.77200714e+00,  6.11812672e+00,\n",
       "       -5.89107795e+00, -7.02851773e+00,  3.37801922e+00, -4.54053814e+00,\n",
       "        1.15796110e+00,  9.95394871e-02,  3.44283605e+00,  4.29515166e+00,\n",
       "       -2.95741644e+00, -7.62432547e+00, -7.87492525e+00,  1.48490218e+00,\n",
       "       -6.39559933e+00, -2.26839380e+00, -2.25846970e+00, -2.38224356e-01,\n",
       "       -8.96141530e+00, -1.59013229e-01,  2.51775784e+00,  4.61389820e-01,\n",
       "        2.95160388e-01,  2.72834175e-01,  1.49621509e+00, -1.38416126e+01,\n",
       "        8.86044810e+00,  2.14322046e+00, -3.62709813e+00, -3.74609442e+00,\n",
       "        2.41012234e+00, -8.98062789e-01, -1.17858456e+01,  1.02553302e+01,\n",
       "        9.36652676e-01,  5.62216731e+00, -2.84832205e+00,  6.34038855e+00,\n",
       "        1.90861681e+00,  3.19266875e+00, -4.69722159e+00,  6.47835507e+00,\n",
       "        2.08931010e+00,  6.46783034e+00, -3.89830866e+00, -2.45521969e+00,\n",
       "        1.06221826e+01, -3.98760875e+00, -1.53872089e+00,  4.78551466e+00,\n",
       "        5.63211245e-01,  1.83766933e+00, -2.42190845e+00,  1.02031484e+00,\n",
       "       -5.12146219e+00,  9.07645722e+00, -6.48289744e-01, -3.79210807e+00,\n",
       "        4.27283302e+00, -1.89839486e+00, -6.17323995e+00, -6.75977977e+00,\n",
       "        1.78063574e+00, -9.10333173e-01, -1.20099772e+00,  6.03377430e+00,\n",
       "       -4.62228661e+00, -4.31133981e+00, -1.45601381e+00,  2.20763694e+00,\n",
       "       -8.78569977e-01,  2.47485778e-01, -1.16071786e+00, -5.13566626e-01,\n",
       "       -3.60916755e+00, -4.05346604e+00,  5.34903747e-01, -5.04575852e+00,\n",
       "       -6.45449658e+00, -1.23449866e+00, -4.58299966e-01,  1.35095618e+01,\n",
       "       -2.15251237e+00,  4.20646038e+00,  4.06081129e+00, -4.94760680e+00,\n",
       "        3.89686671e+00, -5.98904478e+00, -1.32442862e+01,  3.89887425e+00,\n",
       "       -9.62777344e+00,  1.92900284e+00, -2.94962134e+00,  8.60920105e+00,\n",
       "        5.58212976e+00, -2.63673019e+00, -2.46665227e+00, -3.93651877e+00,\n",
       "       -1.79819767e+00, -1.59495418e+00, -1.06772743e+00,  2.44386640e-01,\n",
       "        2.14291714e+00,  1.78108103e+00, -6.40351625e+00, -8.34290773e+00,\n",
       "        6.47469738e+00, -4.80063478e+00, -4.29411110e+00, -3.04269490e+00,\n",
       "       -1.08583130e+01, -2.79594182e+00, -2.93354923e+00,  3.12719670e+00,\n",
       "        4.64646978e+00,  1.91358862e-01,  4.68030389e+00,  1.79927938e+00,\n",
       "        1.48982217e-01, -2.12097807e-01, -1.06804279e+00, -1.66549633e+00,\n",
       "       -2.70942767e+00, -4.77440373e+00,  2.48358456e+00, -5.59699404e+00,\n",
       "        3.96681853e+00, -2.12548324e+00,  9.46855392e-01,  1.40796159e+00,\n",
       "        2.99409532e+00, -8.71203695e+00, -9.83564104e-01,  2.60666529e+00,\n",
       "       -7.16406745e+00,  9.71795953e-01, -1.12179265e+01, -5.32505726e+00,\n",
       "       -5.68961753e-01, -9.17135565e+00, -3.99115514e+00, -7.88481563e+00,\n",
       "        8.51184485e+00,  1.96418920e-02,  2.18926996e+00, -6.41128352e-01,\n",
       "       -8.36750248e-01, -8.25768735e+00, -2.88110669e+00, -1.80950498e+00,\n",
       "        3.43307031e+00,  4.16392193e+00,  9.92731817e+00,  3.85872740e+00,\n",
       "       -4.45500237e+00, -6.26292470e+00,  4.20086080e+00,  1.97177564e+00,\n",
       "       -9.69442145e+00,  3.60013256e+00,  3.55101943e+00, -8.90058645e-01,\n",
       "        3.54250434e-02, -2.70917959e+00, -8.05016660e+00,  2.60014245e+00,\n",
       "       -5.15133956e-01, -3.21465692e+00,  7.43698428e+00,  4.38995168e+00,\n",
       "        1.79877246e+00,  4.46371677e-01,  7.95279091e+00,  8.44517211e+00,\n",
       "        3.34883884e+00,  4.18719830e+00, -9.14800130e+00,  8.23942135e-01,\n",
       "       -6.05400756e-01,  2.80939095e+00,  4.43879759e+00, -1.39579628e+01,\n",
       "       -2.48207902e+00,  2.82084373e+00, -7.41456976e-01, -7.34310320e+00,\n",
       "        4.65314868e+00,  6.27606217e-03, -5.16749896e+00,  7.33795627e-01,\n",
       "        3.10109681e+00,  1.70803995e+00,  3.21053736e+00, -1.40305032e-01,\n",
       "       -1.61029613e+00, -4.49927732e+00,  5.14612915e-02,  3.73081980e+00,\n",
       "        4.30449583e+00, -3.16820902e-01,  2.56267871e+00, -3.38801068e+00,\n",
       "       -3.40590683e+00, -6.68176196e-01, -6.22063091e+00,  4.34568264e+00,\n",
       "        3.71699648e+00,  9.85097028e-01,  2.22346424e+00,  1.03513656e+01,\n",
       "       -1.48080128e+00, -1.18119602e+01,  3.34314802e+00, -1.53217881e+00,\n",
       "       -2.95314630e+00, -3.95605676e+00, -1.89921444e+00,  1.73667831e+00,\n",
       "       -3.01018584e+00,  1.19874634e+01, -4.79028992e+00, -2.39632720e+00,\n",
       "       -1.07526712e+01,  2.05409418e+00, -1.07399592e+01, -1.72839053e+00,\n",
       "       -1.15277101e+00, -2.15949451e+00,  1.07084235e+01,  4.66520618e+00,\n",
       "        6.18938125e+00, -5.27613908e+00,  5.49939081e+00,  2.09797928e+00,\n",
       "        4.21653414e+00,  5.00262733e+00, -4.90541551e+00, -1.05700297e+00,\n",
       "        3.37509983e+00, -1.28449875e+01,  7.16069869e+00,  3.49002883e+00,\n",
       "        1.15674174e+00,  7.99440025e-01, -4.70864351e+00, -1.57092396e+00,\n",
       "        4.70199929e+00,  6.73089737e+00,  1.37702408e+01,  4.32474890e-02,\n",
       "       -3.49116373e+00, -2.47697753e+00, -6.23782032e+00, -7.47387855e-01])"
      ]
     },
     "execution_count": 78,
     "metadata": {},
     "output_type": "execute_result"
    }
   ],
   "source": [
    "y"
   ]
  },
  {
   "cell_type": "code",
   "execution_count": 79,
   "metadata": {},
   "outputs": [
    {
     "data": {
      "text/plain": [
       "<matplotlib.collections.PathCollection at 0x2b855523810>"
      ]
     },
     "execution_count": 79,
     "metadata": {},
     "output_type": "execute_result"
    },
    {
     "data": {
      "image/png": "[encoded data removed]",
      "text/plain": [
       "<Figure size 640x480 with 1 Axes>"
      ]
     },
     "metadata": {},
     "output_type": "display_data"
    }
   ],
   "source": [
    "plt.scatter(x,y)"
   ]
  },
  {
   "cell_type": "code",
   "execution_count": 80,
   "metadata": {},
   "outputs": [
    {
     "data": {
      "text/plain": [
       "PearsonRResult(statistic=0.9811719647671322, pvalue=0.0)"
      ]
     },
     "execution_count": 80,
     "metadata": {},
     "output_type": "execute_result"
    }
   ],
   "source": [
    "from scipy.stats import pearsonr\n",
    "r = pearsonr(x,y)\n",
    "r"
   ]
  },
  {
   "cell_type": "code",
   "execution_count": 81,
   "metadata": {},
   "outputs": [],
   "source": [
    "from sklearn.linear_model import LinearRegression\n",
    "# Create a linear regression model\n",
    "model = LinearRegression()\n",
    "\n"
   ]
  },
  {
   "cell_type": "code",
   "execution_count": 82,
   "metadata": {},
   "outputs": [],
   "source": [
    "# get the linear independent variable we need 2D \n",
    "X = x.reshape(-1,1)"
   ]
  },
  {
   "cell_type": "code",
   "execution_count": 83,
   "metadata": {},
   "outputs": [
    {
     "data": {
      "text/html": [
       "<style>#sk-container-id-3 {color: black;}#sk-container-id-3 pre{padding: 0;}#sk-container-id-3 div.sk-toggleable {background-color: white;}#sk-container-id-3 label.sk-toggleable__label {cursor: pointer;display: block;width: 100%;margin-bottom: 0;padding: 0.3em;box-sizing: border-box;text-align: center;}#sk-container-id-3 label.sk-toggleable__label-arrow:before {content: \"▸\";float: left;margin-right: 0.25em;color: #696969;}#sk-container-id-3 label.sk-toggleable__label-arrow:hover:before {color: black;}#sk-container-id-3 div.sk-estimator:hover label.sk-toggleable__label-arrow:before {color: black;}#sk-container-id-3 div.sk-toggleable__content {max-height: 0;max-width: 0;overflow: hidden;text-align: left;background-color: #f0f8ff;}#sk-container-id-3 div.sk-toggleable__content pre {margin: 0.2em;color: black;border-radius: 0.25em;background-color: #f0f8ff;}#sk-container-id-3 input.sk-toggleable__control:checked~div.sk-toggleable__content {max-height: 200px;max-width: 100%;overflow: auto;}#sk-container-id-3 input.sk-toggleable__control:checked~label.sk-toggleable__label-arrow:before {content: \"▾\";}#sk-container-id-3 div.sk-estimator input.sk-toggleable__control:checked~label.sk-toggleable__label {background-color: #d4ebff;}#sk-container-id-3 div.sk-label input.sk-toggleable__control:checked~label.sk-toggleable__label {background-color: #d4ebff;}#sk-container-id-3 input.sk-hidden--visually {border: 0;clip: rect(1px 1px 1px 1px);clip: rect(1px, 1px, 1px, 1px);height: 1px;margin: -1px;overflow: hidden;padding: 0;position: absolute;width: 1px;}#sk-container-id-3 div.sk-estimator {font-family: monospace;background-color: #f0f8ff;border: 1px dotted black;border-radius: 0.25em;box-sizing: border-box;margin-bottom: 0.5em;}#sk-container-id-3 div.sk-estimator:hover {background-color: #d4ebff;}#sk-container-id-3 div.sk-parallel-item::after {content: \"\";width: 100%;border-bottom: 1px solid gray;flex-grow: 1;}#sk-container-id-3 div.sk-label:hover label.sk-toggleable__label {background-color: #d4ebff;}#sk-container-id-3 div.sk-serial::before {content: \"\";position: absolute;border-left: 1px solid gray;box-sizing: border-box;top: 0;bottom: 0;left: 50%;z-index: 0;}#sk-container-id-3 div.sk-serial {display: flex;flex-direction: column;align-items: center;background-color: white;padding-right: 0.2em;padding-left: 0.2em;position: relative;}#sk-container-id-3 div.sk-item {position: relative;z-index: 1;}#sk-container-id-3 div.sk-parallel {display: flex;align-items: stretch;justify-content: center;background-color: white;position: relative;}#sk-container-id-3 div.sk-item::before, #sk-container-id-3 div.sk-parallel-item::before {content: \"\";position: absolute;border-left: 1px solid gray;box-sizing: border-box;top: 0;bottom: 0;left: 50%;z-index: -1;}#sk-container-id-3 div.sk-parallel-item {display: flex;flex-direction: column;z-index: 1;position: relative;background-color: white;}#sk-container-id-3 div.sk-parallel-item:first-child::after {align-self: flex-end;width: 50%;}#sk-container-id-3 div.sk-parallel-item:last-child::after {align-self: flex-start;width: 50%;}#sk-container-id-3 div.sk-parallel-item:only-child::after {width: 0;}#sk-container-id-3 div.sk-dashed-wrapped {border: 1px dashed gray;margin: 0 0.4em 0.5em 0.4em;box-sizing: border-box;padding-bottom: 0.4em;background-color: white;}#sk-container-id-3 div.sk-label label {font-family: monospace;font-weight: bold;display: inline-block;line-height: 1.2em;}#sk-container-id-3 div.sk-label-container {text-align: center;}#sk-container-id-3 div.sk-container {/* jupyter's `normalize.less` sets `[hidden] { display: none; }` but bootstrap.min.css set `[hidden] { display: none !important; }` so we also need the `!important` here to be able to override the default hidden behavior on the sphinx rendered scikit-learn.org. See: https://github.com/scikit-learn/scikit-learn/issues/21755 */display: inline-block !important;position: relative;}#sk-container-id-3 div.sk-text-repr-fallback {display: none;}</style><div id=\"sk-container-id-3\" class=\"sk-top-container\"><div class=\"sk-text-repr-fallback\"><pre>LinearRegression()</pre><b>In a Jupyter environment, please rerun this cell to show the HTML representation or trust the notebook. <br />On GitHub, the HTML representation is unable to render, please try loading this page with nbviewer.org.</b></div><div class=\"sk-container\" hidden><div class=\"sk-item\"><div class=\"sk-estimator sk-toggleable\"><input class=\"sk-toggleable__control sk-hidden--visually\" id=\"sk-estimator-id-3\" type=\"checkbox\" checked><label for=\"sk-estimator-id-3\" class=\"sk-toggleable__label sk-toggleable__label-arrow\">LinearRegression</label><div class=\"sk-toggleable__content\"><pre>LinearRegression()</pre></div></div></div></div></div>"
      ],
      "text/plain": [
       "LinearRegression()"
      ]
     },
     "execution_count": 83,
     "metadata": {},
     "output_type": "execute_result"
    }
   ],
   "source": [
    "# fit the regression model\n",
    "model.fit(X,y)"
   ]
  },
  {
   "cell_type": "markdown",
   "metadata": {},
   "source": [
    "# Let's calculate slope and intercept"
   ]
  },
  {
   "cell_type": "code",
   "execution_count": 84,
   "metadata": {},
   "outputs": [
    {
     "data": {
      "text/plain": [
       "(array([4.96013459]), ' ', -0.06616974075224286)"
      ]
     },
     "execution_count": 84,
     "metadata": {},
     "output_type": "execute_result"
    }
   ],
   "source": [
    "m = model.coef_\n",
    "c = model.intercept_\n",
    "m , \" \", c"
   ]
  },
  {
   "cell_type": "markdown",
   "metadata": {},
   "source": [
    "# Pediction"
   ]
  },
  {
   "cell_type": "code",
   "execution_count": 85,
   "metadata": {},
   "outputs": [
    {
     "data": {
      "text/plain": [
       "array([19.77436862])"
      ]
     },
     "execution_count": 85,
     "metadata": {},
     "output_type": "execute_result"
    }
   ],
   "source": [
    "model.predict([[4]])"
   ]
  },
  {
   "cell_type": "code",
   "execution_count": 86,
   "metadata": {},
   "outputs": [
    {
     "data": {
      "text/plain": [
       "array([  8.68376732,   1.91866387,   4.78850239,  11.04896213,\n",
       "         9.19716925,  -4.91359956,   4.64639668,  -0.81692187,\n",
       "        -0.57814914,   1.97045409,   0.64830576,   7.14722259,\n",
       "         3.7086798 ,   0.53735472,   2.13545163,   1.58889983,\n",
       "         7.34466355,  -1.08378234,   1.4866882 ,  -4.30259956,\n",
       "       -12.72934284,   3.17586646,   4.22155015,  -3.74740813,\n",
       "        11.19211868,  -7.28001923,   0.16079866,  -0.99462683,\n",
       "         7.53662146,   7.22204752,   0.70239035,   1.80956725,\n",
       "        -4.46970654,  -9.89118682,  -1.79186083,   0.70934219,\n",
       "         6.03623762,   5.89779614,  -1.98736289,  -1.56563207,\n",
       "        -5.26713357,  -7.10964983,  -8.52949953,   9.60993878,\n",
       "        -2.59411316,  -2.23907724,  -6.28020334,   3.79028707,\n",
       "        -8.07132028,  -1.12139016,  -4.50780441,   1.85291872,\n",
       "        -2.59983197,  -5.92226428,  -0.20595739,   2.05841399,\n",
       "         0.26376463,   1.43413158,  -3.2124927 ,  -1.86541475,\n",
       "        -3.40166407,  -1.84960181,  -4.09948474,  -8.62876379,\n",
       "         0.8138878 ,  -2.05905726,  -8.15217295,   2.22929253,\n",
       "        -4.56649174,   0.19148641,   3.55021758,   0.57360286,\n",
       "         5.58541101,  -6.19107201,   1.92949895,  -3.46291996,\n",
       "        -4.3854408 ,  -2.93734199,  -1.61151223,   0.21241792,\n",
       "        -5.84546977,   4.40205088,   2.24357863,  -7.68614519,\n",
       "         7.31576145,   9.33769574,   5.78073558,  -0.95862114,\n",
       "        -5.37724686,   5.16405274,  -2.06598166,   5.99732234,\n",
       "         0.96690218,   4.77809133,   1.70145555,   3.43852827,\n",
       "        -0.01408822,   8.79198827,   0.56333132,   1.92775161,\n",
       "         9.27451117,  -6.75123608,  -6.36794633,   4.7421684 ,\n",
       "        -5.88501972,   9.57445293,  -2.11777555,  -3.77364621,\n",
       "         9.47188152,   7.27738289,   9.19717406,   4.42793371,\n",
       "        -4.33796505,   9.4080095 ,  -1.39550253,   3.91412199,\n",
       "         4.63232751,  -0.83504067,   2.97974659,   4.50809947,\n",
       "         1.80095156,  -5.51934563,   1.41313174,   6.51288283,\n",
       "        -3.51131981,  -0.8083772 ,  -2.22458992,   9.10642725,\n",
       "         3.26850274,   1.95489581,  -3.88505709,   2.60857883,\n",
       "        -3.4109505 ,   0.09171411,  -3.22005187,   3.28903044,\n",
       "         2.79379831,  -1.0993596 ,   1.89807685,  -5.48790194,\n",
       "        -7.46300811,   2.11327224,   0.76055323,   3.08367166,\n",
       "        11.75454909,   4.61857563,  -4.59389084,   5.47438139,\n",
       "        -6.59324761,  -2.35569151,  -0.40465729,   8.43224076,\n",
       "        -3.7602539 ,  -4.16541612,  -0.55450751,  -3.35711134,\n",
       "         5.52209607,  -5.42277537,  -5.7577687 ,  -2.23781609,\n",
       "        -2.53647773,   9.50456894,   4.64308524,   0.3680962 ,\n",
       "        -6.14449485,   4.12198427,  -5.02737248,  -7.72844229,\n",
       "         5.82661793,   1.50590827,   4.50141396,   1.51476232,\n",
       "         4.18382542,  -3.29534431,  -5.19615344,   3.31463081,\n",
       "        -4.05118981,  -3.48642945,  -2.32567227,   0.02052924,\n",
       "        -1.82202718,  -6.88611321,  -3.25860364, -11.09454862,\n",
       "         3.03506241,  -8.01259133,  -5.54405974,   0.19257607,\n",
       "        -3.73450174,   7.58739033,  -6.47891402,   1.25843851,\n",
       "        -0.26101781,  -5.8600707 ,   2.52935292,  -0.91706263,\n",
       "         3.76201527,   4.0185217 ,  10.66377172,   6.56318877,\n",
       "        -1.89736135,  -1.25352268,   5.38828986,   3.18402656,\n",
       "         3.10896878,  -8.08648935,  -0.18683059,  -3.72690238,\n",
       "         1.32229395,  -0.55300888,   4.44844014,   1.5072753 ,\n",
       "         3.83412278,  -2.37967124,  -4.75075028,  -2.10007141,\n",
       "        -0.15059328,   1.8144739 ,  11.14030674,  -0.2757709 ,\n",
       "        -4.8077856 ,  -1.78228591,  -2.36566817,   2.32204317,\n",
       "        -7.70873031,   0.24761826,   0.71012375,   1.08547945,\n",
       "        -3.02893784,  -1.24629354,  -7.12970351,  -2.51310276,\n",
       "        -2.75883573,   1.99749449,  -5.80099021,   3.80867799,\n",
       "         7.34667474, -10.33357407,   2.04813093,   3.29138522,\n",
       "        -3.22794318,  -2.03669141,  -0.72527529,  -1.54325258,\n",
       "        -1.59891566,  -8.37937419,   5.64954991,   5.28888378,\n",
       "        -4.10056594,  -7.33983177,   2.51838218,  -2.92215557,\n",
       "         0.63793705,  -1.65008167,   3.36395554,   3.37987952,\n",
       "        -3.6652304 ,  -6.92784115,  -7.91775724,   2.96139413,\n",
       "        -5.96307167,  -2.58004707,  -3.02396763,  -0.32691061,\n",
       "        -9.67037818,   0.87019751,   2.53240025,   0.37241571,\n",
       "        -1.60820699,   0.41694819,   1.91315384, -13.81860298,\n",
       "         9.63541856,   1.86874564,  -3.30220412,  -2.0053511 ,\n",
       "         2.38285593,  -0.6420609 , -10.13863801,  10.17399271,\n",
       "        -0.61446628,   4.99402422,  -3.49883013,   7.55446723,\n",
       "         1.3541335 ,   2.95377762,  -5.25076712,   5.9412739 ,\n",
       "         3.3554212 ,   6.39116277,  -3.18156857,  -2.45212899,\n",
       "        11.36156717,  -5.32399089,  -0.74049855,   5.57296443,\n",
       "         0.41855925,   2.82535897,  -2.04749069,   1.76935727,\n",
       "        -6.54671877,   8.1583816 ,  -0.65227931,  -3.43994518,\n",
       "         3.23918004,  -2.35140189,  -6.68427134,  -6.74606983,\n",
       "         3.37503847,  -0.85767547,  -0.72934747,   5.27958459,\n",
       "        -5.65537741,  -3.69042974,  -1.9752254 ,   0.40182684,\n",
       "        -0.27534582,  -1.48916883,  -0.37184499,  -0.59841835,\n",
       "        -3.63550436,  -4.09872439,   1.29546834,  -4.48522846,\n",
       "        -5.8068076 ,  -1.61518134,  -0.84821936,  11.12748254,\n",
       "        -3.56157796,   4.61253041,   3.63998496,  -5.96349674,\n",
       "         3.7692691 ,  -5.93837706, -13.25602194,   2.9412567 ,\n",
       "        -8.77562336,   2.17052588,  -3.45895585,   8.16542557,\n",
       "         5.23378069,  -2.31502435,  -3.47793687,  -6.08815706,\n",
       "        -2.25320534,  -1.45677073,  -1.87509881,   0.71110247,\n",
       "         2.80337475,   1.66816343,  -3.85642645,  -7.19780896,\n",
       "         6.70209188,  -3.48593049,  -3.30163379,  -2.65133888,\n",
       "        -9.20804277,  -2.43698513,  -2.44532714,   3.01089091,\n",
       "         3.39827172,  -0.04746562,   4.55592361,   1.62010233,\n",
       "        -0.14395512,   0.73205563,  -1.01183673,  -2.02467647,\n",
       "        -1.39416412,  -5.66125776,   1.32485886,  -4.99219652,\n",
       "         4.1084346 ,  -1.30351787,   0.17933203,   2.38332714,\n",
       "         3.12475659,  -7.85667324,  -1.09243982,   4.29963613,\n",
       "        -8.48900315,   1.85479354, -11.2540719 ,  -5.1379413 ,\n",
       "         0.125443  ,  -8.28369963,  -4.95443564,  -7.36666947,\n",
       "         8.10880135,   0.74842203,   2.74766639,  -1.17066821,\n",
       "        -1.81923878,  -8.08409928,  -1.51372234,  -3.8432736 ,\n",
       "         4.18924839,   5.5938491 ,   7.20825808,   4.16260262,\n",
       "        -3.03557384,  -5.60116898,   3.73658283,   1.70109059,\n",
       "        -8.83835848,   1.6970678 ,   3.97395821,   0.22610911,\n",
       "        -0.98406086,  -4.07221494,  -7.24117654,   3.9034158 ,\n",
       "        -1.59941899,  -1.2241958 ,   8.52836055,   3.32904788,\n",
       "         1.77317218,   0.63847593,   7.47320935,   8.46322466,\n",
       "         4.54430071,   2.82174259, -10.45568289,   0.54750761,\n",
       "        -0.71151774,   0.39985092,   4.61146578, -13.65533722,\n",
       "        -2.89003415,   1.27259219,  -2.38178648,  -7.09421476,\n",
       "         4.24400611,   1.30715218,  -4.88297911,   1.49536597,\n",
       "         4.00900597,  -0.0399175 ,   3.90473943,   0.32201126,\n",
       "        -2.02655869,  -5.81705155,  -0.49239791,   0.89754938,\n",
       "         4.27807864,  -0.63711828,   2.20267323,  -4.85077516,\n",
       "        -3.94811569,  -0.61371552,  -5.29726887,   4.00236993,\n",
       "         2.23101903,   1.31818281,   1.61484033,   9.95847834,\n",
       "        -2.39179922, -10.98561481,   0.92238606,  -0.31717011,\n",
       "        -2.63313384,  -4.92129758,  -2.24460888,   0.83329327,\n",
       "        -2.56020825,  11.8999252 ,  -4.83040075,  -4.00013861,\n",
       "       -11.41803317,   1.18122681, -10.067818  ,  -2.74193733,\n",
       "        -1.43353269,  -3.58651597,   8.55887278,   4.86616028,\n",
       "         6.47692671,  -4.44308585,   5.53180872,   2.39406171,\n",
       "         3.76010759,   5.0399854 ,  -4.57375775,  -2.17084225,\n",
       "         4.21242257, -13.23839786,   7.44014123,   2.67743974,\n",
       "        -0.29286754,   1.02757791,  -5.17478737,  -1.80193593,\n",
       "         5.39138866,   6.37219394,  13.30746445,  -0.43284604,\n",
       "        -3.33268109,  -2.61683942,  -5.11579446,  -0.45233981])"
      ]
     },
     "execution_count": 86,
     "metadata": {},
     "output_type": "execute_result"
    }
   ],
   "source": [
    "# To find the error\n",
    "y_pred = model.predict(X)\n",
    "y_pred"
   ]
  },
  {
   "cell_type": "code",
   "execution_count": 68,
   "metadata": {},
   "outputs": [
    {
     "data": {
      "text/plain": [
       "array([ 5.19226840e-01,  4.78798912e-02,  1.20153438e+00, -7.87119358e-02,\n",
       "       -2.06829948e-01, -5.54058319e-01, -1.52858912e+00, -1.50763190e+00,\n",
       "       -1.11710305e+00,  1.38396649e+00,  9.67172370e-01,  1.49910902e+00,\n",
       "       -1.23570283e+00, -1.89760432e+00, -5.76191790e-01,  2.55290758e-01,\n",
       "        6.24422090e-01,  1.10596318e+00,  3.62929984e-01,  1.77478965e+00,\n",
       "       -2.58211924e-01, -8.20852704e-01, -1.58058737e+00, -8.52388330e-01,\n",
       "        3.98772399e-01, -8.80529400e-01,  1.00473639e+00,  1.47103529e+00,\n",
       "       -2.24231229e+00,  9.88798630e-01, -2.16725728e+00,  4.82744400e-01,\n",
       "        1.25564836e+00,  5.20605849e-02, -1.22738909e+00, -5.13028548e-01,\n",
       "       -1.46429663e-01, -6.81416781e-02, -1.52168042e-01, -5.57644615e-02,\n",
       "        2.37848796e-01, -1.19901351e+00, -2.43871249e-01,  1.66219937e+00,\n",
       "       -3.38793175e-01, -3.95130364e-01,  1.09442384e+00, -2.46201995e+00,\n",
       "        1.18320964e+00, -5.74214996e-01,  1.94400172e-01,  1.77915123e-01,\n",
       "        9.88274404e-01, -2.48491391e-01, -6.12979537e-01,  1.38109116e+00,\n",
       "       -2.29535234e+00,  9.85620885e-02, -1.30704319e+00, -7.09864473e-01,\n",
       "        2.05061851e+00,  7.24058031e-03,  2.28823028e-01, -1.78421208e+00,\n",
       "       -6.55801752e-01,  2.46709980e-01,  3.55938909e-01,  7.01505299e-01,\n",
       "        3.86278189e-02,  5.95244774e-01,  5.49017147e-01, -1.75842871e+00,\n",
       "        1.48598137e-01,  7.84845312e-01,  6.72089076e-01, -3.24989304e-01,\n",
       "       -7.74171452e-01, -1.07521826e+00, -7.73044400e-02,  1.20148867e+00,\n",
       "       -1.93208354e+00, -5.57810172e-01, -1.05506889e+00,  7.89884278e-01,\n",
       "       -4.28810103e-01, -3.28887519e-01, -1.03787299e-01,  5.04390214e-01,\n",
       "       -3.68905249e-01, -2.93793716e+00,  5.93408818e-01,  5.53945972e-01,\n",
       "       -1.45068320e-01, -9.78932765e-01,  4.32156544e-01,  4.73573103e-01,\n",
       "       -4.03444554e-01, -7.93672714e-02, -8.58927359e-01, -9.63938808e-02,\n",
       "       -1.40918703e+00,  4.29759595e-01, -9.28847155e-01,  3.42918285e-01,\n",
       "       -1.38656022e+00, -4.46404651e-01, -6.08087543e-02, -1.62432766e+00,\n",
       "        2.57976485e-01, -2.53956494e-01, -1.60173545e+00, -1.20095317e+00,\n",
       "        6.36956710e-01,  1.03787125e+00, -7.64229631e-02,  5.02921806e-01,\n",
       "        3.27775892e-01,  3.89613182e-01,  1.37663427e+00, -1.40406451e+00,\n",
       "        7.57636831e-01, -3.59667277e-01, -1.46199807e-01, -1.83203073e-01,\n",
       "       -3.36666608e-01, -1.16599169e+00,  2.32161366e-01,  1.81083443e+00,\n",
       "        3.68380260e-02,  8.10283309e-02, -6.51822316e-01, -2.98074159e-02,\n",
       "        5.05453619e-01, -3.02803762e-01, -4.12982565e-01,  4.96400571e-01,\n",
       "       -8.28849000e-01,  3.10362453e-01,  9.02278508e-01,  1.38254294e+00,\n",
       "       -8.36618610e-02,  1.45128351e+00,  1.10722413e+00, -9.04727111e-01,\n",
       "       -1.05676373e+00, -2.01141836e-01,  1.05871520e+00,  3.84130448e-02,\n",
       "       -5.86947005e-01,  1.60001166e+00,  3.50353749e-01, -2.18612143e+00,\n",
       "        3.53640411e-01,  5.53264045e-01,  2.87853545e-01,  4.89432007e-01,\n",
       "        4.38079341e-02, -1.29527804e+00, -3.50278570e-01, -8.96899930e-01,\n",
       "       -8.86425438e-01, -1.11997702e+00,  5.56507883e-01,  1.67556152e-01,\n",
       "       -4.30848111e-01, -5.49507311e-01,  2.87264141e-03,  1.08378154e+00,\n",
       "       -1.89068468e+00,  4.55681309e-01, -4.42831819e-01, -1.80570990e+00,\n",
       "       -1.84537544e+00, -8.72567155e-01,  2.44448782e-01,  4.86404719e-01,\n",
       "       -9.04840087e-01,  1.05570155e+00,  1.47099325e+00,  4.62953140e-01,\n",
       "       -5.39345039e-01,  1.13577593e+00,  7.95907325e-01,  8.44940275e-01,\n",
       "       -5.65368826e-01, -2.83225145e+00,  2.13893407e+00, -1.54262908e+00,\n",
       "        9.18687258e-04,  2.50842800e+00,  3.45206227e-01,  1.02606231e+00,\n",
       "       -1.43779285e+00, -1.75806374e+00, -4.45672413e-01,  1.15008071e+00,\n",
       "       -2.49311961e-01, -6.95637250e-01,  3.50375317e-01,  1.20138619e+00,\n",
       "       -1.39348804e+00, -1.15391620e+00, -6.78661134e-01,  1.18693047e+00,\n",
       "        3.26510372e-01,  2.13386254e+00,  1.00164570e+00,  1.65265953e-03,\n",
       "        1.34240689e+00,  2.73753948e-01, -6.02466957e-01,  7.58790619e-01,\n",
       "       -5.98809627e-01, -2.42821348e-01,  1.35630170e+00, -5.14585444e-02,\n",
       "       -7.37650172e-01, -3.83052912e-01,  1.17802860e+00, -4.88055531e-01,\n",
       "       -3.58810245e-01, -4.57915704e-01,  2.31613792e-01, -3.00125564e-01,\n",
       "       -1.59709081e+00, -8.18489236e-01, -8.60380104e-01,  1.31874512e+00,\n",
       "        8.55031533e-01,  6.43944273e-01, -4.95959348e-01, -7.69288200e-01,\n",
       "       -4.62989256e-01, -9.69124356e-01,  2.51727845e+00, -2.14800913e+00,\n",
       "        6.89756514e-01, -1.30090336e+00, -2.11807719e-02, -8.94846986e-01,\n",
       "       -1.13687091e+00, -1.08986396e+00,  1.81585856e+00, -7.86902369e-02,\n",
       "       -7.11851382e-01,  5.55142127e-01,  1.22457225e-01,  8.29242937e-01,\n",
       "       -1.79051201e+00,  3.11314039e-01,  8.59637042e-01, -1.61838257e+00,\n",
       "        5.20024046e-01,  1.74962116e+00,  7.88805128e-02,  9.15272137e-01,\n",
       "        7.07813955e-01, -6.96484327e-01,  4.28319881e-02, -1.47649195e+00,\n",
       "       -4.32527657e-01,  3.11653274e-01,  7.65497931e-01,  8.86862492e-02,\n",
       "        7.08962884e-01, -1.02921074e+00, -1.46424037e-02,  8.89741080e-02,\n",
       "        1.90336738e+00, -1.44114018e-01, -4.16938751e-01, -2.30095808e-02,\n",
       "       -7.74970459e-01,  2.74474820e-01, -3.24894011e-01, -1.74074332e+00,\n",
       "        2.72664077e-02, -2.56001884e-01, -1.64720763e+00,  8.13374393e-02,\n",
       "        1.55111895e+00,  6.28143092e-01,  6.50508083e-01, -1.21407868e+00,\n",
       "        5.54483318e-01,  2.38891131e-01,  5.53545526e-01,  5.37081165e-01,\n",
       "       -1.26611110e+00,  7.66675621e-02, -7.16740087e-01, -3.09069655e-03,\n",
       "       -7.39384604e-01,  1.33638214e+00, -7.98222338e-01, -7.87449776e-01,\n",
       "        1.44651993e-01, -9.87689642e-01, -3.74417761e-01, -7.49042427e-01,\n",
       "        1.42525658e+00,  9.18075626e-01,  3.98956425e-03, -3.52162894e-01,\n",
       "        1.03365299e+00,  4.53007038e-01,  5.11031385e-01, -1.37099413e-02,\n",
       "       -1.59440274e+00, -5.26577022e-02, -4.71650246e-01,  7.54189712e-01,\n",
       "        1.03309080e+00, -6.20910072e-01,  5.19211584e-01,  1.80581010e+00,\n",
       "       -6.03224162e-01,  1.73665461e+00, -7.88872868e-01,  8.48517276e-02,\n",
       "        2.63368053e-02,  4.52583423e-02, -7.60564594e-01, -5.60530058e-01,\n",
       "       -6.47688987e-01,  3.80682678e-01,  3.89919395e-01,  2.38207928e+00,\n",
       "        1.40906558e+00, -4.06070026e-01,  4.20826325e-01,  1.01588994e+00,\n",
       "        1.27597612e-01, -5.06677241e-02,  1.17356936e-02,  9.57617546e-01,\n",
       "       -8.52150079e-01, -2.41523041e-01,  5.09334511e-01,  4.43775484e-01,\n",
       "        3.48349065e-01, -3.21705836e-01,  1.01128460e+00,  2.15163830e+00,\n",
       "        4.55007673e-01, -1.38183447e-01,  8.07371372e-01, -4.66715833e-01,\n",
       "       -6.60457608e-01,  1.12917606e-01, -2.54708980e+00, -1.14509877e+00,\n",
       "       -2.27394494e-01, -1.31470429e+00, -9.92477313e-01, -3.91356022e-01,\n",
       "       -1.65027027e+00, -3.58956685e-01, -4.88222099e-01,  1.16305787e-01,\n",
       "        1.24819805e+00,  2.38824485e-01,  1.24380279e-01,  1.79177041e-01,\n",
       "        2.92937342e-01, -9.44153441e-01, -5.62060636e-02,  3.59180145e-01,\n",
       "       -1.31526355e+00,  8.86854030e-01,  1.15872570e+00, -6.04797527e-01,\n",
       "       -1.41616076e-01, -8.21965370e-01,  7.67523362e-01, -9.75365541e-01,\n",
       "       -1.30661275e-01, -8.55363712e-01,  1.08875718e-01, -1.69297084e+00,\n",
       "        1.32493570e+00, -8.82997589e-01,  3.61454324e-02, -1.87115958e-01,\n",
       "       -6.94404748e-01, -8.87656022e-01,  9.63280495e-01, -5.18146158e-01,\n",
       "        4.03043499e-01, -7.28780138e-01, -5.58396432e-01,  5.29539857e-01,\n",
       "        9.82488536e-01, -1.73588067e-01, -1.36738435e+00,  2.03376862e+00,\n",
       "       -7.56178079e-01, -1.42992717e+00,  2.71906009e+00, -3.03875221e-01,\n",
       "       -1.41942853e+00, -6.61755716e-01,  4.64277978e-01,  2.70685057e-01,\n",
       "       -8.56062966e-01,  1.90306477e+00, -4.22938771e-01, -1.11616776e+00,\n",
       "        1.01948590e+00,  1.36303535e+00, -8.08990055e-01, -1.30327335e+00,\n",
       "        1.08428503e+00, -1.99046112e+00, -1.09137628e+00,  1.06090381e+00,\n",
       "        2.56002832e-02, -1.92104256e-01,  4.79581565e-01, -1.80525510e-02,\n",
       "       -1.19546188e+00,  1.36545571e+00,  1.30768158e+00,  2.76434529e-01,\n",
       "        1.06116989e-01,  2.40954003e+00, -1.72668186e-01, -3.02625593e-01,\n",
       "        4.07955132e-01,  1.54825154e+00,  1.64032951e+00, -2.48888433e-01,\n",
       "        4.09142572e-01, -1.30087611e+00, -2.84519848e-01, -7.61570338e-01,\n",
       "       -9.07909161e-01,  1.74795745e+00, -6.94202077e-01, -4.62316293e-01,\n",
       "        4.16262563e-01,  1.31777423e+00,  5.43859202e-01,  2.83327042e+00,\n",
       "        2.64171941e-02,  3.20297375e-01,  3.60005475e-01,  1.46276447e+00,\n",
       "        5.42208860e-01, -5.44606742e-02, -9.23362050e-01,  3.43312713e-01,\n",
       "        1.48597745e+00, -3.33085786e-01,  6.08623911e-01,  3.92887258e-01,\n",
       "        9.10997936e-01, -8.26345358e-01,  2.42076196e+00, -1.21500870e+00,\n",
       "       -3.20012458e-01,  9.65240829e-01,  3.45394443e-01,  9.03385031e-01,\n",
       "       -4.49977587e-01,  8.75382117e-02,  4.01108240e-02,  1.60381141e+00,\n",
       "        6.65361990e-01,  8.72867378e-01, -6.72141228e-01,  1.01354680e+00,\n",
       "        2.80761686e-01,  1.42702146e+00,  2.14955077e+00, -2.00954096e-01,\n",
       "       -2.87545458e-01, -8.33053238e-01, -3.24179065e-02, -2.96082427e-01,\n",
       "        4.56426554e-01, -3.73580758e-02, -3.31657759e-01,  1.11383928e+00,\n",
       "       -8.37322747e-01,  3.93410352e-01, -2.79442543e-01,  8.12589082e-01,\n",
       "        1.44960928e+00, -2.28137885e-01,  4.66143856e-01,  2.31011971e-01,\n",
       "       -6.89389373e-01,  3.58703428e-01,  4.62776322e-01,  4.76093524e-01,\n",
       "       -1.58482640e-01,  1.39861893e-01, -1.12202586e+00, -2.95048046e-01])"
      ]
     },
     "execution_count": 68,
     "metadata": {},
     "output_type": "execute_result"
    }
   ],
   "source": [
    "residual = y- y_pred\n",
    "residual"
   ]
  },
  {
   "cell_type": "code",
   "execution_count": 88,
   "metadata": {},
   "outputs": [
    {
     "data": {
      "text/plain": [
       "<Axes: ylabel='Count'>"
      ]
     },
     "execution_count": 88,
     "metadata": {},
     "output_type": "execute_result"
    },
    {
     "data": {
      "image/png": "[encoded data removed]",
      "text/plain": [
       "<Figure size 640x480 with 1 Axes>"
      ]
     },
     "metadata": {},
     "output_type": "display_data"
    }
   ],
   "source": [
    "sns.histplot(residual,kde=True)"
   ]
  },
  {
   "cell_type": "code",
   "execution_count": 90,
   "metadata": {},
   "outputs": [
    {
     "data": {
      "text/plain": [
       "<matplotlib.collections.PathCollection at 0x2b855735ad0>"
      ]
     },
     "execution_count": 90,
     "metadata": {},
     "output_type": "execute_result"
    },
    {
     "data": {
      "image/png": "[encoded data removed]",
      "text/plain": [
       "<Figure size 640x480 with 1 Axes>"
      ]
     },
     "metadata": {},
     "output_type": "display_data"
    }
   ],
   "source": [
    "plt.scatter(x= X, y = residual)"
   ]
  },
  {
   "cell_type": "markdown",
   "metadata": {},
   "source": [
    "# Evaluation of linear regression"
   ]
  },
  {
   "cell_type": "code",
   "execution_count": 92,
   "metadata": {},
   "outputs": [
    {
     "data": {
      "text/plain": [
       "0.7686961979432072"
      ]
     },
     "execution_count": 92,
     "metadata": {},
     "output_type": "execute_result"
    }
   ],
   "source": [
    "mean_absolute_error(y,y_pred)"
   ]
  },
  {
   "cell_type": "code",
   "execution_count": 93,
   "metadata": {},
   "outputs": [
    {
     "data": {
      "text/plain": [
       "0.949776362332797"
      ]
     },
     "execution_count": 93,
     "metadata": {},
     "output_type": "execute_result"
    }
   ],
   "source": [
    "mean_squared_error(y,y_pred)"
   ]
  },
  {
   "cell_type": "code",
   "execution_count": 95,
   "metadata": {},
   "outputs": [
    {
     "data": {
      "text/plain": [
       "0.9626984244449942"
      ]
     },
     "execution_count": 95,
     "metadata": {},
     "output_type": "execute_result"
    }
   ],
   "source": [
    "r2_score(y,y_pred) # accuracy"
   ]
  }
 ],
 "metadata": {
  "kernelspec": {
   "display_name": "Python 3",
   "language": "python",
   "name": "python3"
  },
  "language_info": {
   "codemirror_mode": {
    "name": "ipython",
    "version": 3
   },
   "file_extension": ".py",
   "mimetype": "text/x-python",
   "name": "python",
   "nbconvert_exporter": "python",
   "pygments_lexer": "ipython3",
   "version": "3.11.4"
  }
 },
 "nbformat": 4,
 "nbformat_minor": 2
}
