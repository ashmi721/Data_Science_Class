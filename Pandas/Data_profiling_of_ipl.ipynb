{
  "cells": [
    {
      "cell_type": "code",
      "execution_count": 1,
      "metadata": {
        "id": "QWb92v76vY6G"
      },
      "outputs": [],
      "source": [
        "import pandas as pd\n",
        "import matplotlib.pyplot as plt\n",
        "import seaborn as sns\n"
      ]
    },
    {
      "cell_type": "code",
      "execution_count": 2,
      "metadata": {
        "colab": {
          "base_uri": "https://localhost:8080/",
          "height": 434
        },
        "id": "nQieG7F3va6H",
        "outputId": "d58bb410-8da2-4112-fb87-1e759c0cd62a"
      },
      "outputs": [
        {
          "data": {
            "text/html": [
              "<div>\n",
              "<style scoped>\n",
              "    .dataframe tbody tr th:only-of-type {\n",
              "        vertical-align: middle;\n",
              "    }\n",
              "\n",
              "    .dataframe tbody tr th {\n",
              "        vertical-align: top;\n",
              "    }\n",
              "\n",
              "    .dataframe thead th {\n",
              "        text-align: right;\n",
              "    }\n",
              "</style>\n",
              "<table border=\"1\" class=\"dataframe\">\n",
              "  <thead>\n",
              "    <tr style=\"text-align: right;\">\n",
              "      <th></th>\n",
              "      <th>match_id</th>\n",
              "      <th>date</th>\n",
              "      <th>venue</th>\n",
              "      <th>team1</th>\n",
              "      <th>team2</th>\n",
              "      <th>stage</th>\n",
              "      <th>toss_winner</th>\n",
              "      <th>toss_decision</th>\n",
              "      <th>first_ings_score</th>\n",
              "      <th>first_ings_wkts</th>\n",
              "      <th>second_ings_score</th>\n",
              "      <th>second_ings_wkts</th>\n",
              "      <th>match_winner</th>\n",
              "      <th>won_by</th>\n",
              "      <th>margin</th>\n",
              "      <th>player_of_the_match</th>\n",
              "      <th>top_scorer</th>\n",
              "      <th>highscore</th>\n",
              "      <th>best_bowling</th>\n",
              "      <th>best_bowling_figure</th>\n",
              "    </tr>\n",
              "  </thead>\n",
              "  <tbody>\n",
              "    <tr>\n",
              "      <th>0</th>\n",
              "      <td>1</td>\n",
              "      <td>March 26,2022</td>\n",
              "      <td>Wankhede Stadium, Mumbai</td>\n",
              "      <td>Chennai</td>\n",
              "      <td>Kolkata</td>\n",
              "      <td>Group</td>\n",
              "      <td>Kolkata</td>\n",
              "      <td>Field</td>\n",
              "      <td>131</td>\n",
              "      <td>5</td>\n",
              "      <td>133</td>\n",
              "      <td>4</td>\n",
              "      <td>Kolkata</td>\n",
              "      <td>Wickets</td>\n",
              "      <td>6</td>\n",
              "      <td>Umesh Yadav</td>\n",
              "      <td>MS Dhoni</td>\n",
              "      <td>50</td>\n",
              "      <td>Dwayne Bravo</td>\n",
              "      <td>3--20</td>\n",
              "    </tr>\n",
              "    <tr>\n",
              "      <th>1</th>\n",
              "      <td>2</td>\n",
              "      <td>March 27,2022</td>\n",
              "      <td>Brabourne Stadium, Mumbai</td>\n",
              "      <td>Delhi</td>\n",
              "      <td>Mumbai</td>\n",
              "      <td>Group</td>\n",
              "      <td>Delhi</td>\n",
              "      <td>Field</td>\n",
              "      <td>177</td>\n",
              "      <td>5</td>\n",
              "      <td>179</td>\n",
              "      <td>6</td>\n",
              "      <td>Delhi</td>\n",
              "      <td>Wickets</td>\n",
              "      <td>4</td>\n",
              "      <td>Kuldeep Yadav</td>\n",
              "      <td>Ishan Kishan</td>\n",
              "      <td>81</td>\n",
              "      <td>Kuldeep Yadav</td>\n",
              "      <td>3--18</td>\n",
              "    </tr>\n",
              "    <tr>\n",
              "      <th>2</th>\n",
              "      <td>3</td>\n",
              "      <td>March 27,2022</td>\n",
              "      <td>Dr DY Patil Sports Academy, Mumbai</td>\n",
              "      <td>Banglore</td>\n",
              "      <td>Punjab</td>\n",
              "      <td>Group</td>\n",
              "      <td>Punjab</td>\n",
              "      <td>Field</td>\n",
              "      <td>205</td>\n",
              "      <td>2</td>\n",
              "      <td>208</td>\n",
              "      <td>5</td>\n",
              "      <td>Punjab</td>\n",
              "      <td>Wickets</td>\n",
              "      <td>5</td>\n",
              "      <td>Odean Smith</td>\n",
              "      <td>Faf du Plessis</td>\n",
              "      <td>88</td>\n",
              "      <td>Mohammed Siraj</td>\n",
              "      <td>2--59</td>\n",
              "    </tr>\n",
              "    <tr>\n",
              "      <th>3</th>\n",
              "      <td>4</td>\n",
              "      <td>March 28,2022</td>\n",
              "      <td>Wankhede Stadium, Mumbai</td>\n",
              "      <td>Gujarat</td>\n",
              "      <td>Lucknow</td>\n",
              "      <td>Group</td>\n",
              "      <td>Gujarat</td>\n",
              "      <td>Field</td>\n",
              "      <td>158</td>\n",
              "      <td>6</td>\n",
              "      <td>161</td>\n",
              "      <td>5</td>\n",
              "      <td>Gujarat</td>\n",
              "      <td>Wickets</td>\n",
              "      <td>5</td>\n",
              "      <td>Mohammed Shami</td>\n",
              "      <td>Deepak Hooda</td>\n",
              "      <td>55</td>\n",
              "      <td>Mohammed Shami</td>\n",
              "      <td>3--25</td>\n",
              "    </tr>\n",
              "    <tr>\n",
              "      <th>4</th>\n",
              "      <td>5</td>\n",
              "      <td>March 29,2022</td>\n",
              "      <td>Maharashtra Cricket Association Stadium,Pune</td>\n",
              "      <td>Hyderabad</td>\n",
              "      <td>Rajasthan</td>\n",
              "      <td>Group</td>\n",
              "      <td>Hyderabad</td>\n",
              "      <td>Field</td>\n",
              "      <td>210</td>\n",
              "      <td>6</td>\n",
              "      <td>149</td>\n",
              "      <td>7</td>\n",
              "      <td>Rajasthan</td>\n",
              "      <td>Runs</td>\n",
              "      <td>61</td>\n",
              "      <td>Sanju Samson</td>\n",
              "      <td>Aiden Markram</td>\n",
              "      <td>57</td>\n",
              "      <td>Yuzvendra Chahal</td>\n",
              "      <td>3--22</td>\n",
              "    </tr>\n",
              "  </tbody>\n",
              "</table>\n",
              "</div>"
            ],
            "text/plain": [
              "   match_id           date                                         venue  \\\n",
              "0         1  March 26,2022                      Wankhede Stadium, Mumbai   \n",
              "1         2  March 27,2022                     Brabourne Stadium, Mumbai   \n",
              "2         3  March 27,2022            Dr DY Patil Sports Academy, Mumbai   \n",
              "3         4  March 28,2022                      Wankhede Stadium, Mumbai   \n",
              "4         5  March 29,2022  Maharashtra Cricket Association Stadium,Pune   \n",
              "\n",
              "       team1      team2  stage toss_winner toss_decision  first_ings_score  \\\n",
              "0    Chennai    Kolkata  Group     Kolkata         Field               131   \n",
              "1      Delhi     Mumbai  Group       Delhi         Field               177   \n",
              "2   Banglore     Punjab  Group      Punjab         Field               205   \n",
              "3    Gujarat    Lucknow  Group     Gujarat         Field               158   \n",
              "4  Hyderabad  Rajasthan  Group   Hyderabad         Field               210   \n",
              "\n",
              "   first_ings_wkts  second_ings_score  second_ings_wkts match_winner   won_by  \\\n",
              "0                5                133                 4      Kolkata  Wickets   \n",
              "1                5                179                 6        Delhi  Wickets   \n",
              "2                2                208                 5       Punjab  Wickets   \n",
              "3                6                161                 5      Gujarat  Wickets   \n",
              "4                6                149                 7    Rajasthan     Runs   \n",
              "\n",
              "   margin player_of_the_match      top_scorer  highscore      best_bowling  \\\n",
              "0       6         Umesh Yadav        MS Dhoni         50      Dwayne Bravo   \n",
              "1       4       Kuldeep Yadav    Ishan Kishan         81     Kuldeep Yadav   \n",
              "2       5         Odean Smith  Faf du Plessis         88    Mohammed Siraj   \n",
              "3       5      Mohammed Shami    Deepak Hooda         55    Mohammed Shami   \n",
              "4      61        Sanju Samson   Aiden Markram         57  Yuzvendra Chahal   \n",
              "\n",
              "  best_bowling_figure  \n",
              "0               3--20  \n",
              "1               3--18  \n",
              "2               2--59  \n",
              "3               3--25  \n",
              "4               3--22  "
            ]
          },
          "execution_count": 2,
          "metadata": {},
          "output_type": "execute_result"
        }
      ],
      "source": [
        "df = pd.read_csv('csv_data/Book_ipl22_ver_33.csv')\n",
        "df.head()"
      ]
    },
    {
      "cell_type": "code",
      "execution_count": 3,
      "metadata": {
        "colab": {
          "base_uri": "https://localhost:8080/"
        },
        "id": "o3-s9dKGwapZ",
        "outputId": "f8159728-532b-4ff8-9438-008a274a1e91"
      },
      "outputs": [
        {
          "data": {
            "text/plain": [
              "(74, 20)"
            ]
          },
          "execution_count": 3,
          "metadata": {},
          "output_type": "execute_result"
        }
      ],
      "source": [
        "df.shape"
      ]
    },
    {
      "cell_type": "code",
      "execution_count": 4,
      "metadata": {
        "colab": {
          "base_uri": "https://localhost:8080/"
        },
        "id": "D9PQOLyXv1ON",
        "outputId": "0626cc29-ba7d-4b29-f1ce-b05ee9e663b3"
      },
      "outputs": [
        {
          "data": {
            "text/plain": [
              "Index(['match_id', 'date', 'venue', 'team1', 'team2', 'stage', 'toss_winner',\n",
              "       'toss_decision', 'first_ings_score', 'first_ings_wkts',\n",
              "       'second_ings_score', 'second_ings_wkts', 'match_winner', 'won_by',\n",
              "       'margin', 'player_of_the_match', 'top_scorer', 'highscore',\n",
              "       'best_bowling', 'best_bowling_figure'],\n",
              "      dtype='object')"
            ]
          },
          "execution_count": 4,
          "metadata": {},
          "output_type": "execute_result"
        }
      ],
      "source": [
        "df.columns"
      ]
    },
    {
      "cell_type": "code",
      "execution_count": 5,
      "metadata": {
        "id": "kGoNkKj6wXuQ"
      },
      "outputs": [
        {
          "data": {
            "text/plain": [
              "player_of_the_match\n",
              "Kuldeep Yadav        4\n",
              "Jos Buttler          3\n",
              "Umesh Yadav          2\n",
              "Quinton de Kock      2\n",
              "David Miller         2\n",
              "Umran Malik          2\n",
              "K L Rahul            2\n",
              "Rahul Tripathi       2\n",
              "Hardik Pandya        2\n",
              "Jasprit Bumrah       2\n",
              "Shubman Gill         2\n",
              "Yuzvendra Chahal     2\n",
              "Wanindu Hasaranga    2\n",
              "Avesh Khan           2\n",
              "Dinesh Karthik       2\n",
              "Virat Kohli          1\n",
              "Rinku Singh          1\n",
              "Kagiso Rabada        1\n",
              "Harshal Patel        1\n",
              "David Warner         1\n",
              "Harpreet Brar        1\n",
              "Tim David            1\n",
              "Yashasvi Jaiswal     1\n",
              "R Aswin              1\n",
              "Andre Russell        1\n",
              "Shardul Thakur       1\n",
              "Trent Boult          1\n",
              "Devon Conway         1\n",
              "W. Saha              1\n",
              "Mitchell Marsh       1\n",
              "Mohsin Khan          1\n",
              "Daniel Sams          1\n",
              "Jonny Bairstow       1\n",
              "Ruturaj Gaikwad      1\n",
              "Rashid Khan          1\n",
              "Suruakumar Yadav     1\n",
              "Anuj Rawat           1\n",
              "Odean Smith          1\n",
              "Mohammed Shami       1\n",
              "Sanju Samson         1\n",
              "Evin Lewis           1\n",
              "Lockie Ferguson      1\n",
              "Liam Livingstone     1\n",
              "Pat Cummins          1\n",
              "Abhishek Sharma      1\n",
              "Kane Williamson      1\n",
              "Rahul Tewatia        1\n",
              "Shivam Dube          1\n",
              "Mayank Agarwal       1\n",
              "Faf du Plessis       1\n",
              "Mukesh Choudhary     1\n",
              "Marco Jansen         1\n",
              "Shikhar Dhawan       1\n",
              "Riyan Parag          1\n",
              "Krunal Pandya        1\n",
              "Rajat Patidar        1\n",
              "Name: count, dtype: int64"
            ]
          },
          "execution_count": 5,
          "metadata": {},
          "output_type": "execute_result"
        }
      ],
      "source": [
        "df['player_of_the_match'].value_counts()"
      ]
    },
    {
      "cell_type": "markdown",
      "metadata": {
        "id": "6-s5eAWJyXUu"
      },
      "source": [
        "* Kuldeep Yadav has won most ipl matches 4 times"
      ]
    },
    {
      "cell_type": "code",
      "execution_count": 6,
      "metadata": {
        "colab": {
          "base_uri": "https://localhost:8080/"
        },
        "id": "tf-HCvsjw4oI",
        "outputId": "0f1f78db-cc3b-47d1-f1ea-257e2590de31"
      },
      "outputs": [
        {
          "data": {
            "text/plain": [
              "1     March 27,2022\n",
              "18    April 10,2022\n",
              "31    April 20,2022\n",
              "40    April 28,2022\n",
              "Name: date, dtype: object"
            ]
          },
          "execution_count": 6,
          "metadata": {},
          "output_type": "execute_result"
        }
      ],
      "source": [
        "# find in which year Kuldeep Yadav won  potm.\n",
        "df.loc[df['player_of_the_match']=='Kuldeep Yadav'].date"
      ]
    },
    {
      "cell_type": "code",
      "execution_count": 7,
      "metadata": {
        "colab": {
          "base_uri": "https://localhost:8080/",
          "height": 36
        },
        "id": "G4PZjg5Vx5wI",
        "outputId": "cac4caad-f22d-405f-a735-83ef58eb7c2e"
      },
      "outputs": [
        {
          "data": {
            "text/plain": [
              "'Yashasvi Jaiswal'"
            ]
          },
          "execution_count": 7,
          "metadata": {},
          "output_type": "execute_result"
        }
      ],
      "source": [
        "# find in which player score max\n",
        "df['top_scorer'].max()"
      ]
    },
    {
      "cell_type": "code",
      "execution_count": 8,
      "metadata": {
        "colab": {
          "base_uri": "https://localhost:8080/"
        },
        "id": "R6Mwp8UT1VCB",
        "outputId": "bdcee4ff-badc-4c74-bab6-101544230e8c"
      },
      "outputs": [
        {
          "data": {
            "text/plain": [
              "team1\n",
              "Banglore     8\n",
              "Chennai      7\n",
              "Lucknow      5\n",
              "Kolkata      4\n",
              "Gujarat      4\n",
              "Hyderabad    3\n",
              "Delhi        3\n",
              "Mumbai       2\n",
              "Punjab       1\n",
              "Name: count, dtype: int64"
            ]
          },
          "execution_count": 8,
          "metadata": {},
          "output_type": "execute_result"
        }
      ],
      "source": [
        "# find in which team score max in team 1.\n",
        "team1_maxscore = df.groupby(df['top_scorer']).team1.max().value_counts()\n",
        "team1_maxscore"
      ]
    },
    {
      "cell_type": "code",
      "execution_count": 9,
      "metadata": {
        "colab": {
          "base_uri": "https://localhost:8080/"
        },
        "id": "3pMzK9Jl3cyE",
        "outputId": "19d84343-fe36-4431-b544-0078545b2af0"
      },
      "outputs": [
        {
          "data": {
            "text/plain": [
              "team2\n",
              "Rajasthan    11\n",
              "Mumbai        8\n",
              "Punjab        7\n",
              "Hyderabad     3\n",
              "Gujarat       2\n",
              "Delhi         2\n",
              "Kolkata       2\n",
              "Lucknow       1\n",
              "Chennai       1\n",
              "Name: count, dtype: int64"
            ]
          },
          "execution_count": 9,
          "metadata": {},
          "output_type": "execute_result"
        }
      ],
      "source": [
        "team2_maxscore = df.groupby(df['top_scorer']).team2.max().value_counts()\n",
        "team2_maxscore"
      ]
    },
    {
      "cell_type": "code",
      "execution_count": 10,
      "metadata": {
        "colab": {
          "base_uri": "https://localhost:8080/",
          "height": 36
        },
        "id": "ZftveeB9EfJN",
        "outputId": "f5d9e700-b0e1-4b2a-aece-c4d523002503"
      },
      "outputs": [
        {
          "data": {
            "text/plain": [
              "'Yuzvendra Chahal'"
            ]
          },
          "execution_count": 10,
          "metadata": {},
          "output_type": "execute_result"
        }
      ],
      "source": [
        "# find in which player play the best_bowling\n",
        "df['best_bowling'].max()\n"
      ]
    },
    {
      "cell_type": "code",
      "execution_count": 14,
      "metadata": {
        "id": "sLYKMM20JSNU"
      },
      "outputs": [
        {
          "data": {
            "text/plain": [
              "array(['Wankhede Stadium, Mumbai', 'Brabourne Stadium, Mumbai',\n",
              "       'Dr DY Patil Sports Academy, Mumbai',\n",
              "       'Maharashtra Cricket Association Stadium,Pune',\n",
              "       'Eden Gardens, Kolkata', 'Narendra Modi Stadium, Ahmedabad'],\n",
              "      dtype=object)"
            ]
          },
          "execution_count": 14,
          "metadata": {},
          "output_type": "execute_result"
        }
      ],
      "source": [
        "df['venue'].unique()"
      ]
    },
    {
      "cell_type": "code",
      "execution_count": 15,
      "metadata": {},
      "outputs": [
        {
          "data": {
            "text/plain": [
              "venue\n",
              "Wankhede Stadium, Mumbai                        21\n",
              "Dr DY Patil Sports Academy, Mumbai              20\n",
              "Brabourne Stadium, Mumbai                       16\n",
              "Maharashtra Cricket Association Stadium,Pune    13\n",
              "Eden Gardens, Kolkata                            2\n",
              "Narendra Modi Stadium, Ahmedabad                 2\n",
              "Name: count, dtype: int64"
            ]
          },
          "execution_count": 15,
          "metadata": {},
          "output_type": "execute_result"
        }
      ],
      "source": [
        "df['venue'].value_counts()"
      ]
    },
    {
      "cell_type": "code",
      "execution_count": 38,
      "metadata": {},
      "outputs": [
        {
          "data": {
            "text/plain": [
              "date           team1    \n",
              "April 1,2022   Kolkata      1\n",
              "April 10,2022  Lucknow      1\n",
              "April 16,2022  Banglore     1\n",
              "April 22,2022  Delhi        1\n",
              "April 24,2022  Lucknow      1\n",
              "April 25,2022  Chennai      1\n",
              "April 27,2022  Gujarat      1\n",
              "April 28,2022  Delhi        1\n",
              "April 5,2022   Banglore     1\n",
              "March 26,2022  Chennai      1\n",
              "March 28,2022  Gujarat      1\n",
              "May 1,2022     Delhi        1\n",
              "May 12,2022    Chennai      1\n",
              "May 15,2022    Chennai      1\n",
              "May 17,2022    Hyderabad    1\n",
              "May 19,2022    Banglore     1\n",
              "May 2,2022     Kolkata      1\n",
              "May 21,2022    Delhi        1\n",
              "May 22,2022    Hyderabad    1\n",
              "May 7,2022     Punjab       1\n",
              "May 8,2022     Banglore     1\n",
              "dtype: int64"
            ]
          },
          "execution_count": 38,
          "metadata": {},
          "output_type": "execute_result"
        }
      ],
      "source": [
        "# count the occurrences of each date in the 'Wankhede Stadium, Mumbai' venue or team1.\n",
        "df.loc[df['venue'] == 'Wankhede Stadium, Mumbai'].groupby(['date','team1']).size()"
      ]
    },
    {
      "cell_type": "code",
      "execution_count": 45,
      "metadata": {},
      "outputs": [
        {
          "data": {
            "text/plain": [
              "team1\n",
              "Banglore     4\n",
              "Chennai      4\n",
              "Delhi        4\n",
              "Gujarat      2\n",
              "Hyderabad    2\n",
              "Kolkata      2\n",
              "Lucknow      2\n",
              "Punjab       1\n",
              "dtype: int64"
            ]
          },
          "execution_count": 45,
          "metadata": {},
          "output_type": "execute_result"
        }
      ],
      "source": [
        "# count each team which play how many times in Wankhede Stadium, Mumbai.\n",
        "df.loc[df['venue'] == 'Wankhede Stadium, Mumbai'].groupby(['team1']).size()"
      ]
    },
    {
      "cell_type": "code",
      "execution_count": 46,
      "metadata": {},
      "outputs": [
        {
          "data": {
            "text/html": [
              "<div>\n",
              "<style scoped>\n",
              "    .dataframe tbody tr th:only-of-type {\n",
              "        vertical-align: middle;\n",
              "    }\n",
              "\n",
              "    .dataframe tbody tr th {\n",
              "        vertical-align: top;\n",
              "    }\n",
              "\n",
              "    .dataframe thead th {\n",
              "        text-align: right;\n",
              "    }\n",
              "</style>\n",
              "<table border=\"1\" class=\"dataframe\">\n",
              "  <thead>\n",
              "    <tr style=\"text-align: right;\">\n",
              "      <th></th>\n",
              "      <th>match_id</th>\n",
              "      <th>date</th>\n",
              "      <th>venue</th>\n",
              "      <th>team1</th>\n",
              "      <th>team2</th>\n",
              "      <th>stage</th>\n",
              "      <th>toss_winner</th>\n",
              "      <th>toss_decision</th>\n",
              "      <th>first_ings_score</th>\n",
              "      <th>first_ings_wkts</th>\n",
              "      <th>second_ings_score</th>\n",
              "      <th>second_ings_wkts</th>\n",
              "      <th>match_winner</th>\n",
              "      <th>won_by</th>\n",
              "      <th>margin</th>\n",
              "      <th>player_of_the_match</th>\n",
              "      <th>top_scorer</th>\n",
              "      <th>highscore</th>\n",
              "      <th>best_bowling</th>\n",
              "      <th>best_bowling_figure</th>\n",
              "    </tr>\n",
              "  </thead>\n",
              "  <tbody>\n",
              "    <tr>\n",
              "      <th>0</th>\n",
              "      <td>1</td>\n",
              "      <td>March 26,2022</td>\n",
              "      <td>Wankhede Stadium, Mumbai</td>\n",
              "      <td>Chennai</td>\n",
              "      <td>Kolkata</td>\n",
              "      <td>Group</td>\n",
              "      <td>Kolkata</td>\n",
              "      <td>Field</td>\n",
              "      <td>131</td>\n",
              "      <td>5</td>\n",
              "      <td>133</td>\n",
              "      <td>4</td>\n",
              "      <td>Kolkata</td>\n",
              "      <td>Wickets</td>\n",
              "      <td>6</td>\n",
              "      <td>Umesh Yadav</td>\n",
              "      <td>MS Dhoni</td>\n",
              "      <td>50</td>\n",
              "      <td>Dwayne Bravo</td>\n",
              "      <td>3--20</td>\n",
              "    </tr>\n",
              "    <tr>\n",
              "      <th>1</th>\n",
              "      <td>2</td>\n",
              "      <td>March 27,2022</td>\n",
              "      <td>Brabourne Stadium, Mumbai</td>\n",
              "      <td>Delhi</td>\n",
              "      <td>Mumbai</td>\n",
              "      <td>Group</td>\n",
              "      <td>Delhi</td>\n",
              "      <td>Field</td>\n",
              "      <td>177</td>\n",
              "      <td>5</td>\n",
              "      <td>179</td>\n",
              "      <td>6</td>\n",
              "      <td>Delhi</td>\n",
              "      <td>Wickets</td>\n",
              "      <td>4</td>\n",
              "      <td>Kuldeep Yadav</td>\n",
              "      <td>Ishan Kishan</td>\n",
              "      <td>81</td>\n",
              "      <td>Kuldeep Yadav</td>\n",
              "      <td>3--18</td>\n",
              "    </tr>\n",
              "  </tbody>\n",
              "</table>\n",
              "</div>"
            ],
            "text/plain": [
              "   match_id           date                      venue    team1    team2  \\\n",
              "0         1  March 26,2022   Wankhede Stadium, Mumbai  Chennai  Kolkata   \n",
              "1         2  March 27,2022  Brabourne Stadium, Mumbai    Delhi   Mumbai   \n",
              "\n",
              "   stage toss_winner toss_decision  first_ings_score  first_ings_wkts  \\\n",
              "0  Group     Kolkata         Field               131                5   \n",
              "1  Group       Delhi         Field               177                5   \n",
              "\n",
              "   second_ings_score  second_ings_wkts match_winner   won_by  margin  \\\n",
              "0                133                 4      Kolkata  Wickets       6   \n",
              "1                179                 6        Delhi  Wickets       4   \n",
              "\n",
              "  player_of_the_match    top_scorer  highscore   best_bowling  \\\n",
              "0         Umesh Yadav      MS Dhoni         50   Dwayne Bravo   \n",
              "1       Kuldeep Yadav  Ishan Kishan         81  Kuldeep Yadav   \n",
              "\n",
              "  best_bowling_figure  \n",
              "0               3--20  \n",
              "1               3--18  "
            ]
          },
          "execution_count": 46,
          "metadata": {},
          "output_type": "execute_result"
        }
      ],
      "source": [
        "df.head(2)"
      ]
    },
    {
      "cell_type": "code",
      "execution_count": 47,
      "metadata": {},
      "outputs": [
        {
          "data": {
            "text/plain": [
              "array(['Group', 'Playoff', 'Final'], dtype=object)"
            ]
          },
          "execution_count": 47,
          "metadata": {},
          "output_type": "execute_result"
        }
      ],
      "source": [
        "df.stage.unique()"
      ]
    },
    {
      "cell_type": "code",
      "execution_count": 50,
      "metadata": {},
      "outputs": [
        {
          "data": {
            "text/plain": [
              "stage\n",
              "Final       1\n",
              "Group      70\n",
              "Playoff     3\n",
              "Name: team1, dtype: int64"
            ]
          },
          "execution_count": 50,
          "metadata": {},
          "output_type": "execute_result"
        }
      ],
      "source": [
        "# find the team1 which play the final match.\n",
        "df.groupby(df['stage']).team1.size()"
      ]
    },
    {
      "cell_type": "code",
      "execution_count": 54,
      "metadata": {},
      "outputs": [
        {
          "data": {
            "text/plain": [
              "73    Gujarat\n",
              "Name: team1, dtype: object"
            ]
          },
          "execution_count": 54,
          "metadata": {},
          "output_type": "execute_result"
        }
      ],
      "source": [
        "df[df['stage']=='Final'].team1\n"
      ]
    },
    {
      "cell_type": "code",
      "execution_count": 57,
      "metadata": {},
      "outputs": [
        {
          "data": {
            "text/plain": [
              "array(['Wickets', 'Runs'], dtype=object)"
            ]
          },
          "execution_count": 57,
          "metadata": {},
          "output_type": "execute_result"
        }
      ],
      "source": [
        "df['won_by'].unique()"
      ]
    },
    {
      "cell_type": "code",
      "execution_count": 59,
      "metadata": {},
      "outputs": [
        {
          "data": {
            "text/plain": [
              "won_by\n",
              "Runs       37\n",
              "Wickets    37\n",
              "Name: team1, dtype: int64"
            ]
          },
          "execution_count": 59,
          "metadata": {},
          "output_type": "execute_result"
        }
      ],
      "source": [
        "# find each team which won the match by wickets.\n",
        "df.groupby(df['won_by']).team1.size()"
      ]
    },
    {
      "cell_type": "code",
      "execution_count": 65,
      "metadata": {},
      "outputs": [
        {
          "data": {
            "text/plain": [
              "team1\n",
              "Chennai      8\n",
              "Banglore     8\n",
              "Gujarat      7\n",
              "Delhi        6\n",
              "Kolkata      3\n",
              "Hyderabad    3\n",
              "Mumbai       1\n",
              "Punjab       1\n",
              "Name: count, dtype: int64"
            ]
          },
          "execution_count": 65,
          "metadata": {},
          "output_type": "execute_result"
        }
      ],
      "source": [
        "df.loc[df['won_by']=='Wickets'].team1.value_counts()"
      ]
    },
    {
      "cell_type": "code",
      "execution_count": null,
      "metadata": {},
      "outputs": [],
      "source": []
    }
  ],
  "metadata": {
    "colab": {
      "provenance": []
    },
    "kernelspec": {
      "display_name": "Python 3",
      "name": "python3"
    },
    "language_info": {
      "codemirror_mode": {
        "name": "ipython",
        "version": 3
      },
      "file_extension": ".py",
      "mimetype": "text/x-python",
      "name": "python",
      "nbconvert_exporter": "python",
      "pygments_lexer": "ipython3",
      "version": "3.11.4"
    }
  },
  "nbformat": 4,
  "nbformat_minor": 0
}
