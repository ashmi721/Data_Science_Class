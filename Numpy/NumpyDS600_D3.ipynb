{
  "nbformat": 4,
  "nbformat_minor": 0,
  "metadata": {
    "colab": {
      "provenance": []
    },
    "kernelspec": {
      "name": "python3",
      "display_name": "Python 3"
    },
    "language_info": {
      "name": "python"
    }
  },
  "cells": [
    {
      "cell_type": "code",
      "execution_count": null,
      "metadata": {
        "id": "Y-ImrSf6u3Tb"
      },
      "outputs": [],
      "source": [
        "import numpy as np"
      ]
    },
    {
      "cell_type": "markdown",
      "source": [
        "# Matrix multiplication or dot product\n",
        "<img src=\"https://encrypted-tbn0.gstatic.com/images?q=tbn:ANd9GcRGNq2BilK-CFEjRhELGBtSdZmG1HH57bu798_Bl3rqQg&s\">\n",
        "\n",
        "* vector matrix is the cross product(a*b) which isn't multiply by different rows and column like this image\n",
        "\n",
        "* Scalar multiplication is a straightforward method of multiplying matrices, and we can accomplish this using the NumPy dot() function"
      ],
      "metadata": {
        "id": "ThKQfemixOZu"
      }
    },
    {
      "cell_type": "code",
      "source": [
        "A = np.array([[1,2,3],[4,5,6]])\n",
        "B = np.array([[7,8],[9,10],[11,12]])\n"
      ],
      "metadata": {
        "id": "xdOzCFMRxNws"
      },
      "execution_count": null,
      "outputs": []
    },
    {
      "cell_type": "code",
      "source": [
        "A.shape # let m * n"
      ],
      "metadata": {
        "colab": {
          "base_uri": "https://localhost:8080/"
        },
        "id": "uNBuQDjkxgPX",
        "outputId": "29aba34d-3a05-487c-910a-3efecfd5c441"
      },
      "execution_count": null,
      "outputs": [
        {
          "output_type": "execute_result",
          "data": {
            "text/plain": [
              "(2, 3)"
            ]
          },
          "metadata": {},
          "execution_count": 3
        }
      ]
    },
    {
      "cell_type": "code",
      "source": [
        "B.shape # let p * q"
      ],
      "metadata": {
        "colab": {
          "base_uri": "https://localhost:8080/"
        },
        "id": "wCVwtNOQyMre",
        "outputId": "a8f97ce3-5970-4cb3-8f54-7caf201ab3a0"
      },
      "execution_count": null,
      "outputs": [
        {
          "output_type": "execute_result",
          "data": {
            "text/plain": [
              "(3, 2)"
            ]
          },
          "metadata": {},
          "execution_count": 4
        }
      ]
    },
    {
      "cell_type": "code",
      "source": [
        "# if n == p vayo vane matrix multiply hunxa\n",
        "output = np.dot(A,B)\n",
        "output"
      ],
      "metadata": {
        "colab": {
          "base_uri": "https://localhost:8080/"
        },
        "id": "YsMKcXz5yJGf",
        "outputId": "836e89be-af14-4dcc-a134-320eb5608672"
      },
      "execution_count": null,
      "outputs": [
        {
          "output_type": "execute_result",
          "data": {
            "text/plain": [
              "array([[ 58,  64],\n",
              "       [139, 154]])"
            ]
          },
          "metadata": {},
          "execution_count": 5
        }
      ]
    },
    {
      "cell_type": "markdown",
      "source": [
        "# Determinant Transpose and Inverse of Matrix"
      ],
      "metadata": {
        "id": "bpRrfz89yuDx"
      }
    },
    {
      "cell_type": "code",
      "source": [
        "# Transpose (In Transpose row in column and colume is the row)\n",
        "output.T"
      ],
      "metadata": {
        "colab": {
          "base_uri": "https://localhost:8080/"
        },
        "id": "GGyWfcdByhUJ",
        "outputId": "3030a0ad-a656-4c85-d79a-b2bc56ba5242"
      },
      "execution_count": null,
      "outputs": [
        {
          "output_type": "execute_result",
          "data": {
            "text/plain": [
              "array([[ 58, 139],\n",
              "       [ 64, 154]])"
            ]
          },
          "metadata": {},
          "execution_count": 9
        }
      ]
    },
    {
      "cell_type": "code",
      "source": [
        "# To calculate the Determinations\n",
        "det = np.linalg.det(output)\n",
        "det"
      ],
      "metadata": {
        "colab": {
          "base_uri": "https://localhost:8080/"
        },
        "id": "oSd7SWu0zju3",
        "outputId": "f32e6830-6522-4710-cbcc-1869ecbfd5b7"
      },
      "execution_count": null,
      "outputs": [
        {
          "output_type": "execute_result",
          "data": {
            "text/plain": [
              "36.000000000000256"
            ]
          },
          "metadata": {},
          "execution_count": 10
        }
      ]
    },
    {
      "cell_type": "code",
      "source": [
        "np.round(det)"
      ],
      "metadata": {
        "colab": {
          "base_uri": "https://localhost:8080/"
        },
        "id": "1TFhUqshzq5B",
        "outputId": "d2fc8baa-9cf0-46d2-e049-e98b51b69524"
      },
      "execution_count": null,
      "outputs": [
        {
          "output_type": "execute_result",
          "data": {
            "text/plain": [
              "36.0"
            ]
          },
          "metadata": {},
          "execution_count": 11
        }
      ]
    },
    {
      "cell_type": "code",
      "source": [
        "# To calculate the inverse\n",
        "inv = np.linalg.inv(output)\n",
        "inv"
      ],
      "metadata": {
        "colab": {
          "base_uri": "https://localhost:8080/"
        },
        "id": "ILgTczlyzvtu",
        "outputId": "8e4a4b66-0957-4027-9594-4211377fafa6"
      },
      "execution_count": null,
      "outputs": [
        {
          "output_type": "execute_result",
          "data": {
            "text/plain": [
              "array([[ 4.27777778, -1.77777778],\n",
              "       [-3.86111111,  1.61111111]])"
            ]
          },
          "metadata": {},
          "execution_count": 13
        }
      ]
    },
    {
      "cell_type": "markdown",
      "source": [
        "# The axis argument in numpy: 2D axis=0 is column-wise and axis=1 means row-wise."
      ],
      "metadata": {
        "id": "tpgAjkCZ0p9S"
      }
    },
    {
      "cell_type": "code",
      "source": [
        "x = np.array([[1,2,3],[4,5,6]])\n",
        "x"
      ],
      "metadata": {
        "colab": {
          "base_uri": "https://localhost:8080/"
        },
        "id": "8A7SDGgF0ERx",
        "outputId": "aedf12a6-5853-41d8-8590-36788576420e"
      },
      "execution_count": null,
      "outputs": [
        {
          "output_type": "execute_result",
          "data": {
            "text/plain": [
              "array([[1, 2, 3],\n",
              "       [4, 5, 6]])"
            ]
          },
          "metadata": {},
          "execution_count": 15
        }
      ]
    },
    {
      "cell_type": "code",
      "source": [
        "# We want total sum of each item in an array\n",
        "x.sum()"
      ],
      "metadata": {
        "colab": {
          "base_uri": "https://localhost:8080/"
        },
        "id": "weCwYuw01IJ3",
        "outputId": "a1a47473-135b-444e-d478-2821ba731002"
      },
      "execution_count": null,
      "outputs": [
        {
          "output_type": "execute_result",
          "data": {
            "text/plain": [
              "21"
            ]
          },
          "metadata": {},
          "execution_count": 16
        }
      ]
    },
    {
      "cell_type": "code",
      "source": [
        "# vertically sum\n",
        "x.sum(axis=0)"
      ],
      "metadata": {
        "colab": {
          "base_uri": "https://localhost:8080/"
        },
        "id": "2BeduDXP1Qbp",
        "outputId": "1de41658-ebc8-4e72-d5b5-c8dc674d7d91"
      },
      "execution_count": null,
      "outputs": [
        {
          "output_type": "execute_result",
          "data": {
            "text/plain": [
              "array([5, 7, 9])"
            ]
          },
          "metadata": {},
          "execution_count": 17
        }
      ]
    },
    {
      "cell_type": "code",
      "source": [
        "# horizontally sum\n",
        "x.sum(axis=1)"
      ],
      "metadata": {
        "colab": {
          "base_uri": "https://localhost:8080/"
        },
        "id": "g0djeF6Q12MC",
        "outputId": "4414237e-41fe-4306-a1e5-ef830c23b4d3"
      },
      "execution_count": null,
      "outputs": [
        {
          "output_type": "execute_result",
          "data": {
            "text/plain": [
              "array([ 6, 15])"
            ]
          },
          "metadata": {},
          "execution_count": 19
        }
      ]
    },
    {
      "cell_type": "code",
      "source": [
        "# To calculate the verticle mean\n",
        "x.mean(axis=0)"
      ],
      "metadata": {
        "colab": {
          "base_uri": "https://localhost:8080/"
        },
        "id": "dwzvVGoc19W_",
        "outputId": "7b59b231-fa52-4f55-f654-f2fd18dde715"
      },
      "execution_count": null,
      "outputs": [
        {
          "output_type": "execute_result",
          "data": {
            "text/plain": [
              "array([2.5, 3.5, 4.5])"
            ]
          },
          "metadata": {},
          "execution_count": 20
        }
      ]
    },
    {
      "cell_type": "code",
      "source": [
        "# To calculate the horizontally mean'\n",
        "x.mean(axis=1)"
      ],
      "metadata": {
        "colab": {
          "base_uri": "https://localhost:8080/"
        },
        "id": "EAuGYzW_2I8P",
        "outputId": "8f05ac9a-b01e-4796-acd9-6006ed0b9589"
      },
      "execution_count": null,
      "outputs": [
        {
          "output_type": "execute_result",
          "data": {
            "text/plain": [
              "array([2., 5.])"
            ]
          },
          "metadata": {},
          "execution_count": 21
        }
      ]
    },
    {
      "cell_type": "markdown",
      "source": [
        "# .reshape()\n",
        "\n",
        "The reshape() is used to convert one dimension or shape  to another dimension or shape like (1D to 2D)(2,3)or (3,2)etc"
      ],
      "metadata": {
        "id": "qNlQx-Uc2kVC"
      }
    },
    {
      "cell_type": "code",
      "source": [
        "x = np.array([1,2,3,4,5,6])\n",
        "x"
      ],
      "metadata": {
        "colab": {
          "base_uri": "https://localhost:8080/"
        },
        "id": "Aw7uSQQi2UtN",
        "outputId": "58d65bac-f122-4200-c2d5-c6e8febf983d"
      },
      "execution_count": null,
      "outputs": [
        {
          "output_type": "execute_result",
          "data": {
            "text/plain": [
              "array([1, 2, 3, 4, 5, 6])"
            ]
          },
          "metadata": {},
          "execution_count": 23
        }
      ]
    },
    {
      "cell_type": "code",
      "source": [
        "x.shape"
      ],
      "metadata": {
        "colab": {
          "base_uri": "https://localhost:8080/"
        },
        "id": "MMTDIBfP2w5K",
        "outputId": "3834f60b-e358-46ed-cbaf-16cf8b85a61e"
      },
      "execution_count": null,
      "outputs": [
        {
          "output_type": "execute_result",
          "data": {
            "text/plain": [
              "(6,)"
            ]
          },
          "metadata": {},
          "execution_count": 24
        }
      ]
    },
    {
      "cell_type": "code",
      "source": [
        "x.reshape(2,3)"
      ],
      "metadata": {
        "colab": {
          "base_uri": "https://localhost:8080/"
        },
        "id": "4FIPkfUc2x_X",
        "outputId": "bbabea17-5d79-495d-cf36-f769d3e40e3e"
      },
      "execution_count": null,
      "outputs": [
        {
          "output_type": "execute_result",
          "data": {
            "text/plain": [
              "array([[1, 2, 3],\n",
              "       [4, 5, 6]])"
            ]
          },
          "metadata": {},
          "execution_count": 25
        }
      ]
    },
    {
      "cell_type": "code",
      "source": [
        "x.reshape(3,2)"
      ],
      "metadata": {
        "colab": {
          "base_uri": "https://localhost:8080/"
        },
        "id": "FTFbMlKc3IvU",
        "outputId": "ed418963-b1f4-4b0d-90ce-744e0cbacc30"
      },
      "execution_count": null,
      "outputs": [
        {
          "output_type": "execute_result",
          "data": {
            "text/plain": [
              "array([[1, 2],\n",
              "       [3, 4],\n",
              "       [5, 6]])"
            ]
          },
          "metadata": {},
          "execution_count": 26
        }
      ]
    },
    {
      "cell_type": "code",
      "source": [
        "x.reshape(1,6)"
      ],
      "metadata": {
        "colab": {
          "base_uri": "https://localhost:8080/"
        },
        "id": "4F98GkdT3LWL",
        "outputId": "7230a1f9-255e-4830-f1c1-5f09021135cf"
      },
      "execution_count": null,
      "outputs": [
        {
          "output_type": "execute_result",
          "data": {
            "text/plain": [
              "array([[1, 2, 3, 4, 5, 6]])"
            ]
          },
          "metadata": {},
          "execution_count": 27
        }
      ]
    },
    {
      "cell_type": "code",
      "source": [
        "x.reshape(6,1)"
      ],
      "metadata": {
        "colab": {
          "base_uri": "https://localhost:8080/"
        },
        "id": "Ek5W-8_h3hMk",
        "outputId": "55e54924-962b-4e20-c8cc-0dcbd4e92237"
      },
      "execution_count": null,
      "outputs": [
        {
          "output_type": "execute_result",
          "data": {
            "text/plain": [
              "array([[1],\n",
              "       [2],\n",
              "       [3],\n",
              "       [4],\n",
              "       [5],\n",
              "       [6]])"
            ]
          },
          "metadata": {},
          "execution_count": 29
        }
      ]
    },
    {
      "cell_type": "markdown",
      "source": [
        "# Row matrix and column matrix\n",
        "\n",
        "<img src=\"https://d20khd7ddkh5ls.cloudfront.net/row_column_matrices.jpg\">"
      ],
      "metadata": {
        "id": "BB04h7OZ4F6H"
      }
    },
    {
      "cell_type": "code",
      "source": [
        "x = np.array([8,2,0,3,5,9])"
      ],
      "metadata": {
        "id": "gLpUZMrV4YbZ"
      },
      "execution_count": null,
      "outputs": []
    },
    {
      "cell_type": "code",
      "source": [
        "# row matrix ma no.of row=1, column = unknown this unknown is represent by -1\n",
        "x.reshape(1,-1)"
      ],
      "metadata": {
        "colab": {
          "base_uri": "https://localhost:8080/"
        },
        "id": "w6ls6fG_47Qn",
        "outputId": "b94a9edb-84bb-47c6-bee6-d6eabcef55e7"
      },
      "execution_count": null,
      "outputs": [
        {
          "output_type": "execute_result",
          "data": {
            "text/plain": [
              "array([[8, 2, 0, 3, 5, 9]])"
            ]
          },
          "metadata": {},
          "execution_count": 31
        }
      ]
    },
    {
      "cell_type": "code",
      "source": [
        "# column matrix ma no.of row = unknown; column = 1; where as unknown represent -1"
      ],
      "metadata": {
        "id": "XomzjwmL5QhB"
      },
      "execution_count": null,
      "outputs": []
    },
    {
      "cell_type": "code",
      "source": [
        "x.reshape(-1,1)"
      ],
      "metadata": {
        "colab": {
          "base_uri": "https://localhost:8080/"
        },
        "id": "BLPkTpdN5mer",
        "outputId": "f4fffba1-a019-49c0-e9a6-153713b2dc57"
      },
      "execution_count": null,
      "outputs": [
        {
          "output_type": "execute_result",
          "data": {
            "text/plain": [
              "array([[8],\n",
              "       [2],\n",
              "       [0],\n",
              "       [3],\n",
              "       [5],\n",
              "       [9]])"
            ]
          },
          "metadata": {},
          "execution_count": 34
        }
      ]
    },
    {
      "cell_type": "markdown",
      "source": [
        "# Converting 2D array to 1D\n",
        "\n",
        "flatten is most used in data cleanning or deep learning. also it is used to convert the 2D or 3D array to convert in 1D."
      ],
      "metadata": {
        "id": "ppJqYJcc6guP"
      }
    },
    {
      "cell_type": "code",
      "source": [
        "matrix = np.array([[2,6],[8,9]])\n",
        "matrix"
      ],
      "metadata": {
        "colab": {
          "base_uri": "https://localhost:8080/"
        },
        "id": "1Yl9vwuO5pam",
        "outputId": "af18f0c9-135b-4d2e-980c-41aebe011bcc"
      },
      "execution_count": null,
      "outputs": [
        {
          "output_type": "execute_result",
          "data": {
            "text/plain": [
              "array([[2, 6],\n",
              "       [8, 9]])"
            ]
          },
          "metadata": {},
          "execution_count": 36
        }
      ]
    },
    {
      "cell_type": "code",
      "source": [
        "# flatten()\n",
        "flat_array = matrix.flatten()\n",
        "flat_array"
      ],
      "metadata": {
        "colab": {
          "base_uri": "https://localhost:8080/"
        },
        "id": "nls5_eRC6tCT",
        "outputId": "14fdc95c-954f-48c6-972a-323582f413ef"
      },
      "execution_count": null,
      "outputs": [
        {
          "output_type": "execute_result",
          "data": {
            "text/plain": [
              "array([2, 6, 8, 9])"
            ]
          },
          "metadata": {},
          "execution_count": 37
        }
      ]
    },
    {
      "cell_type": "code",
      "source": [
        "flat_array.ndim"
      ],
      "metadata": {
        "colab": {
          "base_uri": "https://localhost:8080/"
        },
        "id": "4xkii2Zb7Ctr",
        "outputId": "3e4c963f-0f79-4ce7-9933-7a1a0fa21035"
      },
      "execution_count": null,
      "outputs": [
        {
          "output_type": "execute_result",
          "data": {
            "text/plain": [
              "1"
            ]
          },
          "metadata": {},
          "execution_count": 38
        }
      ]
    },
    {
      "cell_type": "code",
      "source": [
        "# to convert to array into list\n",
        "flat_array.tolist()"
      ],
      "metadata": {
        "colab": {
          "base_uri": "https://localhost:8080/"
        },
        "id": "3K5Zkhqt7huU",
        "outputId": "d74b2b24-8921-416c-c762-5a72e2d2883d"
      },
      "execution_count": null,
      "outputs": [
        {
          "output_type": "execute_result",
          "data": {
            "text/plain": [
              "[2, 6, 8, 9]"
            ]
          },
          "metadata": {},
          "execution_count": 44
        }
      ]
    },
    {
      "cell_type": "markdown",
      "source": [
        "# .newaxis"
      ],
      "metadata": {
        "id": "ILASGpeeAbcR"
      }
    },
    {
      "cell_type": "code",
      "source": [],
      "metadata": {
        "id": "fy8wBYJiAaJZ"
      },
      "execution_count": null,
      "outputs": []
    },
    {
      "cell_type": "markdown",
      "source": [
        "# Morden day Images are in 3D\n",
        "\n",
        "`(channel,row, column)`"
      ],
      "metadata": {
        "id": "zFzAgP7F7_gI"
      }
    },
    {
      "cell_type": "code",
      "source": [
        "np.zeros((3,4,5))"
      ],
      "metadata": {
        "colab": {
          "base_uri": "https://localhost:8080/"
        },
        "id": "sFMQmtGX7lwJ",
        "outputId": "c627cdde-f53e-4c3d-cb68-0f69a99f4369"
      },
      "execution_count": null,
      "outputs": [
        {
          "output_type": "execute_result",
          "data": {
            "text/plain": [
              "array([[[0., 0., 0., 0., 0.],\n",
              "        [0., 0., 0., 0., 0.],\n",
              "        [0., 0., 0., 0., 0.],\n",
              "        [0., 0., 0., 0., 0.]],\n",
              "\n",
              "       [[0., 0., 0., 0., 0.],\n",
              "        [0., 0., 0., 0., 0.],\n",
              "        [0., 0., 0., 0., 0.],\n",
              "        [0., 0., 0., 0., 0.]],\n",
              "\n",
              "       [[0., 0., 0., 0., 0.],\n",
              "        [0., 0., 0., 0., 0.],\n",
              "        [0., 0., 0., 0., 0.],\n",
              "        [0., 0., 0., 0., 0.]]])"
            ]
          },
          "metadata": {},
          "execution_count": 42
        }
      ]
    },
    {
      "cell_type": "code",
      "source": [
        "np.random.rand(3,4,5)"
      ],
      "metadata": {
        "colab": {
          "base_uri": "https://localhost:8080/"
        },
        "id": "zd7LgTyN9E6u",
        "outputId": "c9ec16eb-2ee7-48c2-f2c6-66fe54495ca1"
      },
      "execution_count": null,
      "outputs": [
        {
          "output_type": "execute_result",
          "data": {
            "text/plain": [
              "array([[[0.91239038, 0.07924515, 0.96835307, 0.25370646, 0.32083212],\n",
              "        [0.33967278, 0.97680984, 0.81618472, 0.44447794, 0.57372895],\n",
              "        [0.36518984, 0.85875859, 0.39227677, 0.96599977, 0.20937318],\n",
              "        [0.8575841 , 0.38114698, 0.12848951, 0.841727  , 0.6543123 ]],\n",
              "\n",
              "       [[0.65221098, 0.32855198, 0.83182798, 0.65658724, 0.67577995],\n",
              "        [0.72535505, 0.58487372, 0.72495381, 0.66851379, 0.98245623],\n",
              "        [0.24321409, 0.04819083, 0.09862191, 0.64673708, 0.40523096],\n",
              "        [0.88225306, 0.8493405 , 0.6137525 , 0.31608239, 0.35445127]],\n",
              "\n",
              "       [[0.31033947, 0.77178534, 0.61638424, 0.913562  , 0.84927542],\n",
              "        [0.27838715, 0.77289867, 0.21515222, 0.62670416, 0.53261071],\n",
              "        [0.17638663, 0.87428683, 0.73344425, 0.10572735, 0.95586559],\n",
              "        [0.19629932, 0.88051505, 0.51455275, 0.69335174, 0.87764786]]])"
            ]
          },
          "metadata": {},
          "execution_count": 43
        }
      ]
    },
    {
      "cell_type": "code",
      "source": [],
      "metadata": {
        "id": "ARCYergj-BQO"
      },
      "execution_count": null,
      "outputs": []
    }
  ]
}