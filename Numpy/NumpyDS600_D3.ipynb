{
  "cells": [
    {
      "cell_type": "code",
      "execution_count": 3,
      "metadata": {
        "id": "Y-ImrSf6u3Tb"
      },
      "outputs": [],
      "source": [
        "import numpy as np"
      ]
    },
    {
      "cell_type": "markdown",
      "metadata": {
        "id": "ThKQfemixOZu"
      },
      "source": [
        "# Matrix multiplication or dot product\n",
        "<img src=\"https://encrypted-tbn0.gstatic.com/images?q=tbn:ANd9GcRGNq2BilK-CFEjRhELGBtSdZmG1HH57bu798_Bl3rqQg&s\">\n",
        "\n",
        "* vector matrix is the cross product(a*b) which isn't multiply by different rows and column like this image\n",
        "\n",
        "* Scalar multiplication is a straightforward method of multiplying matrices, and we can accomplish this using the NumPy dot() function"
      ]
    },
    {
      "cell_type": "code",
      "execution_count": null,
      "metadata": {
        "id": "xdOzCFMRxNws"
      },
      "outputs": [],
      "source": [
        "A = np.array([[1,2,3],[4,5,6]])\n",
        "B = np.array([[7,8],[9,10],[11,12]])\n"
      ]
    },
    {
      "cell_type": "code",
      "execution_count": null,
      "metadata": {
        "colab": {
          "base_uri": "https://localhost:8080/"
        },
        "id": "uNBuQDjkxgPX",
        "outputId": "29aba34d-3a05-487c-910a-3efecfd5c441"
      },
      "outputs": [
        {
          "data": {
            "text/plain": [
              "(2, 3)"
            ]
          },
          "execution_count": 3,
          "metadata": {},
          "output_type": "execute_result"
        }
      ],
      "source": [
        "A.shape # let m * n"
      ]
    },
    {
      "cell_type": "code",
      "execution_count": null,
      "metadata": {
        "colab": {
          "base_uri": "https://localhost:8080/"
        },
        "id": "wCVwtNOQyMre",
        "outputId": "a8f97ce3-5970-4cb3-8f54-7caf201ab3a0"
      },
      "outputs": [
        {
          "data": {
            "text/plain": [
              "(3, 2)"
            ]
          },
          "execution_count": 4,
          "metadata": {},
          "output_type": "execute_result"
        }
      ],
      "source": [
        "B.shape # let p * q"
      ]
    },
    {
      "cell_type": "code",
      "execution_count": null,
      "metadata": {
        "colab": {
          "base_uri": "https://localhost:8080/"
        },
        "id": "YsMKcXz5yJGf",
        "outputId": "836e89be-af14-4dcc-a134-320eb5608672"
      },
      "outputs": [
        {
          "data": {
            "text/plain": [
              "array([[ 58,  64],\n",
              "       [139, 154]])"
            ]
          },
          "execution_count": 5,
          "metadata": {},
          "output_type": "execute_result"
        }
      ],
      "source": [
        "# if n == p vayo vane matrix multiply hunxa\n",
        "output = np.dot(A,B)\n",
        "output"
      ]
    },
    {
      "cell_type": "markdown",
      "metadata": {
        "id": "bpRrfz89yuDx"
      },
      "source": [
        "# Determinant Transpose and Inverse of Matrix\n",
        "\n",
        " Determinant and Transpose help us analyze and manipulate this data also help to solving problem and understanding the relationship within the data."
      ]
    },
    {
      "cell_type": "markdown",
      "metadata": {},
      "source": [
        "* Transpose\n",
        "\n",
        "Meaning: In simpler terms, you switch the rows and columns.\n",
        "\n",
        "Example: Consider this 2x3 \n",
        "The transpose would be a 3x2 matrix:\n",
        "<img src=\"https://cdn1.byjus.com/wp-content/uploads/2021/09/Important-Questions-for-Class-10-Maths-Chapter-8-Introduction-to-Trigonometry-1.png\">\n",
        " \n",
        "It's like flipping the matrix."
      ]
    },
    {
      "cell_type": "code",
      "execution_count": null,
      "metadata": {
        "colab": {
          "base_uri": "https://localhost:8080/"
        },
        "id": "GGyWfcdByhUJ",
        "outputId": "3030a0ad-a656-4c85-d79a-b2bc56ba5242"
      },
      "outputs": [
        {
          "data": {
            "text/plain": [
              "array([[ 58, 139],\n",
              "       [ 64, 154]])"
            ]
          },
          "execution_count": 9,
          "metadata": {},
          "output_type": "execute_result"
        }
      ],
      "source": [
        "# Transpose (In Transpose row in column and colume is the row)\n",
        "output.T"
      ]
    },
    {
      "cell_type": "markdown",
      "metadata": {},
      "source": [
        "* Determinations\n",
        "\n",
        "The determinant helps us find the inverse of a matrix, tells us things about the matrix that are useful in systems of linear equations, calculus and more.\n",
        "\n",
        "<img src =\"https://media.geeksforgeeks.org/wp-content/uploads/20220822110402/3x3.png\">"
      ]
    },
    {
      "cell_type": "code",
      "execution_count": null,
      "metadata": {
        "colab": {
          "base_uri": "https://localhost:8080/"
        },
        "id": "oSd7SWu0zju3",
        "outputId": "f32e6830-6522-4710-cbcc-1869ecbfd5b7"
      },
      "outputs": [
        {
          "data": {
            "text/plain": [
              "36.000000000000256"
            ]
          },
          "execution_count": 10,
          "metadata": {},
          "output_type": "execute_result"
        }
      ],
      "source": [
        "# To calculate the Determinations\n",
        "det = np.linalg.det(output)\n",
        "det"
      ]
    },
    {
      "cell_type": "code",
      "execution_count": null,
      "metadata": {
        "colab": {
          "base_uri": "https://localhost:8080/"
        },
        "id": "1TFhUqshzq5B",
        "outputId": "d2fc8baa-9cf0-46d2-e049-e98b51b69524"
      },
      "outputs": [
        {
          "data": {
            "text/plain": [
              "36.0"
            ]
          },
          "execution_count": 11,
          "metadata": {},
          "output_type": "execute_result"
        }
      ],
      "source": [
        "np.round(det)"
      ]
    },
    {
      "cell_type": "markdown",
      "metadata": {},
      "source": [
        "* Inverse\n",
        "\n",
        "if you have a transformation that scales and rotates an object, applying the inverse transformation would bring the object back to its original state. In data analysis, finding the inverse is crucial for solving systems of linear equations and recovering original information from transformed data.\n",
        "\n",
        "<img src =\"https://mrwilliamsmath.weebly.com/uploads/1/3/1/4/13149046/published/inverse-matrix.gif\">"
      ]
    },
    {
      "cell_type": "code",
      "execution_count": null,
      "metadata": {
        "colab": {
          "base_uri": "https://localhost:8080/"
        },
        "id": "ILgTczlyzvtu",
        "outputId": "8e4a4b66-0957-4027-9594-4211377fafa6"
      },
      "outputs": [
        {
          "data": {
            "text/plain": [
              "array([[ 4.27777778, -1.77777778],\n",
              "       [-3.86111111,  1.61111111]])"
            ]
          },
          "execution_count": 13,
          "metadata": {},
          "output_type": "execute_result"
        }
      ],
      "source": [
        "# To calculate the inverse\n",
        "inv = np.linalg.inv(output)\n",
        "inv"
      ]
    },
    {
      "cell_type": "markdown",
      "metadata": {
        "id": "tpgAjkCZ0p9S"
      },
      "source": [
        "# The axis argument in numpy: 2D axis=0 is column-wise and axis=1 means row-wise."
      ]
    },
    {
      "cell_type": "code",
      "execution_count": null,
      "metadata": {
        "colab": {
          "base_uri": "https://localhost:8080/"
        },
        "id": "8A7SDGgF0ERx",
        "outputId": "aedf12a6-5853-41d8-8590-36788576420e"
      },
      "outputs": [
        {
          "data": {
            "text/plain": [
              "array([[1, 2, 3],\n",
              "       [4, 5, 6]])"
            ]
          },
          "execution_count": 15,
          "metadata": {},
          "output_type": "execute_result"
        }
      ],
      "source": [
        "x = np.array([[1,2,3],[4,5,6]])\n",
        "x"
      ]
    },
    {
      "cell_type": "code",
      "execution_count": null,
      "metadata": {
        "colab": {
          "base_uri": "https://localhost:8080/"
        },
        "id": "weCwYuw01IJ3",
        "outputId": "a1a47473-135b-444e-d478-2821ba731002"
      },
      "outputs": [
        {
          "data": {
            "text/plain": [
              "21"
            ]
          },
          "execution_count": 16,
          "metadata": {},
          "output_type": "execute_result"
        }
      ],
      "source": [
        "# We want total sum of each item in an array\n",
        "x.sum()"
      ]
    },
    {
      "cell_type": "code",
      "execution_count": null,
      "metadata": {
        "colab": {
          "base_uri": "https://localhost:8080/"
        },
        "id": "2BeduDXP1Qbp",
        "outputId": "1de41658-ebc8-4e72-d5b5-c8dc674d7d91"
      },
      "outputs": [
        {
          "data": {
            "text/plain": [
              "array([5, 7, 9])"
            ]
          },
          "execution_count": 17,
          "metadata": {},
          "output_type": "execute_result"
        }
      ],
      "source": [
        "# vertically sum\n",
        "x.sum(axis=0)"
      ]
    },
    {
      "cell_type": "code",
      "execution_count": null,
      "metadata": {
        "colab": {
          "base_uri": "https://localhost:8080/"
        },
        "id": "g0djeF6Q12MC",
        "outputId": "4414237e-41fe-4306-a1e5-ef830c23b4d3"
      },
      "outputs": [
        {
          "data": {
            "text/plain": [
              "array([ 6, 15])"
            ]
          },
          "execution_count": 19,
          "metadata": {},
          "output_type": "execute_result"
        }
      ],
      "source": [
        "# horizontally sum\n",
        "x.sum(axis=1)"
      ]
    },
    {
      "cell_type": "code",
      "execution_count": null,
      "metadata": {
        "colab": {
          "base_uri": "https://localhost:8080/"
        },
        "id": "dwzvVGoc19W_",
        "outputId": "7b59b231-fa52-4f55-f654-f2fd18dde715"
      },
      "outputs": [
        {
          "data": {
            "text/plain": [
              "array([2.5, 3.5, 4.5])"
            ]
          },
          "execution_count": 20,
          "metadata": {},
          "output_type": "execute_result"
        }
      ],
      "source": [
        "# To calculate the verticle mean\n",
        "x.mean(axis=0)"
      ]
    },
    {
      "cell_type": "code",
      "execution_count": null,
      "metadata": {
        "colab": {
          "base_uri": "https://localhost:8080/"
        },
        "id": "EAuGYzW_2I8P",
        "outputId": "8f05ac9a-b01e-4796-acd9-6006ed0b9589"
      },
      "outputs": [
        {
          "data": {
            "text/plain": [
              "array([2., 5.])"
            ]
          },
          "execution_count": 21,
          "metadata": {},
          "output_type": "execute_result"
        }
      ],
      "source": [
        "# To calculate the horizontally mean'\n",
        "x.mean(axis=1)"
      ]
    },
    {
      "cell_type": "markdown",
      "metadata": {
        "id": "qNlQx-Uc2kVC"
      },
      "source": [
        "# .reshape()\n",
        "\n",
        "The reshape() is used to convert one dimension or shape  to another dimension or shape like (1D to 2D)(2,3)or (3,2)etc"
      ]
    },
    {
      "cell_type": "code",
      "execution_count": null,
      "metadata": {
        "colab": {
          "base_uri": "https://localhost:8080/"
        },
        "id": "Aw7uSQQi2UtN",
        "outputId": "58d65bac-f122-4200-c2d5-c6e8febf983d"
      },
      "outputs": [
        {
          "data": {
            "text/plain": [
              "array([1, 2, 3, 4, 5, 6])"
            ]
          },
          "execution_count": 23,
          "metadata": {},
          "output_type": "execute_result"
        }
      ],
      "source": [
        "x = np.array([1,2,3,4,5,6])\n",
        "x"
      ]
    },
    {
      "cell_type": "code",
      "execution_count": null,
      "metadata": {
        "colab": {
          "base_uri": "https://localhost:8080/"
        },
        "id": "MMTDIBfP2w5K",
        "outputId": "3834f60b-e358-46ed-cbaf-16cf8b85a61e"
      },
      "outputs": [
        {
          "data": {
            "text/plain": [
              "(6,)"
            ]
          },
          "execution_count": 24,
          "metadata": {},
          "output_type": "execute_result"
        }
      ],
      "source": [
        "x.shape"
      ]
    },
    {
      "cell_type": "code",
      "execution_count": null,
      "metadata": {
        "colab": {
          "base_uri": "https://localhost:8080/"
        },
        "id": "4FIPkfUc2x_X",
        "outputId": "bbabea17-5d79-495d-cf36-f769d3e40e3e"
      },
      "outputs": [
        {
          "data": {
            "text/plain": [
              "array([[1, 2, 3],\n",
              "       [4, 5, 6]])"
            ]
          },
          "execution_count": 25,
          "metadata": {},
          "output_type": "execute_result"
        }
      ],
      "source": [
        "x.reshape(2,3)"
      ]
    },
    {
      "cell_type": "code",
      "execution_count": null,
      "metadata": {
        "colab": {
          "base_uri": "https://localhost:8080/"
        },
        "id": "FTFbMlKc3IvU",
        "outputId": "ed418963-b1f4-4b0d-90ce-744e0cbacc30"
      },
      "outputs": [
        {
          "data": {
            "text/plain": [
              "array([[1, 2],\n",
              "       [3, 4],\n",
              "       [5, 6]])"
            ]
          },
          "execution_count": 26,
          "metadata": {},
          "output_type": "execute_result"
        }
      ],
      "source": [
        "x.reshape(3,2)"
      ]
    },
    {
      "cell_type": "code",
      "execution_count": null,
      "metadata": {
        "colab": {
          "base_uri": "https://localhost:8080/"
        },
        "id": "4F98GkdT3LWL",
        "outputId": "7230a1f9-255e-4830-f1c1-5f09021135cf"
      },
      "outputs": [
        {
          "data": {
            "text/plain": [
              "array([[1, 2, 3, 4, 5, 6]])"
            ]
          },
          "execution_count": 27,
          "metadata": {},
          "output_type": "execute_result"
        }
      ],
      "source": [
        "x.reshape(1,6)"
      ]
    },
    {
      "cell_type": "code",
      "execution_count": null,
      "metadata": {
        "colab": {
          "base_uri": "https://localhost:8080/"
        },
        "id": "Ek5W-8_h3hMk",
        "outputId": "55e54924-962b-4e20-c8cc-0dcbd4e92237"
      },
      "outputs": [
        {
          "data": {
            "text/plain": [
              "array([[1],\n",
              "       [2],\n",
              "       [3],\n",
              "       [4],\n",
              "       [5],\n",
              "       [6]])"
            ]
          },
          "execution_count": 29,
          "metadata": {},
          "output_type": "execute_result"
        }
      ],
      "source": [
        "x.reshape(6,1)"
      ]
    },
    {
      "cell_type": "markdown",
      "metadata": {
        "id": "BB04h7OZ4F6H"
      },
      "source": [
        "# Row matrix and column matrix\n",
        "\n",
        "<img src=\"https://d20khd7ddkh5ls.cloudfront.net/row_column_matrices.jpg\">"
      ]
    },
    {
      "cell_type": "code",
      "execution_count": 2,
      "metadata": {
        "id": "gLpUZMrV4YbZ"
      },
      "outputs": [
        {
          "data": {
            "text/plain": [
              "array([8, 2, 0, 3, 5, 9])"
            ]
          },
          "execution_count": 2,
          "metadata": {},
          "output_type": "execute_result"
        }
      ],
      "source": [
        "x = np.array([8,2,0,3,5,9])\n",
        "x"
      ]
    },
    {
      "cell_type": "code",
      "execution_count": 3,
      "metadata": {
        "colab": {
          "base_uri": "https://localhost:8080/"
        },
        "id": "w6ls6fG_47Qn",
        "outputId": "b94a9edb-84bb-47c6-bee6-d6eabcef55e7"
      },
      "outputs": [
        {
          "data": {
            "text/plain": [
              "array([[8, 2, 0, 3, 5, 9]])"
            ]
          },
          "execution_count": 3,
          "metadata": {},
          "output_type": "execute_result"
        }
      ],
      "source": [
        "# row matrix ma no.of row=1, column = unknown ; this unknown is represent by -1\n",
        "x.reshape(1,-1)"
      ]
    },
    {
      "cell_type": "code",
      "execution_count": 4,
      "metadata": {
        "id": "XomzjwmL5QhB"
      },
      "outputs": [
        {
          "data": {
            "text/plain": [
              "array([[8],\n",
              "       [2],\n",
              "       [0],\n",
              "       [3],\n",
              "       [5],\n",
              "       [9]])"
            ]
          },
          "execution_count": 4,
          "metadata": {},
          "output_type": "execute_result"
        }
      ],
      "source": [
        "# column matrix ma no.of row = unknown; column = 1; where as unknown represent -1\n",
        "\n",
        "x.reshape(-1,1)"
      ]
    },
    {
      "cell_type": "markdown",
      "metadata": {
        "id": "ppJqYJcc6guP"
      },
      "source": [
        "# Converting 2D array to 1D\n",
        "\n",
        "flatten is most used in data cleanning or deep learning. also it is used to convert the 2D or 3D array to convert in 1D."
      ]
    },
    {
      "cell_type": "code",
      "execution_count": 4,
      "metadata": {
        "colab": {
          "base_uri": "https://localhost:8080/"
        },
        "id": "1Yl9vwuO5pam",
        "outputId": "af18f0c9-135b-4d2e-980c-41aebe011bcc"
      },
      "outputs": [
        {
          "data": {
            "text/plain": [
              "array([[2, 6],\n",
              "       [8, 9]])"
            ]
          },
          "execution_count": 4,
          "metadata": {},
          "output_type": "execute_result"
        }
      ],
      "source": [
        "matrix = np.array([[2,6],[8,9]])\n",
        "matrix"
      ]
    },
    {
      "cell_type": "code",
      "execution_count": 5,
      "metadata": {
        "colab": {
          "base_uri": "https://localhost:8080/"
        },
        "id": "nls5_eRC6tCT",
        "outputId": "14fdc95c-954f-48c6-972a-323582f413ef"
      },
      "outputs": [
        {
          "data": {
            "text/plain": [
              "array([2, 6, 8, 9])"
            ]
          },
          "execution_count": 5,
          "metadata": {},
          "output_type": "execute_result"
        }
      ],
      "source": [
        "# flatten()\n",
        "flat_array = matrix.flatten()\n",
        "flat_array"
      ]
    },
    {
      "cell_type": "code",
      "execution_count": 6,
      "metadata": {
        "colab": {
          "base_uri": "https://localhost:8080/"
        },
        "id": "4xkii2Zb7Ctr",
        "outputId": "3e4c963f-0f79-4ce7-9933-7a1a0fa21035"
      },
      "outputs": [
        {
          "data": {
            "text/plain": [
              "1"
            ]
          },
          "execution_count": 6,
          "metadata": {},
          "output_type": "execute_result"
        }
      ],
      "source": [
        "flat_array.ndim"
      ]
    },
    {
      "cell_type": "code",
      "execution_count": 7,
      "metadata": {
        "colab": {
          "base_uri": "https://localhost:8080/"
        },
        "id": "3K5Zkhqt7huU",
        "outputId": "d74b2b24-8921-416c-c762-5a72e2d2883d"
      },
      "outputs": [
        {
          "data": {
            "text/plain": [
              "[2, 6, 8, 9]"
            ]
          },
          "execution_count": 7,
          "metadata": {},
          "output_type": "execute_result"
        }
      ],
      "source": [
        "# to convert to array into list\n",
        "flat_array.tolist()"
      ]
    },
    {
      "cell_type": "markdown",
      "metadata": {
        "id": "zFzAgP7F7_gI"
      },
      "source": [
        "# Morden day Images are in 3D\n",
        "\n",
        "`(channel,row, column)`"
      ]
    },
    {
      "cell_type": "code",
      "execution_count": null,
      "metadata": {
        "colab": {
          "base_uri": "https://localhost:8080/"
        },
        "id": "sFMQmtGX7lwJ",
        "outputId": "c627cdde-f53e-4c3d-cb68-0f69a99f4369"
      },
      "outputs": [
        {
          "data": {
            "text/plain": [
              "array([[[0., 0., 0., 0., 0.],\n",
              "        [0., 0., 0., 0., 0.],\n",
              "        [0., 0., 0., 0., 0.],\n",
              "        [0., 0., 0., 0., 0.]],\n",
              "\n",
              "       [[0., 0., 0., 0., 0.],\n",
              "        [0., 0., 0., 0., 0.],\n",
              "        [0., 0., 0., 0., 0.],\n",
              "        [0., 0., 0., 0., 0.]],\n",
              "\n",
              "       [[0., 0., 0., 0., 0.],\n",
              "        [0., 0., 0., 0., 0.],\n",
              "        [0., 0., 0., 0., 0.],\n",
              "        [0., 0., 0., 0., 0.]]])"
            ]
          },
          "execution_count": 42,
          "metadata": {},
          "output_type": "execute_result"
        }
      ],
      "source": [
        "np.zeros((3,4,5))"
      ]
    },
    {
      "cell_type": "code",
      "execution_count": null,
      "metadata": {
        "colab": {
          "base_uri": "https://localhost:8080/"
        },
        "id": "zd7LgTyN9E6u",
        "outputId": "c9ec16eb-2ee7-48c2-f2c6-66fe54495ca1"
      },
      "outputs": [
        {
          "data": {
            "text/plain": [
              "array([[[0.91239038, 0.07924515, 0.96835307, 0.25370646, 0.32083212],\n",
              "        [0.33967278, 0.97680984, 0.81618472, 0.44447794, 0.57372895],\n",
              "        [0.36518984, 0.85875859, 0.39227677, 0.96599977, 0.20937318],\n",
              "        [0.8575841 , 0.38114698, 0.12848951, 0.841727  , 0.6543123 ]],\n",
              "\n",
              "       [[0.65221098, 0.32855198, 0.83182798, 0.65658724, 0.67577995],\n",
              "        [0.72535505, 0.58487372, 0.72495381, 0.66851379, 0.98245623],\n",
              "        [0.24321409, 0.04819083, 0.09862191, 0.64673708, 0.40523096],\n",
              "        [0.88225306, 0.8493405 , 0.6137525 , 0.31608239, 0.35445127]],\n",
              "\n",
              "       [[0.31033947, 0.77178534, 0.61638424, 0.913562  , 0.84927542],\n",
              "        [0.27838715, 0.77289867, 0.21515222, 0.62670416, 0.53261071],\n",
              "        [0.17638663, 0.87428683, 0.73344425, 0.10572735, 0.95586559],\n",
              "        [0.19629932, 0.88051505, 0.51455275, 0.69335174, 0.87764786]]])"
            ]
          },
          "execution_count": 43,
          "metadata": {},
          "output_type": "execute_result"
        }
      ],
      "source": [
        "np.random.rand(3,4,5)"
      ]
    },
    {
      "cell_type": "code",
      "execution_count": null,
      "metadata": {
        "id": "ARCYergj-BQO"
      },
      "outputs": [],
      "source": []
    }
  ],
  "metadata": {
    "colab": {
      "provenance": []
    },
    "kernelspec": {
      "display_name": "Python 3",
      "name": "python3"
    },
    "language_info": {
      "codemirror_mode": {
        "name": "ipython",
        "version": 3
      },
      "file_extension": ".py",
      "mimetype": "text/x-python",
      "name": "python",
      "nbconvert_exporter": "python",
      "pygments_lexer": "ipython3",
      "version": "3.11.4"
    }
  },
  "nbformat": 4,
  "nbformat_minor": 0
}
