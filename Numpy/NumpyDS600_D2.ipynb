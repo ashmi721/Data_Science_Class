{
  "cells": [
    {
      "cell_type": "markdown",
      "metadata": {
        "id": "b8YHM8WSooyn"
      },
      "source": [
        "# Sort and Concate"
      ]
    },
    {
      "cell_type": "code",
      "execution_count": 2,
      "metadata": {
        "id": "x39192gBoxRs"
      },
      "outputs": [],
      "source": [
        "import numpy as np\n",
        "x = np.array([9,0.2,-1,5,4,12])\n"
      ]
    },
    {
      "cell_type": "markdown",
      "metadata": {},
      "source": [
        "* Sort()"
      ]
    },
    {
      "cell_type": "code",
      "execution_count": null,
      "metadata": {
        "colab": {
          "base_uri": "https://localhost:8080/"
        },
        "id": "f-rxuZdWpJ87",
        "outputId": "b8300f63-b898-498f-81e3-712cef45fecc"
      },
      "outputs": [
        {
          "data": {
            "text/plain": [
              "array([-1. ,  0.2,  4. ,  5. ,  9. , 12. ])"
            ]
          },
          "execution_count": 6,
          "metadata": {},
          "output_type": "execute_result"
        }
      ],
      "source": [
        "np.sort(x) #ascending"
      ]
    },
    {
      "cell_type": "code",
      "execution_count": null,
      "metadata": {
        "colab": {
          "base_uri": "https://localhost:8080/"
        },
        "id": "YapQhpy4pnfX",
        "outputId": "bbafaf52-088e-498f-cfd5-f42c42c68727"
      },
      "outputs": [
        {
          "data": {
            "text/plain": [
              "array([12. ,  9. ,  5. ,  4. ,  0.2, -1. ])"
            ]
          },
          "execution_count": 8,
          "metadata": {},
          "output_type": "execute_result"
        }
      ],
      "source": [
        "# Desending order if you flip ascending order it becomes desending\n",
        "np.flip(np.sort(x)) "
      ]
    },
    {
      "cell_type": "markdown",
      "metadata": {
        "id": "4CWdkEdfp7zt"
      },
      "source": [
        "* Concatenate()"
      ]
    },
    {
      "cell_type": "code",
      "execution_count": 1,
      "metadata": {
        "id": "MB2R_PHap4Eo"
      },
      "outputs": [],
      "source": [
        "# In list concate\n",
        "a = [2,4]\n",
        "b = [3,8,1]"
      ]
    },
    {
      "cell_type": "code",
      "execution_count": 2,
      "metadata": {
        "colab": {
          "base_uri": "https://localhost:8080/"
        },
        "id": "XAfPzOvTqJL0",
        "outputId": "e02214c4-c2bf-440c-a28c-dd94bc927841"
      },
      "outputs": [
        {
          "data": {
            "text/plain": [
              "[2, 4, 3, 8, 1]"
            ]
          },
          "execution_count": 2,
          "metadata": {},
          "output_type": "execute_result"
        }
      ],
      "source": [
        "a + b"
      ]
    },
    {
      "cell_type": "code",
      "execution_count": 5,
      "metadata": {
        "id": "cVQuqR9GqObZ"
      },
      "outputs": [],
      "source": [
        "# In array concate\n",
        "a =np.array([2,4])\n",
        "b = np.array([3,8,1])"
      ]
    },
    {
      "cell_type": "code",
      "execution_count": 6,
      "metadata": {
        "colab": {
          "base_uri": "https://localhost:8080/",
          "height": 175
        },
        "id": "gwYNhVVpqhP0",
        "outputId": "229636b1-3b5b-4986-b0b8-a0e78d0c7d27"
      },
      "outputs": [
        {
          "ename": "ValueError",
          "evalue": "operands could not be broadcast together with shapes (2,) (3,) ",
          "output_type": "error",
          "traceback": [
            "\u001b[1;31m---------------------------------------------------------------------------\u001b[0m",
            "\u001b[1;31mValueError\u001b[0m                                Traceback (most recent call last)",
            "\u001b[1;32mc:\\Users\\ashmi\\OneDrive\\Desktop\\Data Science\\Data_Science_Class\\Numpy\\NumpyDS600_D2.ipynb Cell 10\u001b[0m line \u001b[0;36m1\n\u001b[1;32m----> <a href='vscode-notebook-cell:/c%3A/Users/ashmi/OneDrive/Desktop/Data%20Science/Data_Science_Class/Numpy/NumpyDS600_D2.ipynb#X11sZmlsZQ%3D%3D?line=0'>1</a>\u001b[0m a\u001b[39m+\u001b[39;49mb\n",
            "\u001b[1;31mValueError\u001b[0m: operands could not be broadcast together with shapes (2,) (3,) "
          ]
        }
      ],
      "source": [
        "# In Array does not concate together with different shape data using (+) operator.\n",
        "a+b"
      ]
    },
    {
      "cell_type": "code",
      "execution_count": 8,
      "metadata": {
        "colab": {
          "base_uri": "https://localhost:8080/"
        },
        "id": "98ptYJAfr1CU",
        "outputId": "c64f628b-24b3-4796-9dc8-c6a025c6ae9d"
      },
      "outputs": [
        {
          "data": {
            "text/plain": [
              "array([2, 4, 3, 8, 1])"
            ]
          },
          "execution_count": 8,
          "metadata": {},
          "output_type": "execute_result"
        }
      ],
      "source": [
        "# In Array we use concate two value using concatenate() method\n",
        "np.concatenate((a,b))"
      ]
    },
    {
      "cell_type": "markdown",
      "metadata": {
        "id": "NmScvT3yqw13"
      },
      "source": [
        "# Vector operations and brodcasting\n"
      ]
    },
    {
      "cell_type": "code",
      "execution_count": 9,
      "metadata": {
        "colab": {
          "base_uri": "https://localhost:8080/"
        },
        "id": "DzbOEhFAq14M",
        "outputId": "89d196c3-29cc-4690-a6f5-4b6b2e1a350c"
      },
      "outputs": [],
      "source": [
        "x = np.array([8,4,2])\n",
        "y = np.array([2,4,2])\n"
      ]
    },
    {
      "cell_type": "markdown",
      "metadata": {},
      "source": [
        "* Vector Basic Arithmetic operation: \n",
        "\n",
        "Vetor operation perform when we have an equal shape of the array."
      ]
    },
    {
      "cell_type": "code",
      "execution_count": 10,
      "metadata": {},
      "outputs": [
        {
          "data": {
            "text/plain": [
              "array([10,  8,  4])"
            ]
          },
          "execution_count": 10,
          "metadata": {},
          "output_type": "execute_result"
        }
      ],
      "source": [
        "# Addition\n",
        "x + y"
      ]
    },
    {
      "cell_type": "code",
      "execution_count": null,
      "metadata": {
        "colab": {
          "base_uri": "https://localhost:8080/"
        },
        "id": "e5UGf8UYrujY",
        "outputId": "d861c9a0-c5d2-46d1-dac2-21411cf8a901"
      },
      "outputs": [
        {
          "data": {
            "text/plain": [
              "array([6, 0, 0])"
            ]
          },
          "execution_count": 24,
          "metadata": {},
          "output_type": "execute_result"
        }
      ],
      "source": [
        "# Subtraction\n",
        "x-y"
      ]
    },
    {
      "cell_type": "code",
      "execution_count": null,
      "metadata": {
        "colab": {
          "base_uri": "https://localhost:8080/"
        },
        "id": "_VIDzxmnsESy",
        "outputId": "76ea4f3b-641c-4a2d-d9b8-748dfb33ef9f"
      },
      "outputs": [
        {
          "data": {
            "text/plain": [
              "array([16, 16,  4])"
            ]
          },
          "execution_count": 31,
          "metadata": {},
          "output_type": "execute_result"
        }
      ],
      "source": [
        "# Multiplications\n",
        "x * y"
      ]
    },
    {
      "cell_type": "code",
      "execution_count": null,
      "metadata": {
        "colab": {
          "base_uri": "https://localhost:8080/"
        },
        "id": "R8EuDiWAsHvC",
        "outputId": "a056c73f-9a9c-48f8-9a24-a35cf0c760d4"
      },
      "outputs": [
        {
          "data": {
            "text/plain": [
              "array([ 64, 256,   4])"
            ]
          },
          "execution_count": 34,
          "metadata": {},
          "output_type": "execute_result"
        }
      ],
      "source": [
        "# Exponant\n",
        "x ** y"
      ]
    },
    {
      "cell_type": "markdown",
      "metadata": {},
      "source": [
        "* Brodcasting\n",
        "\n",
        "Brodcasting allow operations between different shape of the array."
      ]
    },
    {
      "cell_type": "code",
      "execution_count": null,
      "metadata": {
        "id": "-Ve7mzfEsh1o"
      },
      "outputs": [],
      "source": [
        "a = np.array([8,9,6,1])"
      ]
    },
    {
      "cell_type": "code",
      "execution_count": null,
      "metadata": {
        "colab": {
          "base_uri": "https://localhost:8080/"
        },
        "id": "QXD9cRmdstf2",
        "outputId": "91f3befa-df2e-420b-b8d3-71504d21725d"
      },
      "outputs": [
        {
          "data": {
            "text/plain": [
              "array([16, 18, 12,  2])"
            ]
          },
          "execution_count": 36,
          "metadata": {},
          "output_type": "execute_result"
        }
      ],
      "source": [
        "2 * a # brodcasting"
      ]
    },
    {
      "cell_type": "code",
      "execution_count": null,
      "metadata": {
        "colab": {
          "base_uri": "https://localhost:8080/"
        },
        "id": "AoIqPqUAsyC-",
        "outputId": "0dae8c6c-b596-4059-e4af-71f4143d8f0c"
      },
      "outputs": [
        {
          "data": {
            "text/plain": [
              "array([11, 12,  9,  4])"
            ]
          },
          "execution_count": 37,
          "metadata": {},
          "output_type": "execute_result"
        }
      ],
      "source": [
        "3 + a"
      ]
    },
    {
      "cell_type": "code",
      "execution_count": 4,
      "metadata": {},
      "outputs": [
        {
          "data": {
            "text/plain": [
              "array([[11, 13, 15],\n",
              "       [14, 16, 18]])"
            ]
          },
          "execution_count": 4,
          "metadata": {},
          "output_type": "execute_result"
        }
      ],
      "source": [
        "# Lets work brodcast with different shape of the array\n",
        "a = np.array([[1,2,3],[4,5,6]])\n",
        "b = np.array([10,11,12]) # b brodcast automatically to expand the a\n",
        "result = a + b\n",
        "result"
      ]
    },
    {
      "cell_type": "markdown",
      "metadata": {
        "id": "yc6wFjyHs_nC"
      },
      "source": [
        "# Statistics using Numpy"
      ]
    },
    {
      "cell_type": "code",
      "execution_count": 11,
      "metadata": {
        "colab": {
          "base_uri": "https://localhost:8080/"
        },
        "id": "Ez5MHQmos3_V",
        "outputId": "866de141-be10-41c4-cc44-f7da2a7b349d"
      },
      "outputs": [
        {
          "data": {
            "text/plain": [
              "array([45, 48,  1,  4,  4])"
            ]
          },
          "execution_count": 11,
          "metadata": {},
          "output_type": "execute_result"
        }
      ],
      "source": [
        "# Generate random number\n",
        "np.random.seed(0)\n",
        "data = np.random.randint(1,50,5)\n",
        "data"
      ]
    },
    {
      "cell_type": "code",
      "execution_count": null,
      "metadata": {
        "colab": {
          "base_uri": "https://localhost:8080/"
        },
        "id": "NNFtOiBVtjwX",
        "outputId": "74fe8c43-8ffd-4ef5-f59b-f3b15d031226"
      },
      "outputs": [
        {
          "data": {
            "text/plain": [
              "20.4"
            ]
          },
          "execution_count": 40,
          "metadata": {},
          "output_type": "execute_result"
        }
      ],
      "source": [
        "# mean\n",
        "np.mean(data)"
      ]
    },
    {
      "cell_type": "code",
      "execution_count": null,
      "metadata": {
        "colab": {
          "base_uri": "https://localhost:8080/"
        },
        "id": "OC9HChrwtn7o",
        "outputId": "89f441dc-bdd0-408d-d349-1989ec0a9e11"
      },
      "outputs": [
        {
          "data": {
            "text/plain": [
              "4.0"
            ]
          },
          "execution_count": 41,
          "metadata": {},
          "output_type": "execute_result"
        }
      ],
      "source": [
        "# median\n",
        "np.median(data)"
      ]
    },
    {
      "cell_type": "code",
      "execution_count": null,
      "metadata": {
        "colab": {
          "base_uri": "https://localhost:8080/"
        },
        "id": "dP5SgDLCtrhb",
        "outputId": "082150a1-07d8-4444-c658-68b7be49b91b"
      },
      "outputs": [
        {
          "data": {
            "text/plain": [
              "ModeResult(mode=4, count=2)"
            ]
          },
          "execution_count": 43,
          "metadata": {},
          "output_type": "execute_result"
        }
      ],
      "source": [
        "# To calculate the mode we need to import scipy library\n",
        "from scipy.stats import mode\n",
        "mode(data) # mode 4 is the frequency or count 2"
      ]
    },
    {
      "cell_type": "code",
      "execution_count": null,
      "metadata": {
        "colab": {
          "base_uri": "https://localhost:8080/"
        },
        "id": "2_80waO5uHVY",
        "outputId": "bf27ee80-6e58-44db-a57c-45840d923165"
      },
      "outputs": [
        {
          "data": {
            "text/plain": [
              "21.35977527971678"
            ]
          },
          "execution_count": 44,
          "metadata": {},
          "output_type": "execute_result"
        }
      ],
      "source": [
        "np.std(data) # standard deviation"
      ]
    },
    {
      "cell_type": "code",
      "execution_count": null,
      "metadata": {
        "colab": {
          "base_uri": "https://localhost:8080/"
        },
        "id": "-KwrARyEuTZf",
        "outputId": "828d2dbf-65b8-4827-ffcc-eee86bb96b83"
      },
      "outputs": [
        {
          "data": {
            "text/plain": [
              "456.23999999999995"
            ]
          },
          "execution_count": 45,
          "metadata": {},
          "output_type": "execute_result"
        }
      ],
      "source": [
        "np.var(data) # variance"
      ]
    },
    {
      "cell_type": "code",
      "execution_count": null,
      "metadata": {
        "colab": {
          "base_uri": "https://localhost:8080/"
        },
        "id": "9Nc1W5SzuZ22",
        "outputId": "86476c32-dcc6-446e-ad72-e9184318348c"
      },
      "outputs": [
        {
          "data": {
            "text/plain": [
              "1"
            ]
          },
          "execution_count": 47,
          "metadata": {},
          "output_type": "execute_result"
        }
      ],
      "source": [
        "np.min(data) # To calculate minimum value"
      ]
    },
    {
      "cell_type": "code",
      "execution_count": null,
      "metadata": {
        "colab": {
          "base_uri": "https://localhost:8080/"
        },
        "id": "aw204QwOuimh",
        "outputId": "3dcf3783-6a7c-448c-ae8b-42ec9ef5dd72"
      },
      "outputs": [
        {
          "data": {
            "text/plain": [
              "48"
            ]
          },
          "execution_count": 48,
          "metadata": {},
          "output_type": "execute_result"
        }
      ],
      "source": [
        "np.max(data) # To calculate maximum value"
      ]
    },
    {
      "cell_type": "code",
      "execution_count": 12,
      "metadata": {
        "colab": {
          "base_uri": "https://localhost:8080/"
        },
        "id": "Z7__xo9FuxGg",
        "outputId": "79d7eb2f-b473-42a7-e146-d21c4b79a6a5"
      },
      "outputs": [
        {
          "data": {
            "text/plain": [
              "47"
            ]
          },
          "execution_count": 12,
          "metadata": {},
          "output_type": "execute_result"
        }
      ],
      "source": [
        "range = np.max(data) - np.min(data) # To calculate range value\n",
        "range"
      ]
    },
    {
      "cell_type": "code",
      "execution_count": 13,
      "metadata": {
        "colab": {
          "base_uri": "https://localhost:8080/"
        },
        "id": "eTXBGIHnu5QG",
        "outputId": "be595d73-7d18-4220-dc45-204ac5e2a304"
      },
      "outputs": [
        {
          "data": {
            "text/plain": [
              "1"
            ]
          },
          "execution_count": 13,
          "metadata": {},
          "output_type": "execute_result"
        }
      ],
      "source": [
        "# To find the index out  of the data where maximum value(48)\n",
        "np.argmax(data)"
      ]
    },
    {
      "cell_type": "code",
      "execution_count": 14,
      "metadata": {
        "colab": {
          "base_uri": "https://localhost:8080/"
        },
        "id": "oDJxr33Ovm9v",
        "outputId": "61f52430-8c36-422d-9acc-a0efda70f046"
      },
      "outputs": [
        {
          "data": {
            "text/plain": [
              "2"
            ]
          },
          "execution_count": 14,
          "metadata": {},
          "output_type": "execute_result"
        }
      ],
      "source": [
        "# To find the index of the minimum value(1)\n",
        "np.argmin(data)"
      ]
    },
    {
      "cell_type": "markdown",
      "metadata": {
        "id": "1OSSlN57v5fQ"
      },
      "source": [
        "# .any() vs .all()"
      ]
    },
    {
      "cell_type": "code",
      "execution_count": 16,
      "metadata": {
        "id": "P6jG1H2bvt7Z"
      },
      "outputs": [],
      "source": [
        "height = np.array([1,2,3,4,5,6,6,5,4,3,2,1])"
      ]
    },
    {
      "cell_type": "markdown",
      "metadata": {},
      "source": [
        "* .any()\n",
        "\n",
        "It return True if one situation is match."
      ]
    },
    {
      "cell_type": "code",
      "execution_count": 17,
      "metadata": {
        "colab": {
          "base_uri": "https://localhost:8080/"
        },
        "id": "xEzU6CVgwJ9N",
        "outputId": "83a1dac0-6f05-496b-9623-e8e4d557d3d9"
      },
      "outputs": [
        {
          "data": {
            "text/plain": [
              "array([False, False, False, False,  True,  True,  True,  True, False,\n",
              "       False, False, False])"
            ]
          },
          "execution_count": 17,
          "metadata": {},
          "output_type": "execute_result"
        }
      ],
      "source": [
        "height >= 5 # is there any person with height >= 5?"
      ]
    },
    {
      "cell_type": "code",
      "execution_count": 18,
      "metadata": {
        "colab": {
          "base_uri": "https://localhost:8080/"
        },
        "id": "IC9Ph8MOwbV1",
        "outputId": "74bf4b61-214a-4afc-afef-026ac9f5fcd5"
      },
      "outputs": [
        {
          "data": {
            "text/plain": [
              "True"
            ]
          },
          "execution_count": 18,
          "metadata": {},
          "output_type": "execute_result"
        }
      ],
      "source": [
        "np.any(height >= 5)"
      ]
    },
    {
      "cell_type": "markdown",
      "metadata": {},
      "source": [
        "* .all()\n",
        "\n",
        "It return True when all the situation is match."
      ]
    },
    {
      "cell_type": "code",
      "execution_count": 20,
      "metadata": {
        "colab": {
          "base_uri": "https://localhost:8080/"
        },
        "id": "Dav5WHayxFRq",
        "outputId": "a728bbca-3263-40a7-e34a-0113cc7ba01a"
      },
      "outputs": [
        {
          "data": {
            "text/plain": [
              "False"
            ]
          },
          "execution_count": 20,
          "metadata": {},
          "output_type": "execute_result"
        }
      ],
      "source": [
        "np.all(height>=5) # is there all person with height >= 5?"
      ]
    },
    {
      "cell_type": "code",
      "execution_count": 21,
      "metadata": {
        "colab": {
          "base_uri": "https://localhost:8080/"
        },
        "id": "An522LqVxUFQ",
        "outputId": "17204887-38c4-4fd7-eec5-f7719b9c88cb"
      },
      "outputs": [
        {
          "data": {
            "text/plain": [
              "array([5, 6, 6, 5])"
            ]
          },
          "execution_count": 21,
          "metadata": {},
          "output_type": "execute_result"
        }
      ],
      "source": [
        "# To find  the how many person and who  are present (height >=5) \n",
        "height[height >= 5]"
      ]
    },
    {
      "cell_type": "code",
      "execution_count": null,
      "metadata": {
        "colab": {
          "base_uri": "https://localhost:8080/",
          "height": 210
        },
        "id": "f4JraUvuySIl",
        "outputId": "dc2cb176-ce76-4d7d-bac5-60f5978f591f"
      },
      "outputs": [
        {
          "ename": "ValueError",
          "evalue": "ignored",
          "output_type": "error",
          "traceback": [
            "\u001b[0;31m---------------------------------------------------------------------------\u001b[0m",
            "\u001b[0;31mValueError\u001b[0m                                Traceback (most recent call last)",
            "\u001b[0;32m<ipython-input-65-f5805c9e7c9e>\u001b[0m in \u001b[0;36m<cell line: 2>\u001b[0;34m()\u001b[0m\n\u001b[1;32m      1\u001b[0m \u001b[0;31m# To find out grater than 3 and  less than 5\u001b[0m\u001b[0;34m\u001b[0m\u001b[0;34m\u001b[0m\u001b[0m\n\u001b[0;32m----> 2\u001b[0;31m \u001b[0mheight\u001b[0m\u001b[0;34m[\u001b[0m\u001b[0mheight\u001b[0m\u001b[0;34m>\u001b[0m\u001b[0;36m3\u001b[0m \u001b[0;32mand\u001b[0m \u001b[0mheight\u001b[0m \u001b[0;34m<\u001b[0m \u001b[0;36m5\u001b[0m\u001b[0;34m]\u001b[0m\u001b[0;34m\u001b[0m\u001b[0;34m\u001b[0m\u001b[0m\n\u001b[0m",
            "\u001b[0;31mValueError\u001b[0m: The truth value of an array with more than one element is ambiguous. Use a.any() or a.all()"
          ]
        }
      ],
      "source": [
        "# To find out grater than 3 and  less than 5\n",
        "height[height>3 and height < 5] # numpy array doesn't support logical operator"
      ]
    },
    {
      "cell_type": "code",
      "execution_count": 22,
      "metadata": {
        "colab": {
          "base_uri": "https://localhost:8080/"
        },
        "id": "hB3v2-ULyqrz",
        "outputId": "10d3492e-9410-4753-ee7c-d2975a8234e7"
      },
      "outputs": [
        {
          "data": {
            "text/plain": [
              "array([4, 4])"
            ]
          },
          "execution_count": 22,
          "metadata": {},
          "output_type": "execute_result"
        }
      ],
      "source": [
        "# while we use bitwise operator\n",
        "height[(height>3) & (height < 5)] # when we use all the bitwise operator we need to close condtion in brackets"
      ]
    },
    {
      "cell_type": "markdown",
      "metadata": {
        "id": "si-2WmSizkbk"
      },
      "source": [
        "# Two Dimensional array"
      ]
    },
    {
      "cell_type": "code",
      "execution_count": 25,
      "metadata": {
        "colab": {
          "base_uri": "https://localhost:8080/"
        },
        "id": "uAd5KMd5y7gf",
        "outputId": "5b6cd2cc-1fcb-4449-8e7c-d38f7abfc44a"
      },
      "outputs": [
        {
          "data": {
            "text/plain": [
              "array([[1, 2, 3],\n",
              "       [4, 5, 6],\n",
              "       [7, 8, 9]])"
            ]
          },
          "execution_count": 25,
          "metadata": {},
          "output_type": "execute_result"
        }
      ],
      "source": [
        "data = [ [1,2,3],[4,5,6],[7,8,9]]\n",
        "matrix = np.array(data)\n",
        "matrix"
      ]
    },
    {
      "cell_type": "code",
      "execution_count": 26,
      "metadata": {
        "colab": {
          "base_uri": "https://localhost:8080/"
        },
        "id": "WdWRQVq-0O0g",
        "outputId": "f9359ff6-3d64-49cc-dc44-2c33e6337efa"
      },
      "outputs": [
        {
          "data": {
            "text/plain": [
              "(3, 3)"
            ]
          },
          "execution_count": 26,
          "metadata": {},
          "output_type": "execute_result"
        }
      ],
      "source": [
        "matrix.shape # (no.of rows, no.of colums)"
      ]
    },
    {
      "cell_type": "code",
      "execution_count": null,
      "metadata": {
        "colab": {
          "base_uri": "https://localhost:8080/"
        },
        "id": "XbC4m5kI0TaN",
        "outputId": "d7bee2a1-998a-43e6-81b0-17f7ef5fa3ac"
      },
      "outputs": [
        {
          "data": {
            "text/plain": [
              "2"
            ]
          },
          "execution_count": 71,
          "metadata": {},
          "output_type": "execute_result"
        }
      ],
      "source": [
        "matrix.ndim # check the dimension"
      ]
    },
    {
      "cell_type": "code",
      "execution_count": 27,
      "metadata": {
        "colab": {
          "base_uri": "https://localhost:8080/"
        },
        "id": "8wiRa4Qu0pp1",
        "outputId": "47d77750-a780-482e-dd89-245b84a83000"
      },
      "outputs": [
        {
          "data": {
            "text/plain": [
              "6"
            ]
          },
          "execution_count": 27,
          "metadata": {},
          "output_type": "execute_result"
        }
      ],
      "source": [
        "# To find the value 6\n",
        "matrix[1,2]"
      ]
    },
    {
      "cell_type": "code",
      "execution_count": null,
      "metadata": {
        "colab": {
          "base_uri": "https://localhost:8080/"
        },
        "id": "Vyb6KkTH1g6a",
        "outputId": "b2439fac-a4ba-4279-82cc-446761409cd3"
      },
      "outputs": [
        {
          "data": {
            "text/plain": [
              "9"
            ]
          },
          "execution_count": 73,
          "metadata": {},
          "output_type": "execute_result"
        }
      ],
      "source": [
        "# To find the value 9\n",
        "matrix[2,2]"
      ]
    },
    {
      "cell_type": "code",
      "execution_count": null,
      "metadata": {
        "colab": {
          "base_uri": "https://localhost:8080/"
        },
        "id": "dPz-IwZi1keI",
        "outputId": "24391a9a-d066-43d2-ce1d-6bcfbaed5ae3"
      },
      "outputs": [
        {
          "data": {
            "text/plain": [
              "4"
            ]
          },
          "execution_count": 74,
          "metadata": {},
          "output_type": "execute_result"
        }
      ],
      "source": [
        "#To find the value 4\n",
        "matrix[1,0]"
      ]
    },
    {
      "cell_type": "code",
      "execution_count": null,
      "metadata": {
        "colab": {
          "base_uri": "https://localhost:8080/"
        },
        "id": "nDr3NMzb1nkF",
        "outputId": "9ec581fe-8790-47c1-c193-aa0f29220835"
      },
      "outputs": [
        {
          "data": {
            "text/plain": [
              "8"
            ]
          },
          "execution_count": 75,
          "metadata": {},
          "output_type": "execute_result"
        }
      ],
      "source": [
        "# To find the value 8\n",
        "matrix[2,1]"
      ]
    },
    {
      "cell_type": "code",
      "execution_count": null,
      "metadata": {
        "colab": {
          "base_uri": "https://localhost:8080/"
        },
        "id": "RTbs1pCA1qqb",
        "outputId": "16c4cfca-38b5-438e-9d84-e2d65ca16735"
      },
      "outputs": [
        {
          "data": {
            "text/plain": [
              "array([4, 5, 6])"
            ]
          },
          "execution_count": 76,
          "metadata": {},
          "output_type": "execute_result"
        }
      ],
      "source": [
        "matrix[1,:] # To find the[4,5,6]"
      ]
    },
    {
      "cell_type": "code",
      "execution_count": null,
      "metadata": {
        "colab": {
          "base_uri": "https://localhost:8080/"
        },
        "id": "BxmZxrjm2I1Q",
        "outputId": "83287b60-a618-4b48-f234-8cd398235d04"
      },
      "outputs": [
        {
          "data": {
            "text/plain": [
              "array([7, 8, 9])"
            ]
          },
          "execution_count": 77,
          "metadata": {},
          "output_type": "execute_result"
        }
      ],
      "source": [
        "matrix[2,:]# To find the[7,8,9]"
      ]
    },
    {
      "cell_type": "code",
      "execution_count": 31,
      "metadata": {
        "colab": {
          "base_uri": "https://localhost:8080/"
        },
        "id": "hMHTEVav2QVl",
        "outputId": "24fda01f-a0dc-49d9-b3a4-152b1a69ca9c"
      },
      "outputs": [
        {
          "data": {
            "text/plain": [
              "array([3, 6, 9])"
            ]
          },
          "execution_count": 31,
          "metadata": {},
          "output_type": "execute_result"
        }
      ],
      "source": [
        "matrix[:,2]# To find the[3,6,9]"
      ]
    },
    {
      "cell_type": "code",
      "execution_count": 32,
      "metadata": {
        "colab": {
          "base_uri": "https://localhost:8080/"
        },
        "id": "xiIV7YpW2Zu1",
        "outputId": "db99c6f5-8a06-45be-e28e-1f53f92ac73c"
      },
      "outputs": [
        {
          "data": {
            "text/plain": [
              "array([1, 4, 7])"
            ]
          },
          "execution_count": 32,
          "metadata": {},
          "output_type": "execute_result"
        }
      ],
      "source": [
        "matrix[:,0]# To find the[1,4,7]"
      ]
    },
    {
      "cell_type": "code",
      "execution_count": null,
      "metadata": {
        "colab": {
          "base_uri": "https://localhost:8080/"
        },
        "id": "t-hq59Ym2frU",
        "outputId": "b23b6b1c-c016-4acd-87c2-ccea35bf6ed5"
      },
      "outputs": [
        {
          "data": {
            "text/plain": [
              "array([[4, 5, 6],\n",
              "       [7, 8, 9]])"
            ]
          },
          "execution_count": 80,
          "metadata": {},
          "output_type": "execute_result"
        }
      ],
      "source": [
        "matrix[1:]"
      ]
    },
    {
      "cell_type": "code",
      "execution_count": null,
      "metadata": {
        "colab": {
          "base_uri": "https://localhost:8080/"
        },
        "id": "LEqzXzh92wn7",
        "outputId": "0a226839-541f-440c-f694-6ea637b7b9b6"
      },
      "outputs": [
        {
          "data": {
            "text/plain": [
              "array([[5, 6],\n",
              "       [8, 9]])"
            ]
          },
          "execution_count": 81,
          "metadata": {},
          "output_type": "execute_result"
        }
      ],
      "source": [
        "matrix[1:,1:] # To find the[[5,6],[8,9]]"
      ]
    },
    {
      "cell_type": "code",
      "execution_count": 30,
      "metadata": {},
      "outputs": [
        {
          "data": {
            "text/plain": [
              "array([[2, 3],\n",
              "       [5, 6]])"
            ]
          },
          "execution_count": 30,
          "metadata": {},
          "output_type": "execute_result"
        }
      ],
      "source": [
        "matrix[:2,1:] # To find the[[2,3],[5,6]]"
      ]
    },
    {
      "cell_type": "code",
      "execution_count": null,
      "metadata": {
        "colab": {
          "base_uri": "https://localhost:8080/"
        },
        "id": "CPaW3dSG2-CO",
        "outputId": "cf960d11-f677-4228-c217-0cd3c19a6f7c"
      },
      "outputs": [
        {
          "data": {
            "text/plain": [
              "array([[4, 5],\n",
              "       [7, 8]])"
            ]
          },
          "execution_count": 82,
          "metadata": {},
          "output_type": "execute_result"
        }
      ],
      "source": [
        "matrix[1:,:2]# To find the[[4,5],[7,8]]"
      ]
    },
    {
      "cell_type": "code",
      "execution_count": null,
      "metadata": {
        "colab": {
          "base_uri": "https://localhost:8080/"
        },
        "id": "1Wc_8-ec3FDe",
        "outputId": "497a1fc1-d6c8-42b8-f5ff-071648e20554"
      },
      "outputs": [
        {
          "data": {
            "text/plain": [
              "array([[2, 3],\n",
              "       [5, 6]])"
            ]
          },
          "execution_count": 84,
          "metadata": {},
          "output_type": "execute_result"
        }
      ],
      "source": [
        "matrix[:2,1:] # To find the[[2,3],[5,6]]"
      ]
    },
    {
      "cell_type": "code",
      "execution_count": null,
      "metadata": {
        "id": "JR3ztJSU3SMN"
      },
      "outputs": [],
      "source": []
    }
  ],
  "metadata": {
    "colab": {
      "provenance": []
    },
    "kernelspec": {
      "display_name": "Python 3",
      "name": "python3"
    },
    "language_info": {
      "codemirror_mode": {
        "name": "ipython",
        "version": 3
      },
      "file_extension": ".py",
      "mimetype": "text/x-python",
      "name": "python",
      "nbconvert_exporter": "python",
      "pygments_lexer": "ipython3",
      "version": "3.11.4"
    }
  },
  "nbformat": 4,
  "nbformat_minor": 0
}
