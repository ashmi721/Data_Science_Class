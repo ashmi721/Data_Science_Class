{
  "cells": [
    {
      "cell_type": "markdown",
      "metadata": {
        "colab_type": "text",
        "id": "view-in-github"
      },
      "source": [
        "<a href=\"https://colab.research.google.com/github/ashmi721/Data_Science_Class/blob/main/NumpyDS600_D1.ipynb\" target=\"_parent\"><img src=\"https://colab.research.google.com/assets/colab-badge.svg\" alt=\"Open In Colab\"/></a>"
      ]
    },
    {
      "cell_type": "markdown",
      "metadata": {
        "id": "9AUmx2YYc7lU"
      },
      "source": [
        "# Numpy\n",
        "The fundamental package for scientific computing with Python"
      ]
    },
    {
      "cell_type": "code",
      "execution_count": null,
      "metadata": {
        "colab": {
          "base_uri": "https://localhost:8080/"
        },
        "id": "QcvkO5Jkd0Kr",
        "outputId": "cfb97bdf-a673-4a0f-e67a-1fb7a41388e7"
      },
      "outputs": [],
      "source": [
        "! pip install numpy\n",
        "\n"
      ]
    },
    {
      "cell_type": "markdown",
      "metadata": {
        "id": "kfkedhPreg6j"
      },
      "source": [
        "# How to import Numpy\n",
        "We shorten the imported name to np for better readability of code using NumPy. This is a widely adopted convention that makes your code more readable for everyone working on it. We recommend to always use import numpy as np."
      ]
    },
    {
      "cell_type": "code",
      "execution_count": 2,
      "metadata": {
        "id": "xjgjJtW9enTA"
      },
      "outputs": [],
      "source": [
        "import numpy as np\n"
      ]
    },
    {
      "cell_type": "code",
      "execution_count": 10,
      "metadata": {
        "colab": {
          "base_uri": "https://localhost:8080/",
          "height": 36
        },
        "id": "sDWPdky1fQSk",
        "outputId": "381c1fcb-5af0-4ec7-fb7b-f6724848a67b"
      },
      "outputs": [
        {
          "data": {
            "text/plain": [
              "'1.24.3'"
            ]
          },
          "execution_count": 10,
          "metadata": {},
          "output_type": "execute_result"
        }
      ],
      "source": [
        "# Checking version of numpy\n",
        "np.__version__"
      ]
    },
    {
      "cell_type": "markdown",
      "metadata": {
        "id": "QP8gxVtbfYns"
      },
      "source": [
        "# Creating Array"
      ]
    },
    {
      "cell_type": "code",
      "execution_count": 1,
      "metadata": {
        "colab": {
          "base_uri": "https://localhost:8080/"
        },
        "id": "tgBkN5TnfgKb",
        "outputId": "220da955-b594-4eef-e482-88d8990c1445"
      },
      "outputs": [
        {
          "data": {
            "text/plain": [
              "list"
            ]
          },
          "execution_count": 1,
          "metadata": {},
          "output_type": "execute_result"
        }
      ],
      "source": [
        "even = [2,44,4,8,2,6,18]\n",
        "type(even)"
      ]
    },
    {
      "cell_type": "code",
      "execution_count": null,
      "metadata": {
        "colab": {
          "base_uri": "https://localhost:8080/"
        },
        "id": "guntOQzWfzlw",
        "outputId": "a54af5f2-fd6d-414d-9b51-44e6dca2e8a6"
      },
      "outputs": [
        {
          "data": {
            "text/plain": [
              "array([ 2, 44,  4,  8,  2,  6, 18])"
            ]
          },
          "execution_count": 7,
          "metadata": {},
          "output_type": "execute_result"
        }
      ],
      "source": [
        "even_array = np.array(even)\n",
        "even_array"
      ]
    },
    {
      "cell_type": "code",
      "execution_count": null,
      "metadata": {
        "colab": {
          "base_uri": "https://localhost:8080/"
        },
        "id": "TTbNoD9Zf7Vv",
        "outputId": "92e5bc2d-8ecf-4ef8-909a-d6cb6fd78ad3"
      },
      "outputs": [
        {
          "data": {
            "text/plain": [
              "numpy.ndarray"
            ]
          },
          "execution_count": 9,
          "metadata": {},
          "output_type": "execute_result"
        }
      ],
      "source": [
        "type(even_array) # ndarray means n-dimensional array"
      ]
    },
    {
      "cell_type": "code",
      "execution_count": null,
      "metadata": {
        "colab": {
          "base_uri": "https://localhost:8080/"
        },
        "id": "ujKJiIvDgRiQ",
        "outputId": "90cc6dc9-3b0b-47a0-d4fb-27b77edc4247"
      },
      "outputs": [
        {
          "data": {
            "text/plain": [
              "1"
            ]
          },
          "execution_count": 10,
          "metadata": {},
          "output_type": "execute_result"
        }
      ],
      "source": [
        "even_array.ndim # shows number of dimensional(n) it is 1 dimensional array"
      ]
    },
    {
      "cell_type": "code",
      "execution_count": null,
      "metadata": {
        "colab": {
          "base_uri": "https://localhost:8080/"
        },
        "id": "AjgJkVwVgmDC",
        "outputId": "7240b48e-0da1-4610-f3b0-757d4b26d98c"
      },
      "outputs": [
        {
          "data": {
            "text/plain": [
              "7"
            ]
          },
          "execution_count": 12,
          "metadata": {},
          "output_type": "execute_result"
        }
      ],
      "source": [
        "len(even_array) # checking the length of the even_array"
      ]
    },
    {
      "cell_type": "code",
      "execution_count": null,
      "metadata": {
        "colab": {
          "base_uri": "https://localhost:8080/"
        },
        "id": "yb1A9-Q1hO0e",
        "outputId": "8b31dac5-b3aa-45a9-f3cf-9e8542b35ba0"
      },
      "outputs": [
        {
          "data": {
            "text/plain": [
              "(7,)"
            ]
          },
          "execution_count": 14,
          "metadata": {},
          "output_type": "execute_result"
        }
      ],
      "source": [
        "# checking number of dimensinal shape\n",
        "even_array.shape"
      ]
    },
    {
      "cell_type": "code",
      "execution_count": null,
      "metadata": {
        "colab": {
          "base_uri": "https://localhost:8080/"
        },
        "id": "b6N73899h2fm",
        "outputId": "73dd4723-a0a2-4477-9ff6-63541f78ba9c"
      },
      "outputs": [
        {
          "data": {
            "text/plain": [
              "list"
            ]
          },
          "execution_count": 22,
          "metadata": {},
          "output_type": "execute_result"
        }
      ],
      "source": [
        "odd = [3,5,9,21,35,67,81,45]\n",
        "type(odd)"
      ]
    },
    {
      "cell_type": "code",
      "execution_count": null,
      "metadata": {
        "colab": {
          "base_uri": "https://localhost:8080/"
        },
        "id": "BF4-lMrOii4R",
        "outputId": "43b4c1e3-8f55-479f-858e-d9e3013b698c"
      },
      "outputs": [
        {
          "data": {
            "text/plain": [
              "array([ 3,  5,  9, 21, 35, 67, 81, 45])"
            ]
          },
          "execution_count": 24,
          "metadata": {},
          "output_type": "execute_result"
        }
      ],
      "source": [
        "# convert list into array\n",
        "odd_array = np.array(odd)\n",
        "odd_array"
      ]
    },
    {
      "cell_type": "markdown",
      "metadata": {
        "id": "VHJ-qmWli1PU"
      },
      "source": [
        "# Random Number generations using NUmpy\n"
      ]
    },
    {
      "cell_type": "code",
      "execution_count": null,
      "metadata": {
        "colab": {
          "base_uri": "https://localhost:8080/"
        },
        "id": "Ey6yJ3oriy3K",
        "outputId": "7c064a2a-926a-4a2a-f149-25324c6b53c4"
      },
      "outputs": [
        {
          "data": {
            "text/plain": [
              "52"
            ]
          },
          "execution_count": 26,
          "metadata": {},
          "output_type": "execute_result"
        }
      ],
      "source": [
        "np.random.randint(1,100) # generating one random number between 1 - 100"
      ]
    },
    {
      "cell_type": "code",
      "execution_count": null,
      "metadata": {
        "colab": {
          "base_uri": "https://localhost:8080/"
        },
        "id": "iYOfM76XjaAf",
        "outputId": "a43b2dfc-de5b-440e-ba95-8e287b5a6ee6"
      },
      "outputs": [
        {
          "data": {
            "text/plain": [
              "88"
            ]
          },
          "execution_count": 30,
          "metadata": {},
          "output_type": "execute_result"
        }
      ],
      "source": [
        "np.random.seed(2023)\n",
        "np.random.randint(1,100) # Deterministic pseudorandom number generations"
      ]
    },
    {
      "cell_type": "markdown",
      "metadata": {
        "id": "7oWwukhkk-Rb"
      },
      "source": [
        "# Indexing and Slicing"
      ]
    },
    {
      "cell_type": "code",
      "execution_count": null,
      "metadata": {
        "colab": {
          "base_uri": "https://localhost:8080/"
        },
        "id": "QcGVKxdHkJEE",
        "outputId": "bfdd8932-814e-456a-9b57-8c18cacafd43"
      },
      "outputs": [
        {
          "data": {
            "text/plain": [
              "array([45, 48, 65, 68, 68, 10, 84, 22])"
            ]
          },
          "execution_count": 39,
          "metadata": {},
          "output_type": "execute_result"
        }
      ],
      "source": [
        "np.random.seed(0)\n",
        "x = np.random.randint(1,100,size =8)\n",
        "x"
      ]
    },
    {
      "cell_type": "code",
      "execution_count": null,
      "metadata": {
        "colab": {
          "base_uri": "https://localhost:8080/"
        },
        "id": "GoL0GA5nlDaS",
        "outputId": "5e920fb4-e43e-4418-e7cc-53a6df7f67f0"
      },
      "outputs": [
        {
          "data": {
            "text/plain": [
              "48"
            ]
          },
          "execution_count": 44,
          "metadata": {},
          "output_type": "execute_result"
        }
      ],
      "source": [
        "x[1]"
      ]
    },
    {
      "cell_type": "code",
      "execution_count": null,
      "metadata": {
        "colab": {
          "base_uri": "https://localhost:8080/"
        },
        "id": "BR5ItJO4l3IE",
        "outputId": "44a217d3-5cfc-49b6-dbf2-47454c36663b"
      },
      "outputs": [
        {
          "data": {
            "text/plain": [
              "84"
            ]
          },
          "execution_count": 45,
          "metadata": {},
          "output_type": "execute_result"
        }
      ],
      "source": [
        "x[-2] # find negative index"
      ]
    },
    {
      "cell_type": "code",
      "execution_count": null,
      "metadata": {
        "colab": {
          "base_uri": "https://localhost:8080/"
        },
        "id": "OyhyU7GQlJi-",
        "outputId": "7a24d00e-730d-45e1-c1a3-87a237364f0d"
      },
      "outputs": [
        {
          "data": {
            "text/plain": [
              "array([68, 68, 10])"
            ]
          },
          "execution_count": 41,
          "metadata": {},
          "output_type": "execute_result"
        }
      ],
      "source": [
        "x[3:6] # find between 68 to 84 using slicing"
      ]
    },
    {
      "cell_type": "code",
      "execution_count": null,
      "metadata": {
        "colab": {
          "base_uri": "https://localhost:8080/"
        },
        "id": "FlIbveIklXZb",
        "outputId": "328dfb7c-5322-4d0e-b82c-c5767ec0f6fd"
      },
      "outputs": [
        {
          "data": {
            "text/plain": [
              "array([10, 84, 22])"
            ]
          },
          "execution_count": 42,
          "metadata": {},
          "output_type": "execute_result"
        }
      ],
      "source": [
        "# find last 3 item\n",
        "x[-3:]"
      ]
    },
    {
      "cell_type": "code",
      "execution_count": null,
      "metadata": {
        "colab": {
          "base_uri": "https://localhost:8080/"
        },
        "id": "YURZh-UYlpqZ",
        "outputId": "3ca6bf21-c69a-413c-f269-80d17a794b74"
      },
      "outputs": [
        {
          "data": {
            "text/plain": [
              "array([45, 65, 68, 84])"
            ]
          },
          "execution_count": 43,
          "metadata": {},
          "output_type": "execute_result"
        }
      ],
      "source": [
        "x[::2] # slicing index skip 2"
      ]
    },
    {
      "cell_type": "markdown",
      "metadata": {
        "id": "W5KRtmnMmK8c"
      },
      "source": [
        "\n",
        "# Different between List and Numpy array\n",
        "* Numpy array are memory effecient than python list.\n",
        "* Numpy array are faster than python list.\n",
        "* Numpy arrary support homogenous data type while python list support multiple data type."
      ]
    },
    {
      "cell_type": "code",
      "execution_count": null,
      "metadata": {
        "id": "bNWonc4cmKaV"
      },
      "outputs": [],
      "source": [
        "l1 = [0,0.25,0.5,0.75,1] # By default list contain 64-bit memory space"
      ]
    },
    {
      "cell_type": "markdown",
      "metadata": {
        "id": "LmHHu0QSpHh6"
      },
      "source": [
        "# Numpy array are memory effecient than python list\n",
        "Specifying data type While the default data type is floating point (np.float64),we can explicitly specify which data type we want using the dtype keyword."
      ]
    },
    {
      "cell_type": "code",
      "execution_count": null,
      "metadata": {
        "colab": {
          "base_uri": "https://localhost:8080/"
        },
        "id": "X1pnkUHnn2lK",
        "outputId": "813d87b4-a068-4641-8088-47a4682b571f"
      },
      "outputs": [
        {
          "data": {
            "text/plain": [
              "array([0.  , 0.25, 0.5 , 0.75, 1.  ])"
            ]
          },
          "execution_count": 53,
          "metadata": {},
          "output_type": "execute_result"
        }
      ],
      "source": [
        "l1_array = np.array(l1)\n",
        "l1_array"
      ]
    },
    {
      "cell_type": "code",
      "execution_count": null,
      "metadata": {
        "colab": {
          "base_uri": "https://localhost:8080/"
        },
        "id": "ky0gTI4Vn_Ml",
        "outputId": "fce2a6a9-8c95-4b49-87d8-a0bd38c6ea81"
      },
      "outputs": [
        {
          "data": {
            "text/plain": [
              "dtype('float64')"
            ]
          },
          "execution_count": 55,
          "metadata": {},
          "output_type": "execute_result"
        }
      ],
      "source": [
        "l1_array.dtype #  check the memory bit"
      ]
    },
    {
      "cell_type": "code",
      "execution_count": null,
      "metadata": {
        "colab": {
          "base_uri": "https://localhost:8080/"
        },
        "id": "W3zxorDBoXaY",
        "outputId": "1a1cd030-be5d-414b-cebf-5540c3ef6db3"
      },
      "outputs": [
        {
          "data": {
            "text/plain": [
              "array([0.  , 0.25, 0.5 , 0.75, 1.  ], dtype=float16)"
            ]
          },
          "execution_count": 57,
          "metadata": {},
          "output_type": "execute_result"
        }
      ],
      "source": [
        "# we can use the Numpy array to specify the memory space that's why Numpy array has an more effiecient\n",
        "np.array(l1,dtype=np.float16)"
      ]
    },
    {
      "cell_type": "code",
      "execution_count": null,
      "metadata": {
        "colab": {
          "base_uri": "https://localhost:8080/"
        },
        "id": "kDv1QFSbowKw",
        "outputId": "0113968f-ea64-441f-a019-3aaa24644768"
      },
      "outputs": [
        {
          "data": {
            "text/plain": [
              "array([1, 1, 1, 1, 1], dtype=int8)"
            ]
          },
          "execution_count": 59,
          "metadata": {},
          "output_type": "execute_result"
        }
      ],
      "source": [
        "np.ones(shape=5,dtype=np.int8)"
      ]
    },
    {
      "cell_type": "code",
      "execution_count": null,
      "metadata": {
        "colab": {
          "base_uri": "https://localhost:8080/"
        },
        "id": "FIzztfHGpjZ8",
        "outputId": "174a389e-559a-43b9-ef1a-beb6785f19ea"
      },
      "outputs": [
        {
          "data": {
            "text/plain": [
              "array([0, 0, 0, 0], dtype=int8)"
            ]
          },
          "execution_count": 60,
          "metadata": {},
          "output_type": "execute_result"
        }
      ],
      "source": [
        "np.zeros(shape=4,dtype=np.int8)"
      ]
    },
    {
      "cell_type": "markdown",
      "metadata": {
        "id": "AtHsxysVpPtg"
      },
      "source": [
        "#  Numpy array are faster than python list."
      ]
    },
    {
      "cell_type": "code",
      "execution_count": null,
      "metadata": {
        "colab": {
          "base_uri": "https://localhost:8080/"
        },
        "id": "2U5TtMz_phUR",
        "outputId": "0c9071dc-60d0-4ac4-8441-376e344aa0f8"
      },
      "outputs": [
        {
          "data": {
            "text/plain": [
              "array([45, 48, 65, ..., 59, 44, 91])"
            ]
          },
          "execution_count": 61,
          "metadata": {},
          "output_type": "execute_result"
        }
      ],
      "source": [
        "np.random.seed(0)\n",
        "x_array = np.random.randint(low=1,high=100,size=50000)\n",
        "x_array"
      ]
    },
    {
      "cell_type": "code",
      "execution_count": null,
      "metadata": {
        "colab": {
          "base_uri": "https://localhost:8080/"
        },
        "id": "kZVLfsVyp8TB",
        "outputId": "4eb67f68-69c7-4334-d2e1-1b0348b01ca8"
      },
      "outputs": [
        {
          "data": {
            "text/plain": [
              "list"
            ]
          },
          "execution_count": 62,
          "metadata": {},
          "output_type": "execute_result"
        }
      ],
      "source": [
        "x_list = x_array.tolist() # converting array to list\n",
        "type(x_list)"
      ]
    },
    {
      "cell_type": "code",
      "execution_count": null,
      "metadata": {
        "colab": {
          "base_uri": "https://localhost:8080/"
        },
        "id": "y0X6n3P_qKNn",
        "outputId": "50b86604-bcfa-444d-dd6c-a73259255bd4"
      },
      "outputs": [
        {
          "name": "stdout",
          "output_type": "stream",
          "text": [
            "CPU times: user 16.5 ms, sys: 1.81 ms, total: 18.3 ms\n",
            "Wall time: 19.9 ms\n"
          ]
        }
      ],
      "source": [
        "# To find the how many time consume to run the shell\n",
        "%%time\n",
        "sq = [item **2 for item in x_list]"
      ]
    },
    {
      "cell_type": "code",
      "execution_count": null,
      "metadata": {
        "colab": {
          "base_uri": "https://localhost:8080/"
        },
        "id": "QCHsgmJfqnC0",
        "outputId": "f172b2d2-f420-4446-f58f-fd5b70147ea8"
      },
      "outputs": [
        {
          "name": "stdout",
          "output_type": "stream",
          "text": [
            "CPU times: user 177 µs, sys: 0 ns, total: 177 µs\n",
            "Wall time: 186 µs\n"
          ]
        }
      ],
      "source": [
        "%%time\n",
        "sq =  x_array ** 2"
      ]
    },
    {
      "cell_type": "markdown",
      "metadata": {
        "id": "XDuBUQDhrOE7"
      },
      "source": [
        "# List support multiple datatypes however, array supports homogeneous dataype"
      ]
    },
    {
      "cell_type": "code",
      "execution_count": 11,
      "metadata": {
        "colab": {
          "base_uri": "https://localhost:8080/"
        },
        "id": "bM6ImESlrXYk",
        "outputId": "0c3cac13-e5eb-4512-91b4-341294240578"
      },
      "outputs": [
        {
          "data": {
            "text/plain": [
              "(bool, int)"
            ]
          },
          "execution_count": 11,
          "metadata": {},
          "output_type": "execute_result"
        }
      ],
      "source": [
        "# list return  indivisual and own datatypes of the data\n",
        "x =[True,0,55.3,'Hello']\n",
        "type(x[0]),type(x[1]) "
      ]
    },
    {
      "cell_type": "code",
      "execution_count": 12,
      "metadata": {
        "colab": {
          "base_uri": "https://localhost:8080/"
        },
        "id": "mx2YqdayrvZx",
        "outputId": "3f7c701e-b989-44b9-f9e0-2ac2b965147a"
      },
      "outputs": [
        {
          "data": {
            "text/plain": [
              "array(['True', '0', '55.3', 'Hello'], dtype='<U32')"
            ]
          },
          "execution_count": 12,
          "metadata": {},
          "output_type": "execute_result"
        }
      ],
      "source": [
        "x_array = np.array(x)\n",
        "x_array"
      ]
    },
    {
      "cell_type": "code",
      "execution_count": 13,
      "metadata": {
        "colab": {
          "base_uri": "https://localhost:8080/"
        },
        "id": "5ulkhm3FsFTA",
        "outputId": "9e3882ef-9505-4227-b4d3-2241e4cd471a"
      },
      "outputs": [
        {
          "data": {
            "text/plain": [
              "(numpy.str_, numpy.str_)"
            ]
          },
          "execution_count": 13,
          "metadata": {},
          "output_type": "execute_result"
        }
      ],
      "source": [
        "# Numpy array return the suitable datatypes of the data\n",
        "type(x_array[0]),type(x_array[1]) "
      ]
    },
    {
      "cell_type": "markdown",
      "metadata": {
        "id": "gVrxGgW0sXej"
      },
      "source": [
        "# .arange()\n",
        "We can generate the number using .arange() like a range()"
      ]
    },
    {
      "cell_type": "code",
      "execution_count": null,
      "metadata": {
        "colab": {
          "base_uri": "https://localhost:8080/"
        },
        "id": "7PZBl8jssa1M",
        "outputId": "4b9e2da2-cc05-40b7-e289-52d34eaeff66"
      },
      "outputs": [
        {
          "data": {
            "text/plain": [
              "array([1, 3, 5, 7, 9])"
            ]
          },
          "execution_count": 73,
          "metadata": {},
          "output_type": "execute_result"
        }
      ],
      "source": [
        "x = np.arange(1,10,2) # In Numpy use arange() like range() in list\n",
        "x"
      ]
    },
    {
      "cell_type": "markdown",
      "metadata": {},
      "source": [
        "# .linspace()\n",
        "we can also use np.linspace() to create an array with values that are spaced linearly in a specified interval"
      ]
    },
    {
      "cell_type": "code",
      "execution_count": null,
      "metadata": {
        "colab": {
          "base_uri": "https://localhost:8080/"
        },
        "id": "6V3F1rL6tOGt",
        "outputId": "862a09a7-5d9b-4885-aeeb-780219752747"
      },
      "outputs": [
        {
          "data": {
            "text/plain": [
              "array([0.  , 0.25, 0.5 , 0.75, 1.  ])"
            ]
          },
          "execution_count": 74,
          "metadata": {},
          "output_type": "execute_result"
        }
      ],
      "source": [
        "np.linspace(0,1,5) # generate  5 numbers between 0 t0 1 with equal width"
      ]
    },
    {
      "cell_type": "code",
      "execution_count": null,
      "metadata": {
        "colab": {
          "base_uri": "https://localhost:8080/"
        },
        "id": "ZvSoov1Etf0X",
        "outputId": "85edbc5a-ac49-4961-82d9-186bd13fb925"
      },
      "outputs": [
        {
          "data": {
            "text/plain": [
              "array([ 0. ,  2.5,  5. ,  7.5, 10. ])"
            ]
          },
          "execution_count": 75,
          "metadata": {},
          "output_type": "execute_result"
        }
      ],
      "source": [
        "np.linspace(0,10,5)"
      ]
    },
    {
      "cell_type": "markdown",
      "metadata": {},
      "source": [
        "# .full()\n",
        "\n",
        "* Initializing Numpy array with same number"
      ]
    },
    {
      "cell_type": "code",
      "execution_count": 7,
      "metadata": {},
      "outputs": [
        {
          "data": {
            "text/plain": [
              "array([[7, 7],\n",
              "       [7, 7]])"
            ]
          },
          "execution_count": 7,
          "metadata": {},
          "output_type": "execute_result"
        }
      ],
      "source": [
        "np.full((2,2),7) # Syntax .full((matrix shape),repeted number)\n"
      ]
    },
    {
      "cell_type": "code",
      "execution_count": 8,
      "metadata": {},
      "outputs": [
        {
          "data": {
            "text/plain": [
              "array([[4, 4, 4],\n",
              "       [4, 4, 4],\n",
              "       [4, 4, 4]])"
            ]
          },
          "execution_count": 8,
          "metadata": {},
          "output_type": "execute_result"
        }
      ],
      "source": [
        "np.full((3,3),4)"
      ]
    },
    {
      "cell_type": "markdown",
      "metadata": {},
      "source": [
        "# joining Numpy Arrays\n",
        "\n"
      ]
    },
    {
      "cell_type": "code",
      "execution_count": 10,
      "metadata": {},
      "outputs": [],
      "source": [
        "n1 = np.array([1,2,3])\n",
        "n2 = np.array([4,5,6])"
      ]
    },
    {
      "cell_type": "markdown",
      "metadata": {},
      "source": [
        "* vstack()\n",
        "\n",
        "Joining vertically"
      ]
    },
    {
      "cell_type": "code",
      "execution_count": 11,
      "metadata": {},
      "outputs": [
        {
          "data": {
            "text/plain": [
              "array([[1, 2, 3],\n",
              "       [4, 5, 6]])"
            ]
          },
          "execution_count": 11,
          "metadata": {},
          "output_type": "execute_result"
        }
      ],
      "source": [
        "np.vstack((n1,n2))"
      ]
    },
    {
      "cell_type": "markdown",
      "metadata": {},
      "source": [
        "* hstack()\n",
        "\n",
        "Joining horizontally"
      ]
    },
    {
      "cell_type": "code",
      "execution_count": 12,
      "metadata": {},
      "outputs": [
        {
          "data": {
            "text/plain": [
              "array([1, 2, 3, 4, 5, 6])"
            ]
          },
          "execution_count": 12,
          "metadata": {},
          "output_type": "execute_result"
        }
      ],
      "source": [
        "np.hstack((n1,n2))"
      ]
    },
    {
      "cell_type": "markdown",
      "metadata": {},
      "source": [
        "* column_stack()\n",
        "\n",
        "Joining column wise"
      ]
    },
    {
      "cell_type": "code",
      "execution_count": 13,
      "metadata": {},
      "outputs": [
        {
          "data": {
            "text/plain": [
              "array([[1, 4],\n",
              "       [2, 5],\n",
              "       [3, 6]])"
            ]
          },
          "execution_count": 13,
          "metadata": {},
          "output_type": "execute_result"
        }
      ],
      "source": [
        "np.column_stack((n1,n2))"
      ]
    },
    {
      "cell_type": "markdown",
      "metadata": {},
      "source": [
        "# Numpy Intersection & Difference"
      ]
    },
    {
      "cell_type": "code",
      "execution_count": 18,
      "metadata": {},
      "outputs": [],
      "source": [
        "n1=np.array([1,2,3,4])\n",
        "n2=np.array([4,5,3,6,7])"
      ]
    },
    {
      "cell_type": "code",
      "execution_count": 15,
      "metadata": {},
      "outputs": [
        {
          "data": {
            "text/plain": [
              "array([3, 4])"
            ]
          },
          "execution_count": 15,
          "metadata": {},
          "output_type": "execute_result"
        }
      ],
      "source": [
        "# To find the common number\n",
        "np.intersect1d(n1,n2)"
      ]
    },
    {
      "cell_type": "code",
      "execution_count": 19,
      "metadata": {},
      "outputs": [
        {
          "data": {
            "text/plain": [
              "array([1, 2])"
            ]
          },
          "execution_count": 19,
          "metadata": {},
          "output_type": "execute_result"
        }
      ],
      "source": [
        "# To find the unique element in n1\n",
        "np.setdiff1d(n1,n2)"
      ]
    },
    {
      "cell_type": "markdown",
      "metadata": {},
      "source": [
        "# Numpy save and load"
      ]
    },
    {
      "cell_type": "code",
      "execution_count": 20,
      "metadata": {},
      "outputs": [],
      "source": [
        "# save the Numpy data\n",
        "np.save('myarray',n1)"
      ]
    },
    {
      "cell_type": "code",
      "execution_count": 22,
      "metadata": {},
      "outputs": [
        {
          "data": {
            "text/plain": [
              "array([1, 2, 3, 4])"
            ]
          },
          "execution_count": 22,
          "metadata": {},
          "output_type": "execute_result"
        }
      ],
      "source": [
        "# load the numpy save file\n",
        "np.load('myarray.npy')"
      ]
    }
  ],
  "metadata": {
    "colab": {
      "authorship_tag": "ABX9TyNnP8b9wXzocy3WuwRM9Gzy",
      "include_colab_link": true,
      "provenance": []
    },
    "kernelspec": {
      "display_name": "Python 3",
      "name": "python3"
    },
    "language_info": {
      "codemirror_mode": {
        "name": "ipython",
        "version": 3
      },
      "file_extension": ".py",
      "mimetype": "text/x-python",
      "name": "python",
      "nbconvert_exporter": "python",
      "pygments_lexer": "ipython3",
      "version": "3.11.4"
    }
  },
  "nbformat": 4,
  "nbformat_minor": 0
}
