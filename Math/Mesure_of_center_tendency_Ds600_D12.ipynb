{
  "nbformat": 4,
  "nbformat_minor": 0,
  "metadata": {
    "colab": {
      "provenance": []
    },
    "kernelspec": {
      "name": "python3",
      "display_name": "Python 3"
    },
    "language_info": {
      "name": "python"
    }
  },
  "cells": [
    {
      "cell_type": "markdown",
      "source": [
        "<img src =\"https://images.saymedia-content.com/.image/ar_16:9%2Cc_fill%2Ccs_srgb%2Cq_auto:eco%2Cw_1200/MTc2MjcyMTYyODA4ODY1OTgy/central-tendency.gif\" >"
      ],
      "metadata": {
        "id": "h-Iwl-S3M7CW"
      }
    },
    {
      "cell_type": "code",
      "execution_count": 1,
      "metadata": {
        "colab": {
          "base_uri": "https://localhost:8080/"
        },
        "id": "ST4hECQQvkme",
        "outputId": "e51f5628-6052-4ac0-957d-401c4a6f3e1b"
      },
      "outputs": [
        {
          "output_type": "execute_result",
          "data": {
            "text/plain": [
              "array([1, 2, 3, 4, 5])"
            ]
          },
          "metadata": {},
          "execution_count": 1
        }
      ],
      "source": [
        "import numpy as np\n",
        "data = np.arange(1,6)\n",
        "data"
      ]
    },
    {
      "cell_type": "markdown",
      "source": [
        "# Mode:\n",
        "To find the mean, you add up all the numbers and then divide by how many numbers there are."
      ],
      "metadata": {
        "id": "q_ENrYgFWJWv"
      }
    },
    {
      "cell_type": "code",
      "source": [
        "mean = np.mean(data)\n",
        "mean"
      ],
      "metadata": {
        "colab": {
          "base_uri": "https://localhost:8080/"
        },
        "id": "6PYT5noVvtPq",
        "outputId": "8c100c13-903a-400e-81e8-489cca3374c3"
      },
      "execution_count": 2,
      "outputs": [
        {
          "output_type": "execute_result",
          "data": {
            "text/plain": [
              "3.0"
            ]
          },
          "metadata": {},
          "execution_count": 2
        }
      ]
    },
    {
      "cell_type": "markdown",
      "source": [
        "# median\n",
        "Median is the middle number when the numbers are arranged in order. If there's an even number of numbers, the median is the average of the two middle numbers."
      ],
      "metadata": {
        "id": "fvHZITJxWD3h"
      }
    },
    {
      "cell_type": "code",
      "source": [
        "median = np.median(data)\n",
        "median"
      ],
      "metadata": {
        "colab": {
          "base_uri": "https://localhost:8080/"
        },
        "id": "y0uULFouv810",
        "outputId": "e15dbee2-30ee-444b-a139-f03df067532f"
      },
      "execution_count": 3,
      "outputs": [
        {
          "output_type": "execute_result",
          "data": {
            "text/plain": [
              "3.0"
            ]
          },
          "metadata": {},
          "execution_count": 3
        }
      ]
    },
    {
      "cell_type": "markdown",
      "source": [
        "# Different between mean and median"
      ],
      "metadata": {
        "id": "1jDy6LIywO8-"
      }
    },
    {
      "cell_type": "code",
      "source": [
        "data = np.array([1,2,3,4,500]) # 500 is the outliers\n",
        "np.mean(data)"
      ],
      "metadata": {
        "colab": {
          "base_uri": "https://localhost:8080/"
        },
        "id": "IDbLpVtZwAky",
        "outputId": "f3ed447a-afa7-465c-900f-0f7f7ea4720a"
      },
      "execution_count": 4,
      "outputs": [
        {
          "output_type": "execute_result",
          "data": {
            "text/plain": [
              "102.0"
            ]
          },
          "metadata": {},
          "execution_count": 4
        }
      ]
    },
    {
      "cell_type": "code",
      "source": [
        "np.median(data)"
      ],
      "metadata": {
        "colab": {
          "base_uri": "https://localhost:8080/"
        },
        "id": "6zXIN31iwYU7",
        "outputId": "89227402-2938-4d74-c0d1-f98bb6048583"
      },
      "execution_count": 5,
      "outputs": [
        {
          "output_type": "execute_result",
          "data": {
            "text/plain": [
              "3.0"
            ]
          },
          "metadata": {},
          "execution_count": 5
        }
      ]
    },
    {
      "cell_type": "markdown",
      "source": [
        "* Mean is sensitive to outlier it might not provide a meaningful representation of the central tendency.\n",
        "* Median is insensitive to outlier making it a more robust measure of central tendency when dealing with skewed data.\n",
        "* 500 is an outlier/extreme it shifted mean towards extreme value; median is as it is\n",
        "* mean ma each item use hunxa to calculate mean but median ma no. of item use hunxa tei vayar median is insensitive to outlier"
      ],
      "metadata": {
        "id": "GvKiJAY9wt6O"
      }
    },
    {
      "cell_type": "markdown",
      "source": [
        "# mode"
      ],
      "metadata": {
        "id": "8qrs-C3ZxkDD"
      }
    },
    {
      "cell_type": "code",
      "source": [
        "data = np.array([2,6,7,2,3,2,2])\n"
      ],
      "metadata": {
        "id": "XQiN31eewaan"
      },
      "execution_count": 6,
      "outputs": []
    },
    {
      "cell_type": "code",
      "source": [
        "from scipy.stats import mode\n",
        "mode(data) # mode 2 ho ra tesko frequency 4 ho."
      ],
      "metadata": {
        "colab": {
          "base_uri": "https://localhost:8080/"
        },
        "id": "LGnsmwq1xx4z",
        "outputId": "d8fb7091-b743-41ca-b4f7-4089cac1eda8"
      },
      "execution_count": 7,
      "outputs": [
        {
          "output_type": "execute_result",
          "data": {
            "text/plain": [
              "ModeResult(mode=2, count=4)"
            ]
          },
          "metadata": {},
          "execution_count": 7
        }
      ]
    },
    {
      "cell_type": "markdown",
      "source": [
        "# Application Mean and Median\n",
        "* mean is used to fill in missing data if data is normal distributed .\n",
        "* Median is used to fill in the missing data if the data has an outliers. Because mean is sensitive to outliers.\n",
        "\n",
        "* Algorithm that use mean and median:  K Means algorithm, K Medoid algorithm\n"
      ],
      "metadata": {
        "id": "pf33at39yICI"
      }
    },
    {
      "cell_type": "markdown",
      "source": [
        "# Normal distribution\n",
        "Think of normal distribution as a way numbers are spread out in a typical bell-shaped curve.\n",
        "Most values cluster around the middle (mean), and fewer values are found as you move away from the center.\n",
        "\n",
        "* Normal distribution has mean $\\mu$ and standart deviation $\\sigma$"
      ],
      "metadata": {
        "id": "kq6DrB-OzG79"
      }
    },
    {
      "cell_type": "code",
      "source": [
        "np.random.seed(0)\n",
        "d1 = np.random.normal(loc =5,scale=1, size=1500) # loc means mean, scale means std.\n",
        "d1"
      ],
      "metadata": {
        "colab": {
          "base_uri": "https://localhost:8080/"
        },
        "id": "vbz6Tq0Ax2xR",
        "outputId": "ca25430b-3d52-4d9d-f7a4-b81fa1ee2739"
      },
      "execution_count": 8,
      "outputs": [
        {
          "output_type": "execute_result",
          "data": {
            "text/plain": [
              "array([6.76405235, 5.40015721, 5.97873798, ..., 4.75320644, 3.92065683,\n",
              "       4.88577445])"
            ]
          },
          "metadata": {},
          "execution_count": 8
        }
      ]
    },
    {
      "cell_type": "code",
      "source": [
        "import seaborn as sns\n",
        "sns.histplot(d1,kde=True)"
      ],
      "metadata": {
        "colab": {
          "base_uri": "https://localhost:8080/",
          "height": 447
        },
        "id": "BKO_23X80HDj",
        "outputId": "6d90b498-70c6-4c8e-da41-ac9f4d11fc00"
      },
      "execution_count": 9,
      "outputs": [
        {
          "output_type": "execute_result",
          "data": {
            "text/plain": [
              "<Axes: ylabel='Count'>"
            ]
          },
          "metadata": {},
          "execution_count": 9
        },
        {
          "output_type": "display_data",
          "data": {
            "text/plain": [
              "<Figure size 640x480 with 1 Axes>"
            ],
            "image/png": "[encoded data removed]"
          },
          "metadata": {}
        }
      ]
    },
    {
      "cell_type": "code",
      "source": [
        "# we make the two normal distribution in which mean is same but std is different\n"
      ],
      "metadata": {
        "id": "TKn4bmru0NY4"
      },
      "execution_count": 10,
      "outputs": []
    },
    {
      "cell_type": "code",
      "source": [
        "np.random.seed(0)\n",
        "d1= np.random.normal(loc=5,scale=1,size = 1500)\n",
        "d2= np.random.normal(loc=5,scale=3,size = 1500)\n"
      ],
      "metadata": {
        "id": "qLONPXA01W6j"
      },
      "execution_count": 11,
      "outputs": []
    },
    {
      "cell_type": "code",
      "source": [
        "import matplotlib.pyplot as plt\n",
        "plt.figure(figsize=(7,3))\n",
        "sns.kdeplot(d1, fill = True, label = 'mean=5;std=1')\n",
        "sns.kdeplot(d2, fill = True, label = 'mean=5;std=3')\n",
        "plt.axvline(5, color = 'red') # axvline means verticle line in x axis.\n",
        "plt.title(r\"$\\mu$=5\")\n",
        "plt.legend()\n",
        "plt.show()\n"
      ],
      "metadata": {
        "colab": {
          "base_uri": "https://localhost:8080/",
          "height": 315
        },
        "id": "nbu-WRQv2LIj",
        "outputId": "3afcbf3f-a479-4753-f1e0-842ac4c6e8a1"
      },
      "execution_count": 23,
      "outputs": [
        {
          "output_type": "display_data",
          "data": {
            "text/plain": [
              "<Figure size 700x300 with 1 Axes>"
            ],
            "image/png": "[encoded data removed]"
          },
          "metadata": {}
        }
      ]
    },
    {
      "cell_type": "markdown",
      "source": [
        "*  Both distribution has same mean but std is different.\n",
        "*  The distribution with small; std is colosed/tight\n",
        "*  the distribution with large  std is (orange color ko) std is determine the how many disperson.\n",
        "*  scatternes of data std le dekhauxa\n",
        "*  std ko square lai variance vanixa"
      ],
      "metadata": {
        "id": "zI7ZIb7BZTlE"
      }
    },
    {
      "cell_type": "markdown",
      "source": [
        "# Dispersion\n",
        " Dispersion is the measure of how spread out our data is.\n",
        "\n",
        " Types:\n",
        " * Range\n",
        " * Standard deviation\n",
        " * Variance\n",
        " * Quartiles\n",
        " * skewness and Kurtosis"
      ],
      "metadata": {
        "id": "AMQPbsg04ydg"
      }
    },
    {
      "cell_type": "code",
      "source": [
        "# deviation : the deviation is the distance from the center point.\n",
        "mean = 5\n",
        "data_point = 8\n",
        "deviation = data_point - mean"
      ],
      "metadata": {
        "id": "0govj8f94p5h"
      },
      "execution_count": 14,
      "outputs": []
    },
    {
      "cell_type": "code",
      "source": [
        "absolute_deviation = np.abs(deviation)\n",
        "absolute_deviation"
      ],
      "metadata": {
        "colab": {
          "base_uri": "https://localhost:8080/"
        },
        "id": "FrUl5pmd5x4r",
        "outputId": "d8ea4c2e-5029-4410-a085-f7a802855080"
      },
      "execution_count": 15,
      "outputs": [
        {
          "output_type": "execute_result",
          "data": {
            "text/plain": [
              "3"
            ]
          },
          "metadata": {},
          "execution_count": 15
        }
      ]
    },
    {
      "cell_type": "code",
      "source": [
        "std = np.std(deviation)\n",
        "std"
      ],
      "metadata": {
        "colab": {
          "base_uri": "https://localhost:8080/"
        },
        "id": "NV4EkEjMbpQb",
        "outputId": "71557d96-06b8-4b3c-cb87-d7da6ef99f74"
      },
      "execution_count": 25,
      "outputs": [
        {
          "output_type": "execute_result",
          "data": {
            "text/plain": [
              "0.0"
            ]
          },
          "metadata": {},
          "execution_count": 25
        }
      ]
    },
    {
      "cell_type": "markdown",
      "source": [],
      "metadata": {
        "id": "dBM-rfpVcOjV"
      }
    },
    {
      "cell_type": "markdown",
      "source": [
        "# Standart deviation formula\n",
        "\n",
        "<img src=\"https://media.geeksforgeeks.org/wp-content/uploads/20230605181802/Standard-Deviation-Formula.png\">"
      ],
      "metadata": {
        "id": "QrOv0LxJ6M1o"
      }
    },
    {
      "cell_type": "markdown",
      "source": [
        "*  standard deviation is an outlier sensitive data because it has use an mean\n"
      ],
      "metadata": {
        "id": "A4j68h8cblcB"
      }
    },
    {
      "cell_type": "markdown",
      "source": [
        "# Range"
      ],
      "metadata": {
        "id": "0Cqn89YxbVa5"
      }
    },
    {
      "cell_type": "code",
      "source": [
        "data = np.array([3,4,5,6,200])\n",
        "range = np.max(data)-np.min(data)\n",
        "range"
      ],
      "metadata": {
        "colab": {
          "base_uri": "https://localhost:8080/"
        },
        "id": "17paoA2w8hv9",
        "outputId": "eecdd2ed-5900-4b24-81e6-dcc9f8c2c880"
      },
      "execution_count": 17,
      "outputs": [
        {
          "output_type": "execute_result",
          "data": {
            "text/plain": [
              "197"
            ]
          },
          "metadata": {},
          "execution_count": 17
        }
      ]
    },
    {
      "cell_type": "markdown",
      "source": [
        "*  Range is higly sensitive to outliers.\n",
        "*  but range outlier detection ma use hudain why?\n",
        "*  mathi ko example if data 3 ---200 samma xa vane 197 nai aauxa which is not a good measure of outlier"
      ],
      "metadata": {
        "id": "wkcSHVZIbYyM"
      }
    },
    {
      "cell_type": "code",
      "source": [],
      "metadata": {
        "id": "OASdXOk68lEw"
      },
      "execution_count": 18,
      "outputs": []
    }
  ]
}