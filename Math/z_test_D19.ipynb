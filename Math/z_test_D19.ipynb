{
 "cells": [
  {
   "cell_type": "markdown",
   "metadata": {},
   "source": [
    " Q. A teacher claims that the mean score of students in his class is greater than 82 with a standard deviation of 20.\n",
    " \n",
    "  If a sample of 81 students was selected with a mean score of 90 then check if there is enough evidence to support this claim at a 0.05 significance level."
   ]
  },
  {
   "cell_type": "code",
   "execution_count": 9,
   "metadata": {},
   "outputs": [],
   "source": [
    "import numpy as np\n",
    "import scipy.stats as stats\n",
    "H0 = \"There is no enough evidence to support the teacher's claim \"\n",
    "H1 = \"There is enough evidence to support the teacher's claim \"\n"
   ]
  },
  {
   "cell_type": "code",
   "execution_count": 4,
   "metadata": {},
   "outputs": [],
   "source": [
    "# Given data\n",
    "alpha = 0.05\n",
    "population_mean = 82\n",
    "population_std = 20\n",
    "sample_mean = 90\n",
    "sample_size = 81\n"
   ]
  },
  {
   "cell_type": "code",
   "execution_count": 10,
   "metadata": {},
   "outputs": [
    {
     "data": {
      "text/plain": [
       "array([125.28104692,  98.00314417, 109.57475968, 134.81786398,\n",
       "       127.3511598 ,  70.4544424 , 109.00176835,  86.97285583,\n",
       "        87.93562296,  98.21197004,  92.88087142, 119.08547014,\n",
       "       105.2207545 ,  92.43350033,  98.87726465,  96.67348655,\n",
       "       119.88158146,  85.89683472,  96.26135403,  72.91808521,\n",
       "        38.94020368, 103.07237191, 107.28872398,  75.15669959,\n",
       "       135.39509248,  60.91268651,  90.91517035,  86.256323  ,\n",
       "       120.65558429, 119.3871754 ,  93.09894851,  97.56325039,\n",
       "        72.24428505,  50.38407064,  83.04175701,  93.12697938,\n",
       "       114.60581361, 114.04759698,  82.25346365,  83.95394499,\n",
       "        69.0289407 ,  61.59964126,  55.87459619, 129.0155079 ,\n",
       "        79.80695636,  81.23851397,  64.9440928 , 105.54980712,\n",
       "        57.72204305,  85.7451944 ,  72.09066878,  97.73804996,\n",
       "        79.78389725,  66.38735632,  89.43635543,  98.56663741,\n",
       "        91.33034445,  96.04943795,  77.31355813,  82.74517668,\n",
       "        76.55079104,  82.80893677,  73.73707436,  55.47434795,\n",
       "        93.54852285,  81.96438128,  57.39603306,  99.25564511,\n",
       "        71.85403271,  91.03890792, 104.58181124,  92.57965822,\n",
       "       112.78801369,  65.30348359,  98.04683282,  76.30379818,\n",
       "        72.58405702,  78.4230067 ,  83.76894936,  91.12330684,\n",
       "        66.69700318])"
      ]
     },
     "execution_count": 10,
     "metadata": {},
     "output_type": "execute_result"
    }
   ],
   "source": [
    "np.random.seed(0)\n",
    "sample_data = np.random.normal(sample_mean,population_std,sample_size)\n",
    "sample_data"
   ]
  },
  {
   "cell_type": "code",
   "execution_count": 12,
   "metadata": {},
   "outputs": [
    {
     "data": {
      "text/plain": [
       "(3.1549129200542914, 0.0016054601566082814)"
      ]
     },
     "execution_count": 12,
     "metadata": {},
     "output_type": "execute_result"
    }
   ],
   "source": [
    "from statsmodels.stats.weightstats import ztest\n",
    "z_statistic,p_value =ztest(sample_data,value=population_mean)\n",
    "z_statistic,p_value"
   ]
  },
  {
   "cell_type": "code",
   "execution_count": 13,
   "metadata": {},
   "outputs": [
    {
     "name": "stdout",
     "output_type": "stream",
     "text": [
      "We Reject H0\n"
     ]
    }
   ],
   "source": [
    "if p_value < alpha:\n",
    "    print('We Reject H0')\n",
    "else:\n",
    "    print(\"We fail to reject H0\")    "
   ]
  },
  {
   "cell_type": "code",
   "execution_count": null,
   "metadata": {},
   "outputs": [],
   "source": []
  }
 ],
 "metadata": {
  "kernelspec": {
   "display_name": "Python 3",
   "language": "python",
   "name": "python3"
  },
  "language_info": {
   "codemirror_mode": {
    "name": "ipython",
    "version": 3
   },
   "file_extension": ".py",
   "mimetype": "text/x-python",
   "name": "python",
   "nbconvert_exporter": "python",
   "pygments_lexer": "ipython3",
   "version": "3.11.4"
  }
 },
 "nbformat": 4,
 "nbformat_minor": 2
}
