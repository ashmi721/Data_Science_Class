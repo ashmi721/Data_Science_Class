{
 "cells": [
  {
   "cell_type": "markdown",
   "metadata": {},
   "source": [
    " Q. In a population average IQ (population mean $\\mu$ = 100). Then, The doctor tested a new medication to find out whether it increases a IQ or Decreases the IQ.\n",
    " \n",
    " Then after doing the medication, probably after 1 month the sample(n) of 30 participants were taken. Then this 30 population had a average mean of IQ(sample mean = 140) with a sample standard deviation of 20. \n",
    " \n",
    " Did medication affect intelligence? This significance value is 0.05.\n",
    "\n"
   ]
  },
  {
   "cell_type": "code",
   "execution_count": 1,
   "metadata": {},
   "outputs": [],
   "source": [
    "import numpy as np\n",
    "import scipy.stats as stats\n",
    "\n",
    "H0 = \"The medicine affect IQ level\"\n",
    "H1 = \"The medicine affect IQ level has significant\""
   ]
  },
  {
   "cell_type": "code",
   "execution_count": 2,
   "metadata": {},
   "outputs": [],
   "source": [
    "# Given data\n",
    "population_mean = 100\n",
    "sample_std = 20\n",
    "sample_mean = 140\n",
    "sample_size = 30\n",
    "alpha = 0.05\n",
    "\n"
   ]
  },
  {
   "cell_type": "code",
   "execution_count": 3,
   "metadata": {},
   "outputs": [
    {
     "data": {
      "text/plain": [
       "array([175.28104692, 148.00314417, 159.57475968, 184.81786398,\n",
       "       177.3511598 , 120.4544424 , 159.00176835, 136.97285583,\n",
       "       137.93562296, 148.21197004, 142.88087142, 169.08547014,\n",
       "       155.2207545 , 142.43350033, 148.87726465, 146.67348655,\n",
       "       169.88158146, 135.89683472, 146.26135403, 122.91808521,\n",
       "        88.94020368, 153.07237191, 157.28872398, 125.15669959,\n",
       "       185.39509248, 110.91268651, 140.91517035, 136.256323  ,\n",
       "       170.65558429, 169.3871754 ])"
      ]
     },
     "execution_count": 3,
     "metadata": {},
     "output_type": "execute_result"
    }
   ],
   "source": [
    "# Generate the sample data as a numpy array\n",
    "np.random.seed(0)\n",
    "data_sample = np.random.normal(loc =sample_mean,scale=sample_std,size=sample_size)\n",
    "data_sample"
   ]
  },
  {
   "cell_type": "code",
   "execution_count": 4,
   "metadata": {},
   "outputs": [
    {
     "data": {
      "text/plain": [
       "12.160074760867234"
      ]
     },
     "execution_count": 4,
     "metadata": {},
     "output_type": "execute_result"
    }
   ],
   "source": [
    "# perform one sample t-test\n",
    "t_statiscics,p_value = stats.ttest_1samp(data_sample,population_mean)\n",
    "t_statiscics"
   ]
  },
  {
   "cell_type": "code",
   "execution_count": 5,
   "metadata": {},
   "outputs": [
    {
     "name": "stdout",
     "output_type": "stream",
     "text": [
      "t=12.16\n",
      "p_value=0.0000\n",
      "We reject the H0\n"
     ]
    }
   ],
   "source": [
    "if p_value < alpha:\n",
    "    print(f\"t={t_statiscics:.2f}\")\n",
    "    print(f\"p_value={p_value:.4f}\")\n",
    "    print(\"We reject the H0\")\n",
    "else:\n",
    "    print(f\"t={t_statiscics:.2f}\")\n",
    "    print(f\"p_value={p_value:.4f}\")\n",
    "    print(\"We fail to reject the H0\")    "
   ]
  },
  {
   "cell_type": "code",
   "execution_count": null,
   "metadata": {},
   "outputs": [],
   "source": []
  }
 ],
 "metadata": {
  "kernelspec": {
   "display_name": "Python 3",
   "language": "python",
   "name": "python3"
  },
  "language_info": {
   "codemirror_mode": {
    "name": "ipython",
    "version": 3
   },
   "file_extension": ".py",
   "mimetype": "text/x-python",
   "name": "python",
   "nbconvert_exporter": "python",
   "pygments_lexer": "ipython3",
   "version": "3.11.4"
  }
 },
 "nbformat": 4,
 "nbformat_minor": 2
}
