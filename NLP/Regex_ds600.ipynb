{
  "nbformat": 4,
  "nbformat_minor": 0,
  "metadata": {
    "colab": {
      "provenance": []
    },
    "kernelspec": {
      "name": "python3",
      "display_name": "Python 3"
    },
    "language_info": {
      "name": "python"
    }
  },
  "cells": [
    {
      "cell_type": "markdown",
      "source": [
        "# Regular Expressions?\n",
        "Regular expressions or RegEx is a sequence of characters mainly used to find or replace patterns embedded in the text.\n",
        "\n",
        "Some common methods from this module are-\n",
        "* re.match()\n",
        "* re.search()\n",
        "* re.findall()"
      ],
      "metadata": {
        "id": "ywnbTCqfgfuL"
      }
    },
    {
      "cell_type": "markdown",
      "source": [
        "## 1. re.match(pattern,string)\n",
        "\n",
        "The re.match function returns a match object on success and none on failure."
      ],
      "metadata": {
        "id": "IJYDRI7KgzOE"
      }
    },
    {
      "cell_type": "code",
      "execution_count": 3,
      "metadata": {
        "colab": {
          "base_uri": "https://localhost:8080/"
        },
        "id": "IdnzlM7dZ5xq",
        "outputId": "74314b61-d2e3-498a-d54f-8a5be27bf4e0"
      },
      "outputs": [
        {
          "output_type": "execute_result",
          "data": {
            "text/plain": [
              "<re.Match object; span=(0, 5), match='abbys'>"
            ]
          },
          "metadata": {},
          "execution_count": 3
        }
      ],
      "source": [
        "import re\n",
        "pattern = '^a...s$'\n",
        "text = 'abbys'\n",
        "re.match(pattern,text)"
      ]
    },
    {
      "cell_type": "code",
      "source": [
        "pattern = '^a...s$'\n",
        "text = 'an abbys'\n",
        "re.match(pattern,text)"
      ],
      "metadata": {
        "id": "MC5dt-zMaHV-"
      },
      "execution_count": 4,
      "outputs": []
    },
    {
      "cell_type": "markdown",
      "source": [
        "## 2. re.search(pattern,string)\n",
        "Matches the first occurrence of a pattern in the entire string(and not just at the beginning).\n",
        "\n"
      ],
      "metadata": {
        "id": "DZiCRmQLhI0y"
      }
    },
    {
      "cell_type": "code",
      "source": [
        "# search for the pattern \"founded\" in a given string\n",
        "\n",
        "result = re.search('founded',r'Andrew NG founded Coursera. He also founded deeplearning.ai')\n",
        "print(result.group())"
      ],
      "metadata": {
        "colab": {
          "base_uri": "https://localhost:8080/"
        },
        "id": "F4L_dUwrhV80",
        "outputId": "1ff37e81-8b1d-47eb-adc3-7a5f64dc082e"
      },
      "execution_count": 11,
      "outputs": [
        {
          "output_type": "stream",
          "name": "stdout",
          "text": [
            "founded\n"
          ]
        }
      ]
    },
    {
      "cell_type": "markdown",
      "source": [
        "## 3. re.findall(pattern, string)\n",
        "It will return all the occurrences of the pattern from the string."
      ],
      "metadata": {
        "id": "lJt0fGK1hl19"
      }
    },
    {
      "cell_type": "code",
      "source": [
        "# what is the work of square braket?\n",
        "text = \"\"\"\n",
        "Here are the following email address if you want to connect:\n",
        " ashmitak721@gmail.com\n",
        " kashmi@gmail.com\n",
        " ashmitakunwar@gmail.com\n",
        "\n",
        " The last address is:\n",
        " 5712as@gmail.com\n",
        "\"\"\""
      ],
      "metadata": {
        "id": "aQlJR3YfeJRv"
      },
      "execution_count": 5,
      "outputs": []
    },
    {
      "cell_type": "code",
      "source": [
        "pattern = r'\\b[A-Za-z0-9._]+@gmail\\.com\\b'\n",
        "re.findall(pattern,text)"
      ],
      "metadata": {
        "colab": {
          "base_uri": "https://localhost:8080/"
        },
        "id": "Q4crSSftei9Z",
        "outputId": "05fa00cb-f7c7-45b1-e291-0c236afb8207"
      },
      "execution_count": 6,
      "outputs": [
        {
          "output_type": "execute_result",
          "data": {
            "text/plain": [
              "['ashmitak721@gmail.com',\n",
              " 'kashmi@gmail.com',\n",
              " 'ashmitakunwar@gmail.com',\n",
              " '5712as@gmail.com']"
            ]
          },
          "metadata": {},
          "execution_count": 6
        }
      ]
    },
    {
      "cell_type": "code",
      "source": [
        "result = re.search('founded',r'Andrew NG founded Coursera. He also founded deeplearning.ai')\n",
        "print(result.group())"
      ],
      "metadata": {
        "colab": {
          "base_uri": "https://localhost:8080/"
        },
        "id": "HbWL5KKYewcm",
        "outputId": "d91f6e59-0ec0-41ca-f832-e39f2c7af941"
      },
      "execution_count": 7,
      "outputs": [
        {
          "output_type": "stream",
          "name": "stdout",
          "text": [
            "founded\n"
          ]
        }
      ]
    },
    {
      "cell_type": "code",
      "source": [],
      "metadata": {
        "id": "q0O4sU68gWg2"
      },
      "execution_count": null,
      "outputs": []
    }
  ]
}