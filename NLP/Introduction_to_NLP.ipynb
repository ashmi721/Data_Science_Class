{
  "cells": [
    {
      "cell_type": "markdown",
      "metadata": {
        "id": "adc3Gqpg7gOs"
      },
      "source": [
        "\n",
        "# NLP\n",
        "Natural Language Processing ( NLP) is a component of Artificial Intelligence in the field of linguistics that helps a computer to interpret or manipulate the natural language written or spoken by humans, with the help of software.\n",
        "\n",
        "In NLP, Step of building model:\n",
        "\n",
        "1. Text preprocessing Steps:\n",
        "   * Tokenization\n",
        "   * Lower casing\n",
        "   * Stop words removal\n",
        "   * Stemming\n",
        "   * Lemmatization\n",
        "\n",
        "\n",
        "\n"
      ]
    },
    {
      "cell_type": "markdown",
      "metadata": {
        "id": "nx75TUpO_NL-"
      },
      "source": [
        "# Tokenization"
      ]
    },
    {
      "cell_type": "code",
      "execution_count": 33,
      "metadata": {
        "id": "C_vfe5Op94FK"
      },
      "outputs": [],
      "source": [
        "import nltk"
      ]
    },
    {
      "cell_type": "code",
      "execution_count": 34,
      "metadata": {
        "id": "jwFRBqfs_jjC"
      },
      "outputs": [],
      "source": [
        "sent = 'Tokenization is the task of splitting a text into meaningful segments, called tokens'\n"
      ]
    },
    {
      "cell_type": "markdown",
      "metadata": {
        "id": "31fex8brAjov"
      },
      "source": [
        "sent means sentence."
      ]
    },
    {
      "cell_type": "code",
      "execution_count": 35,
      "metadata": {
        "colab": {
          "base_uri": "https://localhost:8080/",
          "height": 702
        },
        "id": "iHuPkjgm_vkh",
        "outputId": "0a96abd2-4599-49b5-dfc0-b2ac27dcaba0"
      },
      "outputs": [
        {
          "data": {
            "text/plain": [
              "['Tokenization',\n",
              " 'is',\n",
              " 'the',\n",
              " 'task',\n",
              " 'of',\n",
              " 'splitting',\n",
              " 'a',\n",
              " 'text',\n",
              " 'into',\n",
              " 'meaningful',\n",
              " 'segments',\n",
              " ',',\n",
              " 'called',\n",
              " 'tokens']"
            ]
          },
          "execution_count": 35,
          "metadata": {},
          "output_type": "execute_result"
        }
      ],
      "source": [
        "nltk.word_tokenize(sent)"
      ]
    },
    {
      "cell_type": "code",
      "execution_count": 4,
      "metadata": {
        "colab": {
          "base_uri": "https://localhost:8080/"
        },
        "id": "clGPuBOh_4Tu",
        "outputId": "4ebf2de9-9493-4dea-b8e0-6a645d0f9a79"
      },
      "outputs": [
        {
          "name": "stderr",
          "output_type": "stream",
          "text": [
            "[nltk_data] Downloading package punkt to\n",
            "[nltk_data]     C:\\Users\\ashmi\\AppData\\Roaming\\nltk_data...\n",
            "[nltk_data]   Package punkt is already up-to-date!\n"
          ]
        },
        {
          "data": {
            "text/plain": [
              "True"
            ]
          },
          "execution_count": 4,
          "metadata": {},
          "output_type": "execute_result"
        }
      ],
      "source": [
        "nltk.download('punkt')"
      ]
    },
    {
      "cell_type": "markdown",
      "metadata": {
        "id": "hB4K1YQe2_iJ"
      },
      "source": [
        "punkit is used to unzipping tokenizers."
      ]
    },
    {
      "cell_type": "code",
      "execution_count": 5,
      "metadata": {
        "colab": {
          "base_uri": "https://localhost:8080/"
        },
        "id": "AhfTfOJ5__rY",
        "outputId": "ee4d920e-cec2-46d4-b7b5-855ca4e95a2a"
      },
      "outputs": [
        {
          "data": {
            "text/plain": [
              "['Tokenization',\n",
              " 'is',\n",
              " 'the',\n",
              " 'task',\n",
              " 'of',\n",
              " 'splitting',\n",
              " 'a',\n",
              " 'text',\n",
              " 'into',\n",
              " 'meaningful',\n",
              " 'segments',\n",
              " ',',\n",
              " 'called',\n",
              " 'tokens']"
            ]
          },
          "execution_count": 5,
          "metadata": {},
          "output_type": "execute_result"
        }
      ],
      "source": [
        "nltk.word_tokenize(sent)"
      ]
    },
    {
      "cell_type": "code",
      "execution_count": 6,
      "metadata": {
        "colab": {
          "base_uri": "https://localhost:8080/"
        },
        "id": "EXt3eKimAB66",
        "outputId": "716b9397-3657-4767-bd64-6bb9c7fa9324"
      },
      "outputs": [
        {
          "data": {
            "text/plain": [
              "['He is a good boy.', 'She is a good girl.', 'Boy and girl are good.']"
            ]
          },
          "execution_count": 6,
          "metadata": {},
          "output_type": "execute_result"
        }
      ],
      "source": [
        "corpus = \"He is a good boy. She is a good girl. Boy and girl are good.\"\n",
        "nltk.sent_tokenize(corpus)"
      ]
    },
    {
      "cell_type": "markdown",
      "metadata": {
        "id": "aOmQOkjUAeim"
      },
      "source": [
        "Paragrapha means corpus."
      ]
    },
    {
      "cell_type": "markdown",
      "metadata": {
        "id": "jZAcZybtA_gj"
      },
      "source": [
        "# Stopwords\n",
        "    \n",
        "    Words like is, the, and, of,a is not much important because it does not add much meaning to the sentence we can remove them using stopwords."
      ]
    },
    {
      "cell_type": "code",
      "execution_count": 7,
      "metadata": {
        "colab": {
          "base_uri": "https://localhost:8080/"
        },
        "id": "WGXcL38qATqs",
        "outputId": "f1dd70b3-8ef3-43dd-ecdd-6e134f8af016"
      },
      "outputs": [
        {
          "name": "stderr",
          "output_type": "stream",
          "text": [
            "[nltk_data] Downloading package stopwords to\n",
            "[nltk_data]     C:\\Users\\ashmi\\AppData\\Roaming\\nltk_data...\n"
          ]
        },
        {
          "name": "stderr",
          "output_type": "stream",
          "text": [
            "[nltk_data]   Unzipping corpora\\stopwords.zip.\n"
          ]
        },
        {
          "data": {
            "text/plain": [
              "True"
            ]
          },
          "execution_count": 7,
          "metadata": {},
          "output_type": "execute_result"
        }
      ],
      "source": [
        "nltk.download('stopwords')"
      ]
    },
    {
      "cell_type": "code",
      "execution_count": 8,
      "metadata": {
        "colab": {
          "base_uri": "https://localhost:8080/"
        },
        "id": "YjCKfuN6BcCW",
        "outputId": "b34a7085-6282-4d01-e45e-bb9c58967b7f"
      },
      "outputs": [
        {
          "data": {
            "text/plain": [
              "['i',\n",
              " 'me',\n",
              " 'my',\n",
              " 'myself',\n",
              " 'we',\n",
              " 'our',\n",
              " 'ours',\n",
              " 'ourselves',\n",
              " 'you',\n",
              " \"you're\",\n",
              " \"you've\",\n",
              " \"you'll\",\n",
              " \"you'd\",\n",
              " 'your',\n",
              " 'yours',\n",
              " 'yourself',\n",
              " 'yourselves',\n",
              " 'he',\n",
              " 'him',\n",
              " 'his',\n",
              " 'himself',\n",
              " 'she',\n",
              " \"she's\",\n",
              " 'her',\n",
              " 'hers',\n",
              " 'herself',\n",
              " 'it',\n",
              " \"it's\",\n",
              " 'its',\n",
              " 'itself',\n",
              " 'they',\n",
              " 'them',\n",
              " 'their',\n",
              " 'theirs',\n",
              " 'themselves',\n",
              " 'what',\n",
              " 'which',\n",
              " 'who',\n",
              " 'whom',\n",
              " 'this',\n",
              " 'that',\n",
              " \"that'll\",\n",
              " 'these',\n",
              " 'those',\n",
              " 'am',\n",
              " 'is',\n",
              " 'are',\n",
              " 'was',\n",
              " 'were',\n",
              " 'be',\n",
              " 'been',\n",
              " 'being',\n",
              " 'have',\n",
              " 'has',\n",
              " 'had',\n",
              " 'having',\n",
              " 'do',\n",
              " 'does',\n",
              " 'did',\n",
              " 'doing',\n",
              " 'a',\n",
              " 'an',\n",
              " 'the',\n",
              " 'and',\n",
              " 'but',\n",
              " 'if',\n",
              " 'or',\n",
              " 'because',\n",
              " 'as',\n",
              " 'until',\n",
              " 'while',\n",
              " 'of',\n",
              " 'at',\n",
              " 'by',\n",
              " 'for',\n",
              " 'with',\n",
              " 'about',\n",
              " 'against',\n",
              " 'between',\n",
              " 'into',\n",
              " 'through',\n",
              " 'during',\n",
              " 'before',\n",
              " 'after',\n",
              " 'above',\n",
              " 'below',\n",
              " 'to',\n",
              " 'from',\n",
              " 'up',\n",
              " 'down',\n",
              " 'in',\n",
              " 'out',\n",
              " 'on',\n",
              " 'off',\n",
              " 'over',\n",
              " 'under',\n",
              " 'again',\n",
              " 'further',\n",
              " 'then',\n",
              " 'once',\n",
              " 'here',\n",
              " 'there',\n",
              " 'when',\n",
              " 'where',\n",
              " 'why',\n",
              " 'how',\n",
              " 'all',\n",
              " 'any',\n",
              " 'both',\n",
              " 'each',\n",
              " 'few',\n",
              " 'more',\n",
              " 'most',\n",
              " 'other',\n",
              " 'some',\n",
              " 'such',\n",
              " 'no',\n",
              " 'nor',\n",
              " 'not',\n",
              " 'only',\n",
              " 'own',\n",
              " 'same',\n",
              " 'so',\n",
              " 'than',\n",
              " 'too',\n",
              " 'very',\n",
              " 's',\n",
              " 't',\n",
              " 'can',\n",
              " 'will',\n",
              " 'just',\n",
              " 'don',\n",
              " \"don't\",\n",
              " 'should',\n",
              " \"should've\",\n",
              " 'now',\n",
              " 'd',\n",
              " 'll',\n",
              " 'm',\n",
              " 'o',\n",
              " 're',\n",
              " 've',\n",
              " 'y',\n",
              " 'ain',\n",
              " 'aren',\n",
              " \"aren't\",\n",
              " 'couldn',\n",
              " \"couldn't\",\n",
              " 'didn',\n",
              " \"didn't\",\n",
              " 'doesn',\n",
              " \"doesn't\",\n",
              " 'hadn',\n",
              " \"hadn't\",\n",
              " 'hasn',\n",
              " \"hasn't\",\n",
              " 'haven',\n",
              " \"haven't\",\n",
              " 'isn',\n",
              " \"isn't\",\n",
              " 'ma',\n",
              " 'mightn',\n",
              " \"mightn't\",\n",
              " 'mustn',\n",
              " \"mustn't\",\n",
              " 'needn',\n",
              " \"needn't\",\n",
              " 'shan',\n",
              " \"shan't\",\n",
              " 'shouldn',\n",
              " \"shouldn't\",\n",
              " 'wasn',\n",
              " \"wasn't\",\n",
              " 'weren',\n",
              " \"weren't\",\n",
              " 'won',\n",
              " \"won't\",\n",
              " 'wouldn',\n",
              " \"wouldn't\"]"
            ]
          },
          "execution_count": 8,
          "metadata": {},
          "output_type": "execute_result"
        }
      ],
      "source": [
        "nltk.corpus.stopwords.words('english')"
      ]
    },
    {
      "cell_type": "code",
      "execution_count": null,
      "metadata": {
        "id": "xJO42NiGBqLi"
      },
      "outputs": [],
      "source": [
        "nltk.corpus.stopwords.words('nepali')"
      ]
    },
    {
      "cell_type": "code",
      "execution_count": 10,
      "metadata": {
        "id": "XrBTZrfbBwge"
      },
      "outputs": [],
      "source": [
        "sent = 'He is a good boy'\n",
        "sentence = sent.lower()"
      ]
    },
    {
      "cell_type": "code",
      "execution_count": 11,
      "metadata": {
        "colab": {
          "base_uri": "https://localhost:8080/"
        },
        "id": "CQ2AqsiQCP-5",
        "outputId": "3604c06d-2c62-4975-ab6b-0d764948657a"
      },
      "outputs": [
        {
          "data": {
            "text/plain": [
              "['He', 'is', 'a', 'good', 'boy']"
            ]
          },
          "execution_count": 11,
          "metadata": {},
          "output_type": "execute_result"
        }
      ],
      "source": [
        "# to tokenize word\n",
        "word = nltk.word_tokenize(sent)\n",
        "word\n"
      ]
    },
    {
      "cell_type": "code",
      "execution_count": 12,
      "metadata": {
        "colab": {
          "base_uri": "https://localhost:8080/"
        },
        "id": "lYpb0GFo-5TI",
        "outputId": "fe9f855f-4dae-4610-8981-7630d5720782"
      },
      "outputs": [
        {
          "data": {
            "text/plain": [
              "['he', 'is', 'a', 'good', 'boy']"
            ]
          },
          "execution_count": 12,
          "metadata": {},
          "output_type": "execute_result"
        }
      ],
      "source": [
        "words = nltk.word_tokenize(sentence)\n",
        "words"
      ]
    },
    {
      "cell_type": "code",
      "execution_count": 13,
      "metadata": {
        "colab": {
          "base_uri": "https://localhost:8080/"
        },
        "id": "Zw1fNgN6CqiB",
        "outputId": "62d868a0-5b2d-44f4-d779-fb29514c0308"
      },
      "outputs": [
        {
          "data": {
            "text/plain": [
              "['good', 'boy']"
            ]
          },
          "execution_count": 13,
          "metadata": {},
          "output_type": "execute_result"
        }
      ],
      "source": [
        "stopwords = nltk.corpus.stopwords.words('english')\n",
        "[word for word in words if word not in stopwords]"
      ]
    },
    {
      "cell_type": "markdown",
      "metadata": {
        "id": "zlrYN31w9kaN"
      },
      "source": [
        "* Stopwords are case sensitive i.e it is only in lowercase.so we convert sentence into lowercase, than after remove the stopwords"
      ]
    },
    {
      "cell_type": "code",
      "execution_count": null,
      "metadata": {
        "id": "Dfq17sFk-f3S"
      },
      "outputs": [],
      "source": []
    },
    {
      "cell_type": "markdown",
      "metadata": {
        "id": "MBvz-EWkDIhk"
      },
      "source": [
        "# Removing HTML from the text\n"
      ]
    },
    {
      "cell_type": "code",
      "execution_count": 14,
      "metadata": {
        "id": "4yJuVQhjC9oA"
      },
      "outputs": [],
      "source": [
        "sent = '<h1>Nepal to raise its concerns about the <b>DPR</b> of Raxaul-Kathmandu railway.</h1>'"
      ]
    },
    {
      "cell_type": "code",
      "execution_count": 15,
      "metadata": {
        "colab": {
          "base_uri": "https://localhost:8080/",
          "height": 36
        },
        "id": "gg2QpYHEDgtx",
        "outputId": "13985eb2-3f71-4b3c-af77-e65b46762179"
      },
      "outputs": [
        {
          "data": {
            "text/plain": [
              "'Nepal to raise its concerns about the DPR of Raxaul-Kathmandu railway.'"
            ]
          },
          "execution_count": 15,
          "metadata": {},
          "output_type": "execute_result"
        }
      ],
      "source": [
        "from bs4 import BeautifulSoup\n",
        "soup = BeautifulSoup(sent,'html.parser')\n",
        "soup.text"
      ]
    },
    {
      "cell_type": "markdown",
      "metadata": {
        "id": "iJHLGjRYEByj"
      },
      "source": [
        "# Stemming\n",
        "\n",
        "Stemming:  convert word into rood word or base word stem or base word - word may not have any meaning -very fast.\n",
        "\n",
        "stemming is used to finding the root word\n",
        "\n",
        "* Application of Stemming\n",
        "   * sentiment analysis\n",
        "   * review classification"
      ]
    },
    {
      "cell_type": "code",
      "execution_count": 16,
      "metadata": {
        "id": "wYRuP3wEDxI1"
      },
      "outputs": [],
      "source": [
        "words = ['change','changes','changed']"
      ]
    },
    {
      "cell_type": "code",
      "execution_count": 17,
      "metadata": {
        "colab": {
          "base_uri": "https://localhost:8080/"
        },
        "id": "BnBHmS6EEqE7",
        "outputId": "e330aa47-0457-487c-db8e-8d5a972d7feb"
      },
      "outputs": [
        {
          "data": {
            "text/plain": [
              "<PorterStemmer>"
            ]
          },
          "execution_count": 17,
          "metadata": {},
          "output_type": "execute_result"
        }
      ],
      "source": [
        "stemmer = nltk.stem.PorterStemmer()\n",
        "stemmer"
      ]
    },
    {
      "cell_type": "code",
      "execution_count": 18,
      "metadata": {
        "colab": {
          "base_uri": "https://localhost:8080/"
        },
        "id": "9bUT3rFcExJV",
        "outputId": "527ade97-5f09-4a3a-f8d1-b698051d0ec9"
      },
      "outputs": [
        {
          "data": {
            "text/plain": [
              "['chang', 'chang', 'chang']"
            ]
          },
          "execution_count": 18,
          "metadata": {},
          "output_type": "execute_result"
        }
      ],
      "source": [
        "[stemmer.stem(word) for word in words]"
      ]
    },
    {
      "cell_type": "markdown",
      "metadata": {
        "id": "sQhGaAj8FUXI"
      },
      "source": [
        "# Lemmatization\n",
        "Lemmatization :  Lemmatization deals with reducing the word to its canonical dictionary form . The rood word is called a 'lemma' and the method is called lemmatization. - slow\n",
        "\n",
        "To lemmatization a sentence by using wordnet\n",
        "\n",
        "* Application:\n",
        "  * summarization, chatbot"
      ]
    },
    {
      "cell_type": "code",
      "execution_count": 19,
      "metadata": {
        "id": "ZY19lSnnE6TQ"
      },
      "outputs": [],
      "source": [
        "words = ['change','changes','changed']"
      ]
    },
    {
      "cell_type": "code",
      "execution_count": 20,
      "metadata": {
        "colab": {
          "base_uri": "https://localhost:8080/"
        },
        "id": "Po0a6UyHF3-m",
        "outputId": "fec6e9ac-3666-45f4-ed39-7927a1a66b45"
      },
      "outputs": [
        {
          "name": "stderr",
          "output_type": "stream",
          "text": [
            "[nltk_data] Downloading package wordnet to\n",
            "[nltk_data]     C:\\Users\\ashmi\\AppData\\Roaming\\nltk_data...\n",
            "[nltk_data]   Package wordnet is already up-to-date!\n"
          ]
        },
        {
          "data": {
            "text/plain": [
              "True"
            ]
          },
          "execution_count": 20,
          "metadata": {},
          "output_type": "execute_result"
        }
      ],
      "source": [
        "nltk.download('wordnet')"
      ]
    },
    {
      "cell_type": "code",
      "execution_count": 21,
      "metadata": {
        "id": "YwVjwCyQF_EK"
      },
      "outputs": [],
      "source": [
        "lemmatizer = nltk.stem.WordNetLemmatizer()"
      ]
    },
    {
      "cell_type": "code",
      "execution_count": 22,
      "metadata": {
        "colab": {
          "base_uri": "https://localhost:8080/"
        },
        "id": "-DsKctPiGIfa",
        "outputId": "d5d86ea4-552c-45c0-8611-5ba68c72c2ed"
      },
      "outputs": [
        {
          "data": {
            "text/plain": [
              "['change', 'change', 'changed']"
            ]
          },
          "execution_count": 22,
          "metadata": {},
          "output_type": "execute_result"
        }
      ],
      "source": [
        "[lemmatizer.lemmatize(word) for word in words]\n"
      ]
    },
    {
      "cell_type": "markdown",
      "metadata": {
        "id": "H1CvRoAgGvPf"
      },
      "source": [
        "# Converting text to vector\n",
        "* Bag of words/ CountVectorizer()\n",
        "* Tfidf\n",
        "\n",
        "In NLP\n",
        "\n",
        " * corpus is an collection of document.\n",
        " * document is an no of rows.\n",
        " * vocablary is an unique word of the corpus."
      ]
    },
    {
      "cell_type": "code",
      "execution_count": 23,
      "metadata": {
        "id": "XnOiSM2zGO_a"
      },
      "outputs": [],
      "source": [
        "d1 = 'He is a lazy boy. she is also lazy.'\n",
        "d2 = 'Neeraj is a lazy person'\n",
        "corpus = [d1,d2]\n"
      ]
    },
    {
      "cell_type": "code",
      "execution_count": 24,
      "metadata": {
        "id": "AZ63AcPYHgwR"
      },
      "outputs": [],
      "source": [
        "from sklearn.feature_extraction.text import CountVectorizer\n",
        "vectorizer = CountVectorizer()"
      ]
    },
    {
      "cell_type": "code",
      "execution_count": 25,
      "metadata": {
        "colab": {
          "base_uri": "https://localhost:8080/"
        },
        "id": "uSkVwBKSH0VT",
        "outputId": "2b52ec7d-fe83-4e86-b306-d16addf5b529"
      },
      "outputs": [
        {
          "data": {
            "text/plain": [
              "<2x8 sparse matrix of type '<class 'numpy.int64'>'\n",
              "\twith 10 stored elements in Compressed Sparse Row format>"
            ]
          },
          "execution_count": 25,
          "metadata": {},
          "output_type": "execute_result"
        }
      ],
      "source": [
        "X = vectorizer.fit_transform(corpus)\n",
        "X"
      ]
    },
    {
      "cell_type": "code",
      "execution_count": 26,
      "metadata": {
        "colab": {
          "base_uri": "https://localhost:8080/"
        },
        "id": "vnlOKN4-H8a8",
        "outputId": "87fc4da7-96fb-4e3d-acca-afe5ccead1f7"
      },
      "outputs": [
        {
          "data": {
            "text/plain": [
              "array([[1, 1, 1, 2, 2, 0, 0, 1],\n",
              "       [0, 0, 0, 1, 1, 1, 1, 0]], dtype=int64)"
            ]
          },
          "execution_count": 26,
          "metadata": {},
          "output_type": "execute_result"
        }
      ],
      "source": [
        "X.toarray()"
      ]
    },
    {
      "cell_type": "code",
      "execution_count": 27,
      "metadata": {
        "colab": {
          "base_uri": "https://localhost:8080/"
        },
        "id": "fh7Y8oMXINv9",
        "outputId": "5f28d16a-6814-490a-9257-cac25969a03f"
      },
      "outputs": [
        {
          "data": {
            "text/plain": [
              "array(['also', 'boy', 'he', 'is', 'lazy', 'neeraj', 'person', 'she'],\n",
              "      dtype=object)"
            ]
          },
          "execution_count": 27,
          "metadata": {},
          "output_type": "execute_result"
        }
      ],
      "source": [
        "import pandas as pd\n",
        "vocab = vectorizer.get_feature_names_out()\n",
        "vocab"
      ]
    },
    {
      "cell_type": "markdown",
      "metadata": {
        "id": "dr6f3cJaIcHF"
      },
      "source": [
        " this is an columns"
      ]
    },
    {
      "cell_type": "code",
      "execution_count": 28,
      "metadata": {
        "colab": {
          "base_uri": "https://localhost:8080/",
          "height": 112
        },
        "id": "4E2Z7FuXIaau",
        "outputId": "3db180b5-92cc-4bc9-b483-f46c1a722a7a"
      },
      "outputs": [
        {
          "data": {
            "text/html": [
              "<div>\n",
              "<style scoped>\n",
              "    .dataframe tbody tr th:only-of-type {\n",
              "        vertical-align: middle;\n",
              "    }\n",
              "\n",
              "    .dataframe tbody tr th {\n",
              "        vertical-align: top;\n",
              "    }\n",
              "\n",
              "    .dataframe thead th {\n",
              "        text-align: right;\n",
              "    }\n",
              "</style>\n",
              "<table border=\"1\" class=\"dataframe\">\n",
              "  <thead>\n",
              "    <tr style=\"text-align: right;\">\n",
              "      <th></th>\n",
              "      <th>also</th>\n",
              "      <th>boy</th>\n",
              "      <th>he</th>\n",
              "      <th>is</th>\n",
              "      <th>lazy</th>\n",
              "      <th>neeraj</th>\n",
              "      <th>person</th>\n",
              "      <th>she</th>\n",
              "    </tr>\n",
              "  </thead>\n",
              "  <tbody>\n",
              "    <tr>\n",
              "      <th>0</th>\n",
              "      <td>1</td>\n",
              "      <td>1</td>\n",
              "      <td>1</td>\n",
              "      <td>2</td>\n",
              "      <td>2</td>\n",
              "      <td>0</td>\n",
              "      <td>0</td>\n",
              "      <td>1</td>\n",
              "    </tr>\n",
              "    <tr>\n",
              "      <th>1</th>\n",
              "      <td>0</td>\n",
              "      <td>0</td>\n",
              "      <td>0</td>\n",
              "      <td>1</td>\n",
              "      <td>1</td>\n",
              "      <td>1</td>\n",
              "      <td>1</td>\n",
              "      <td>0</td>\n",
              "    </tr>\n",
              "  </tbody>\n",
              "</table>\n",
              "</div>"
            ],
            "text/plain": [
              "   also  boy  he  is  lazy  neeraj  person  she\n",
              "0     1    1   1   2     2       0       0    1\n",
              "1     0    0   0   1     1       1       1    0"
            ]
          },
          "execution_count": 28,
          "metadata": {},
          "output_type": "execute_result"
        }
      ],
      "source": [
        "pd.DataFrame(X.toarray(),columns=vocab)"
      ]
    },
    {
      "cell_type": "markdown",
      "metadata": {
        "id": "sDvfKx2nJYGw"
      },
      "source": [
        "To Removing the stop_words"
      ]
    },
    {
      "cell_type": "code",
      "execution_count": 29,
      "metadata": {
        "colab": {
          "base_uri": "https://localhost:8080/",
          "height": 112
        },
        "id": "lyQBysuEIjsn",
        "outputId": "60b77e67-775c-42bf-dc54-cd3792ee7fe0"
      },
      "outputs": [
        {
          "data": {
            "text/html": [
              "<div>\n",
              "<style scoped>\n",
              "    .dataframe tbody tr th:only-of-type {\n",
              "        vertical-align: middle;\n",
              "    }\n",
              "\n",
              "    .dataframe tbody tr th {\n",
              "        vertical-align: top;\n",
              "    }\n",
              "\n",
              "    .dataframe thead th {\n",
              "        text-align: right;\n",
              "    }\n",
              "</style>\n",
              "<table border=\"1\" class=\"dataframe\">\n",
              "  <thead>\n",
              "    <tr style=\"text-align: right;\">\n",
              "      <th></th>\n",
              "      <th>boy</th>\n",
              "      <th>lazy</th>\n",
              "      <th>neeraj</th>\n",
              "      <th>person</th>\n",
              "    </tr>\n",
              "  </thead>\n",
              "  <tbody>\n",
              "    <tr>\n",
              "      <th>0</th>\n",
              "      <td>1</td>\n",
              "      <td>2</td>\n",
              "      <td>0</td>\n",
              "      <td>0</td>\n",
              "    </tr>\n",
              "    <tr>\n",
              "      <th>1</th>\n",
              "      <td>0</td>\n",
              "      <td>1</td>\n",
              "      <td>1</td>\n",
              "      <td>1</td>\n",
              "    </tr>\n",
              "  </tbody>\n",
              "</table>\n",
              "</div>"
            ],
            "text/plain": [
              "   boy  lazy  neeraj  person\n",
              "0    1     2       0       0\n",
              "1    0     1       1       1"
            ]
          },
          "execution_count": 29,
          "metadata": {},
          "output_type": "execute_result"
        }
      ],
      "source": [
        "d1 = 'He is a lazy boy. she is also lazy.'\n",
        "d2 = 'Neeraj is a lazy person'\n",
        "corpus = [d1,d2]\n",
        "vectorizer = CountVectorizer(stop_words = 'english')\n",
        "X = vectorizer.fit_transform(corpus)\n",
        "vocab = vectorizer.get_feature_names_out()\n",
        "pd.DataFrame(X.toarray(),columns=vocab)"
      ]
    },
    {
      "cell_type": "code",
      "execution_count": 30,
      "metadata": {
        "id": "b0s9jFSfJWnU"
      },
      "outputs": [],
      "source": [
        "d1 = 'He is a good boy.'\n",
        "d2 = 'she is a good girl.'\n",
        "d3 = 'boy and girl are good'\n",
        "d4 = 'good boy and good girl are good for the society'\n",
        "corpus = [d1,d2,d3,d4]\n"
      ]
    },
    {
      "cell_type": "code",
      "execution_count": 31,
      "metadata": {
        "colab": {
          "base_uri": "https://localhost:8080/",
          "height": 175
        },
        "id": "TpQTO-pgKoIh",
        "outputId": "62ce2596-c0e4-4269-8ffa-0bee56e0ed06"
      },
      "outputs": [
        {
          "data": {
            "text/html": [
              "<div>\n",
              "<style scoped>\n",
              "    .dataframe tbody tr th:only-of-type {\n",
              "        vertical-align: middle;\n",
              "    }\n",
              "\n",
              "    .dataframe tbody tr th {\n",
              "        vertical-align: top;\n",
              "    }\n",
              "\n",
              "    .dataframe thead th {\n",
              "        text-align: right;\n",
              "    }\n",
              "</style>\n",
              "<table border=\"1\" class=\"dataframe\">\n",
              "  <thead>\n",
              "    <tr style=\"text-align: right;\">\n",
              "      <th></th>\n",
              "      <th>boy</th>\n",
              "      <th>girl</th>\n",
              "      <th>good</th>\n",
              "      <th>society</th>\n",
              "    </tr>\n",
              "  </thead>\n",
              "  <tbody>\n",
              "    <tr>\n",
              "      <th>0</th>\n",
              "      <td>1</td>\n",
              "      <td>0</td>\n",
              "      <td>1</td>\n",
              "      <td>0</td>\n",
              "    </tr>\n",
              "    <tr>\n",
              "      <th>1</th>\n",
              "      <td>0</td>\n",
              "      <td>1</td>\n",
              "      <td>1</td>\n",
              "      <td>0</td>\n",
              "    </tr>\n",
              "    <tr>\n",
              "      <th>2</th>\n",
              "      <td>1</td>\n",
              "      <td>1</td>\n",
              "      <td>1</td>\n",
              "      <td>0</td>\n",
              "    </tr>\n",
              "    <tr>\n",
              "      <th>3</th>\n",
              "      <td>1</td>\n",
              "      <td>1</td>\n",
              "      <td>3</td>\n",
              "      <td>1</td>\n",
              "    </tr>\n",
              "  </tbody>\n",
              "</table>\n",
              "</div>"
            ],
            "text/plain": [
              "   boy  girl  good  society\n",
              "0    1     0     1        0\n",
              "1    0     1     1        0\n",
              "2    1     1     1        0\n",
              "3    1     1     3        1"
            ]
          },
          "execution_count": 31,
          "metadata": {},
          "output_type": "execute_result"
        }
      ],
      "source": [
        "vectorizer = CountVectorizer(stop_words = 'english')\n",
        "X = vectorizer.fit_transform(corpus)\n",
        "vocab = vectorizer.get_feature_names_out()\n",
        "pd.DataFrame(X.toarray(),columns=vocab)"
      ]
    },
    {
      "cell_type": "markdown",
      "metadata": {
        "id": "8ZcpKUQdK_FE"
      },
      "source": [
        "Count vectorizer gives more weight to freqency occring word.\n",
        "\n",
        "For eg : the keywords might appear only few time so we might want to boost the important of rare occuring word. In such a case countvectorizer falls. Therefore we use tfidf vectorizer which gives weight to rare occuring words."
      ]
    },
    {
      "cell_type": "code",
      "execution_count": 32,
      "metadata": {
        "colab": {
          "base_uri": "https://localhost:8080/",
          "height": 175
        },
        "id": "s28lvI9gKpq_",
        "outputId": "d7341eed-cf4a-461b-eac6-10549996f9bc"
      },
      "outputs": [
        {
          "data": {
            "text/html": [
              "<div>\n",
              "<style scoped>\n",
              "    .dataframe tbody tr th:only-of-type {\n",
              "        vertical-align: middle;\n",
              "    }\n",
              "\n",
              "    .dataframe tbody tr th {\n",
              "        vertical-align: top;\n",
              "    }\n",
              "\n",
              "    .dataframe thead th {\n",
              "        text-align: right;\n",
              "    }\n",
              "</style>\n",
              "<table border=\"1\" class=\"dataframe\">\n",
              "  <thead>\n",
              "    <tr style=\"text-align: right;\">\n",
              "      <th></th>\n",
              "      <th>boy</th>\n",
              "      <th>girl</th>\n",
              "      <th>good</th>\n",
              "      <th>society</th>\n",
              "    </tr>\n",
              "  </thead>\n",
              "  <tbody>\n",
              "    <tr>\n",
              "      <th>0</th>\n",
              "      <td>0.774191</td>\n",
              "      <td>0.000000</td>\n",
              "      <td>0.632952</td>\n",
              "      <td>0.000000</td>\n",
              "    </tr>\n",
              "    <tr>\n",
              "      <th>1</th>\n",
              "      <td>0.000000</td>\n",
              "      <td>0.774191</td>\n",
              "      <td>0.632952</td>\n",
              "      <td>0.000000</td>\n",
              "    </tr>\n",
              "    <tr>\n",
              "      <th>2</th>\n",
              "      <td>0.612172</td>\n",
              "      <td>0.612172</td>\n",
              "      <td>0.500491</td>\n",
              "      <td>0.000000</td>\n",
              "    </tr>\n",
              "    <tr>\n",
              "      <th>3</th>\n",
              "      <td>0.309045</td>\n",
              "      <td>0.309045</td>\n",
              "      <td>0.757993</td>\n",
              "      <td>0.484178</td>\n",
              "    </tr>\n",
              "  </tbody>\n",
              "</table>\n",
              "</div>"
            ],
            "text/plain": [
              "        boy      girl      good   society\n",
              "0  0.774191  0.000000  0.632952  0.000000\n",
              "1  0.000000  0.774191  0.632952  0.000000\n",
              "2  0.612172  0.612172  0.500491  0.000000\n",
              "3  0.309045  0.309045  0.757993  0.484178"
            ]
          },
          "execution_count": 32,
          "metadata": {},
          "output_type": "execute_result"
        }
      ],
      "source": [
        "from sklearn.feature_extraction.text import TfidfVectorizer\n",
        "vectorizer = TfidfVectorizer(stop_words = 'english')\n",
        "X = vectorizer.fit_transform(corpus)\n",
        "vocab = vectorizer.get_feature_names_out()\n",
        "pd.DataFrame(X.toarray(),columns=vocab)"
      ]
    },
    {
      "cell_type": "markdown",
      "metadata": {
        "id": "ENVo3mlHMuVC"
      },
      "source": [
        "tfidf le rare occurance word lai ni equlity frequently dinxa as compare to few words"
      ]
    }
  ],
  "metadata": {
    "colab": {
      "provenance": []
    },
    "kernelspec": {
      "display_name": "Python 3",
      "name": "python3"
    },
    "language_info": {
      "codemirror_mode": {
        "name": "ipython",
        "version": 3
      },
      "file_extension": ".py",
      "mimetype": "text/x-python",
      "name": "python",
      "nbconvert_exporter": "python",
      "pygments_lexer": "ipython3",
      "version": "3.11.4"
    }
  },
  "nbformat": 4,
  "nbformat_minor": 0
}
